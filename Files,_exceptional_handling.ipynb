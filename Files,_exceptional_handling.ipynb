{
  "nbformat": 4,
  "nbformat_minor": 0,
  "metadata": {
    "colab": {
      "provenance": []
    },
    "kernelspec": {
      "name": "python3",
      "display_name": "Python 3"
    },
    "language_info": {
      "name": "python"
    }
  },
  "cells": [
    {
      "cell_type": "markdown",
      "source": [
        "**1. What is the difference between interpreted and compiled languages**\n",
        "\n"
      ],
      "metadata": {
        "id": "TQsuMGpTShn0"
      }
    },
    {
      "cell_type": "markdown",
      "source": [
        "The difference between interpreted and compiled languages lies in how the code is executed by the computer:\n",
        "\n",
        "**Compiled Languages**\n",
        "\n",
        "Process: Code is translated directly into machine code (binary) by a compiler before being executed. This machine code is specific to the target platform.\n",
        "\n",
        "Execution: The compiled program can be run directly by the computer's processor without any additional tools.\n",
        "\n",
        "Speed: Typically faster during execution because the translation to machine code happens beforehand.\n",
        "\n",
        "Portability: Requires recompilation for each target platform (e.g., Windows, macOS, Linux).\n",
        "\n",
        "Examples: C, C++, Rust, Go.\n",
        "\n",
        "Pros:\n",
        "\n",
        "Faster execution.\n",
        "\n",
        "Optimized for the hardware.\n",
        "\n",
        "Better for performance-critical applications.\n",
        "\n",
        "Cons:\n",
        "\n",
        "Longer development cycle due to the compilation step.\n",
        "\n",
        "Platform dependency.\n",
        "\n",
        "**Interpreted Languages**\n",
        "\n",
        "Process: Code is executed line by line or block by block by an interpreter, without prior compilation into machine code.\n",
        "\n",
        "Execution: The interpreter reads and executes the code at runtime.\n",
        "\n",
        "Speed: Typically slower during execution because the code is interpreted on the fly.\n",
        "\n",
        "Portability: Highly portable as long as an appropriate interpreter is available for the platform.\n",
        "\n",
        "Examples: Python, JavaScript, Ruby, PHP.\n",
        "\n",
        "Pros:\n",
        "\n",
        "Easier to debug because errors are caught at runtime.\n",
        "\n",
        "More flexible and faster development cycle since no separate compilation step is required.\n",
        "\n",
        "Highly portable.\n",
        "\n",
        "Cons:\n",
        "\n",
        "Slower execution.\n",
        "\n",
        "Additional overhead due to the need for an interpreter."
      ],
      "metadata": {
        "id": "zAdCm3d7SoqX"
      }
    },
    {
      "cell_type": "markdown",
      "source": [
        "**2. What is exception handling in Python**\n"
      ],
      "metadata": {
        "id": "QcWYK7o4V1wd"
      }
    },
    {
      "cell_type": "markdown",
      "source": [
        "Exception handling in Python is a mechanism that allows a program to deal with unexpected errors during runtime without crashing. It provides a way to gracefully handle errors, ensuring the program can recover or terminate cleanly.\n",
        "\n",
        "Key Concepts of Exception Handling in Python:\n",
        "\n",
        "1. Exception: An error that occurs during the execution of a program. Examples include ZeroDivisionError, FileNotFoundError, and ValueError.\n",
        "\n",
        "2. Try-Except Block: Python uses the try and except keywords to handle exceptions.\n",
        "\n",
        "a. try block: Contains the code that might raise an exception.\n",
        "b. except block: Contains the code to handle the exception.\n",
        "\n",
        " Syntax:\n",
        "\n",
        " try:\n",
        "    # Code that may raise an exception\n",
        "except ExceptionType:\n",
        "    # Code to handle the exception\n",
        "\n",
        "\n",
        "Benefits of Exception Handling\n",
        "\n",
        "1. Prevents Crashes: Ensures the program doesn't abruptly terminate on encountering errors.\n",
        "2. Graceful Degradation: Allows the program to recover or provide meaningful feedback to the user.\n",
        "3. Debugging: Makes it easier to identify and handle specific errors."
      ],
      "metadata": {
        "id": "z-lPuy6QWBoS"
      }
    },
    {
      "cell_type": "markdown",
      "source": [
        "**3. What is the purpose of the finally block in exception handling?**"
      ],
      "metadata": {
        "id": "ItUD5D6jWiOl"
      }
    },
    {
      "cell_type": "markdown",
      "source": [
        "The finally block in exception handling is used to define code that should execute no matter what happens, regardless of whether an exception was raised or not. It ensures cleanup or final steps are always performed, making it especially useful for tasks like releasing resources, closing files, or terminating network connections.\n",
        "\n",
        "Purpose of the finally Block:\n",
        "\n",
        "1. Resource Cleanup: Ensures resources such as files, database connections, or network sockets are properly closed, even if an error occurs.\n",
        "2. Guaranteed Execution: Executes regardless of whether:\n",
        "\n",
        " An exception was raised and handled.\n",
        "\n",
        " No exception was raised.\n",
        "\n",
        " An exception was raised but not handled.\n",
        "3. Post-Execution Logic: Ensures certain tasks are completed after the try and except blocks.\n"
      ],
      "metadata": {
        "id": "S0oymBkuW2Ry"
      }
    },
    {
      "cell_type": "markdown",
      "source": [
        "**4. What is logging in Python?**\n"
      ],
      "metadata": {
        "id": "9gFgz3vuXSN3"
      }
    },
    {
      "cell_type": "markdown",
      "source": [
        "Logging in Python is the process of recording events, errors, or messages from a program to help with debugging, monitoring, and maintaining software. It provides a way to track the flow of a program and identify potential issues, especially in larger or production environments.\n",
        "\n",
        "\n",
        "Python includes a built-in logging module that allows developers to log messages at different severity levels and configure where these logs are stored (e.g., console, files, or remote servers).\n",
        "\n",
        "Why Use Logging?\n",
        "\n",
        "1. Debugging: Helps identify issues in the code by capturing runtime information.\n",
        "2. Monitoring: Tracks the program's state or user activity.\n",
        "3. Error Diagnosis: Captures error messages and stack traces for later review.\n",
        "4. Production Use: Avoids printing directly to the console, which is not ideal in deployed systems.\n",
        "\n",
        "\n"
      ],
      "metadata": {
        "id": "twAYeDGSXWfF"
      }
    },
    {
      "cell_type": "markdown",
      "source": [
        "**5. What is the significance of the __del__ method in Python?**"
      ],
      "metadata": {
        "id": "4lFL0SvyX8Na"
      }
    },
    {
      "cell_type": "markdown",
      "source": [
        "The __del__ method in Python, also known as the destructor, is a special method that is called when an object is about to be destroyed or garbage collected. It allows you to define cleanup actions, such as releasing resources, closing files, or disconnecting from a database, when an object is no longer in use.\n",
        "\n",
        "Significance of __del__\n",
        "\n",
        "1. Resource Management: The __del__ method is useful for releasing external resources, like file handles, database connections, or network sockets.\n",
        "2. Automatic Cleanup: It provides a way to ensure that cleanup occurs when an object is garbage collected.\n",
        "3. Custom Destruction Logic: Allows you to define specific logic that should run when an object’s lifecycle ends.\n"
      ],
      "metadata": {
        "id": "6yXeRoPtYBGK"
      }
    },
    {
      "cell_type": "markdown",
      "source": [
        "**6. What is the difference between import and from ... import in Python?**"
      ],
      "metadata": {
        "id": "kfUfgUp6YTX0"
      }
    },
    {
      "cell_type": "markdown",
      "source": [
        "In Python, both import and from ... import are used to bring in modules or specific components of modules into your program, but they differ in their scope and usage.\n",
        "\n",
        "**import Statement**\n",
        "\n",
        "1. Imports the entire module into your program.\n",
        "2. You access functions, classes, or variables using the module's name as a prefix (dot notation).\n",
        "\n",
        "Syntax: import module_name\n",
        "\n",
        "\n",
        "**from ... import Statement**\n",
        "1. Imports specific functions, classes, or variables from a module.\n",
        "2. Allows you to use them directly without the module name prefix.\n",
        "\n",
        "Syntax: from module_name import specific_name\n",
        "\n",
        "\n"
      ],
      "metadata": {
        "id": "E7oJ7bnCYniS"
      }
    },
    {
      "cell_type": "markdown",
      "source": [
        "**7. How can you handle multiple exceptions in Python?**\n"
      ],
      "metadata": {
        "id": "ZKm1r9sMZKwt"
      }
    },
    {
      "cell_type": "markdown",
      "source": [
        "Using a Tuple in a Single except Block\n",
        "\n",
        "You can specify multiple exceptions in a single except block by using a tuple. If any of the exceptions in the tuple are raised, the block will handle them.\n",
        "\n"
      ],
      "metadata": {
        "id": "qyftd0MXZPT8"
      }
    },
    {
      "cell_type": "code",
      "source": [
        "try:\n",
        "    # Code that may raise an exception\n",
        "    num = int(input(\"Enter a number: \"))\n",
        "    result = 10 / num\n",
        "except (ValueError, ZeroDivisionError) as e:\n",
        "    print(f\"Error occurred: {e}\")\n"
      ],
      "metadata": {
        "colab": {
          "base_uri": "https://localhost:8080/"
        },
        "id": "uf2cxpMFZmj-",
        "outputId": "7e84fe31-cf12-4b69-ae48-d75fd2212113"
      },
      "execution_count": 1,
      "outputs": [
        {
          "name": "stdout",
          "output_type": "stream",
          "text": [
            "Enter a number: 7\n"
          ]
        }
      ]
    },
    {
      "cell_type": "markdown",
      "source": [
        "**8. What is the purpose of the with statement when handling files in Python?**"
      ],
      "metadata": {
        "id": "WZ6tgqwYZ585"
      }
    },
    {
      "cell_type": "markdown",
      "source": [
        "The with statement in Python is used to simplify file handling and ensure that resources (like file handles) are properly managed. When working with files, the with statement is often used in conjunction with the open() function to automatically handle opening and closing the file, even if an exception occurs during file operations.\n",
        "\n",
        "\n",
        "Purpose of the with Statement:\n",
        "\n",
        "1. Automatic Resource Management:\n",
        "\n",
        "The with statement ensures that the file is closed as soon as the block inside it is exited, whether it's due to the program reaching the end of the block or because an exception was raised.\n",
        "\n",
        "2. Cleaner and More Readable Code:\n",
        "\n",
        "Using with eliminates the need to explicitly call file.close(), reducing boilerplate code and the chance of forgetting to close the file.\n",
        "\n",
        "3. Exception Safety:\n",
        "\n",
        "If an exception occurs while working with the file, the with statement will still close the file properly, preventing resource leaks."
      ],
      "metadata": {
        "id": "Y0W2QcgBaGFV"
      }
    },
    {
      "cell_type": "markdown",
      "source": [
        "**9. What is the difference between multithreading and multiprocessing?**\n"
      ],
      "metadata": {
        "id": "MPT4M0dKaXB-"
      }
    },
    {
      "cell_type": "markdown",
      "source": [
        "1. Definition\n",
        "\n",
        "Multithreading:\n",
        "\n",
        "Involves multiple threads running within the same process.\n",
        "Threads share the same memory space and resources, allowing for lightweight operations.\n",
        "Threads run concurrently but do not bypass the Global Interpreter Lock (GIL) in CPython.\n",
        "\n",
        "Multiprocessing:\n",
        "\n",
        "Involves multiple processes, each with its own memory space.\n",
        "Processes run independently and do not share memory, but they can communicate using mechanisms like pipes or queues.\n",
        "Each process runs in its own Python interpreter, effectively bypassing the GIL.\n",
        "\n",
        "2. Use Case\n",
        "\n",
        "Multithreading:\n",
        "\n",
        "Best for I/O-bound tasks (e.g., file reading, network requests, database queries) where threads spend time waiting for I/O to complete.\n",
        "Example: A web scraper making multiple HTTP requests concurrently.\n",
        "\n",
        "Multiprocessing:\n",
        "\n",
        "Best for CPU-bound tasks (e.g., numerical computations, data analysis, image processing) where tasks involve heavy computation and can benefit from parallel execution across multiple CPU cores.\n",
        "Example: Performing matrix multiplication on a large dataset.\n",
        "\n",
        "3. Memory Usage\n",
        "\n",
        "Multithreading:\n",
        "\n",
        "Threads share the same memory space, so memory usage is lower.\n",
        "Shared memory can lead to issues like race conditions, requiring thread synchronization (e.g., using locks).\n",
        "\n",
        "Multiprocessing:\n",
        "\n",
        "Each process has its own memory space, so memory usage is higher.\n",
        "This isolation eliminates the risk of race conditions but requires inter-process communication (IPC) for data sharing, which can introduce overhead.\n",
        "\n",
        "4. Global Interpreter Lock (GIL) in CPython\n",
        "\n",
        "Multithreading:\n",
        "\n",
        "Affected by the GIL, which ensures that only one thread executes Python bytecode at a time, even on multi-core CPUs.\n",
        "Limits the performance of CPU-bound tasks in Python.\n",
        "\n",
        "Multiprocessing:\n",
        "\n",
        "Not affected by the GIL, as each process has its own Python interpreter.\n",
        "Can fully utilize multiple CPU cores for parallel execution.\n",
        "\n",
        "5. Performance\n",
        "\n",
        "Multithreading:\n",
        "\n",
        "Faster for I/O-bound tasks due to lightweight threads and shared memory.\n",
        "Limited scalability for CPU-bound tasks because of the GIL.\n",
        "\n",
        "Multiprocessing:\n",
        "\n",
        "Faster for CPU-bound tasks since it can utilize multiple cores.\n",
        "Slower than multithreading for I/O-bound tasks due to the overhead of creating and managing processes.\n",
        "\n",
        "6. Ease of Implementation\n",
        "\n",
        "Multithreading:\n",
        "\n",
        "Easier to implement since threads share memory and data structures.\n",
        "Requires careful synchronization to avoid issues like deadlocks and race conditions.\n",
        "\n",
        "Multiprocessing:\n",
        "\n",
        "More complex to implement due to isolated memory.\n",
        "Requires inter-process communication mechanisms like multiprocessing.Queue or multiprocessing.Pipe."
      ],
      "metadata": {
        "id": "UaaaDot4ac76"
      }
    },
    {
      "cell_type": "markdown",
      "source": [
        "**10. What are the advantages of using logging in a program?**\n"
      ],
      "metadata": {
        "id": "M1PLwXFna-pJ"
      }
    },
    {
      "cell_type": "markdown",
      "source": [
        "Using logging in a program provides numerous advantages, especially when it comes to maintaining, debugging, and monitoring software. Here are the key benefits:\n",
        "\n",
        "1. Debugging and Issue Resolution\n",
        "\n",
        "Logging provides detailed insights into what the program is doing at different stages, making it easier to identify and fix bugs or unexpected behavior.\n",
        "\n",
        "2. Tracking Program Flow\n",
        "\n",
        "By logging significant events, developers can follow the sequence of operations in a program, making it easier to understand the flow, especially in complex applications.\n",
        "\n",
        "3. Error Analysis\n",
        "\n",
        "Logs capture errors, warnings, and exceptions with details like timestamps and stack traces, which are invaluable for diagnosing and resolving issues after they occur.\n",
        "\n",
        "4. Improved Monitoring\n",
        "\n",
        "Logs allow for real-time or retrospective monitoring of application performance, resource usage, and overall health.\n",
        "\n",
        "5. Audit Trails\n",
        "\n",
        "Logs provide a record of activities, such as user actions or system changes, which is essential for compliance, security, and forensic investigations.\n",
        "\n",
        "6. Non-Intrusive Debugging\n",
        "\n",
        "Logging lets you inspect your program's behavior without interrupting its normal flow, unlike debugging tools that might pause execution.\n",
        "\n",
        "7. Performance Metrics\n",
        "\n",
        "Logging can help track performance metrics like execution time for specific functions or tasks, enabling performance optimization.\n",
        "\n",
        "8. Customization and Scalability\n",
        "\n",
        "Logging frameworks often allow customization of log levels (e.g., DEBUG, INFO, WARNING, ERROR, CRITICAL) and formats, so you can focus on relevant information and scale logging as needed.\n",
        "\n",
        "9. Centralized Log Management\n",
        "\n",
        "Logs from multiple components or distributed systems can be aggregated, making it easier to get a comprehensive view of the system's operation.\n",
        "\n",
        "10. Asynchronous Analysis\n",
        "\n",
        "Developers can analyze logs after the program has run, which is especially helpful for long-running applications or when issues occur intermittently.\n",
        "\n",
        "11. Documentation\n",
        "\n",
        "Logs serve as a form of documentation for the application's behavior over time, especially useful in team environments or when onboarding new developers.\n",
        "\n",
        "12. Ease of Integration\n",
        "\n",
        "Most modern logging frameworks integrate well with monitoring tools and alerting systems (e.g., ELK stack, Splunk, CloudWatch), enabling proactive responses to issues.\n",
        "\n",
        "13. User Feedback\n",
        "\n",
        "Logs can provide helpful feedback during development or testing, offering insights into what the program is doing without requiring user intervention."
      ],
      "metadata": {
        "id": "gBwm_dzSbKUt"
      }
    },
    {
      "cell_type": "markdown",
      "source": [
        "**11. What is memory management in Python?**\n"
      ],
      "metadata": {
        "id": "fAjZ-pT-bpoZ"
      }
    },
    {
      "cell_type": "markdown",
      "source": [
        "Memory management in Python refers to the process of efficiently allocating, using, and freeing up memory during the execution of a Python program. Python provides a built-in mechanism for memory management that handles the allocation and deallocation of memory automatically, making it easier for developers to focus on the logic of their code without worrying about low-level memory details."
      ],
      "metadata": {
        "id": "wSj8cMLib4En"
      }
    },
    {
      "cell_type": "markdown",
      "source": [
        "**12. What are the basic steps involved in exception handling in Python?**\n"
      ],
      "metadata": {
        "id": "vB6fKVgpcAyz"
      }
    },
    {
      "cell_type": "markdown",
      "source": [
        "In Python, exception handling involves managing errors that occur during the execution of a program, allowing the program to respond gracefully rather than crashing. Here are the basic steps involved:\n",
        "\n",
        "1. Identify Code That Might Cause Exceptions\n",
        "Enclose the code that might raise an exception within a try block. This is where potential errors are anticipated.\n",
        "\n",
        "2. Catch and Handle Exceptions\n",
        "Use one or more except blocks to catch specific exceptions and handle them appropriately. If you don't specify an exception type, it catches all exceptions.\n",
        "\n",
        "3. Optional: Handle Multiple Exceptions\n",
        "Catch different types of exceptions using multiple except blocks or a single block with a tuple of exceptions.\n",
        "\n",
        "4. Optional: Use the else Block\n",
        "Add an else block for code that should execute only if no exceptions occur in the try block.\n",
        "\n",
        "5. Clean Up With the finally Block\n",
        "Use a finally block for cleanup actions that must execute regardless of whether an exception occurred.\n",
        "\n",
        "6. Raise Exceptions Explicitly (Optional)\n",
        "Use the raise statement to trigger exceptions intentionally."
      ],
      "metadata": {
        "id": "6bAmVisbcLQd"
      }
    },
    {
      "cell_type": "markdown",
      "source": [
        "**13. Why is memory management important in Python?**"
      ],
      "metadata": {
        "id": "oLxi6JHqc9iV"
      }
    },
    {
      "cell_type": "markdown",
      "source": [
        "Memory management is crucial in Python (and any programming language) to ensure efficient utilization of system resources and maintain the stability, performance, and reliability of applications. Here's why memory management is particularly important in Python:\n",
        "\n",
        "1. Efficient Use of System Resources\n",
        "\n",
        "Python programs use system memory to store objects like variables, data structures, and functions.\n",
        "Proper memory management prevents memory leaks and excessive memory consumption, allowing applications to run smoothly without exhausting available resources.\n",
        "\n",
        "2. Automatic Garbage Collection\n",
        "\n",
        "Python uses a built-in garbage collector to automatically reclaim memory occupied by objects that are no longer in use.\n",
        "Without proper memory management, unused objects might accumulate in memory, leading to performance degradation.\n",
        "\n",
        "3. Optimizing Application Performance\n",
        "\n",
        "Poor memory management can result in increased memory usage, leading to slow application performance.\n",
        "Efficient memory allocation and deallocation help ensure faster execution and responsiveness.\n",
        "\n",
        "4. Preventing Memory Leaks\n",
        "\n",
        "Memory leaks occur when a program fails to release memory that is no longer needed, eventually exhausting system resources.\n",
        "By effectively managing memory, Python reduces the risk of leaks, especially in long-running applications.\n",
        "\n",
        "5. Handling Complex Data Structures\n",
        "\n",
        "Python's flexibility with dynamic memory allocation allows it to handle complex data structures (like lists, dictionaries, and custom objects) seamlessly.\n",
        "Proper memory management ensures these structures are created and discarded efficiently.\n",
        "\n",
        "6. Cross-Platform Compatibility\n",
        "\n",
        "Python's memory management system abstracts platform-specific memory management tasks, making programs more portable and consistent across different operating systems.\n",
        "\n",
        "7. Dynamic Nature of Python\n",
        "\n",
        "Python allows dynamic typing and memory allocation for objects at runtime, which increases the risk of memory-related issues.\n",
        "Efficient memory management ensures that this dynamic nature does not lead to excessive memory usage.\n",
        "\n",
        "How Python Manages Memory\n",
        "\n",
        "Reference Counting: Python tracks the number of references to an object. When the reference count drops to zero, the memory is deallocated.\n",
        "\n",
        "Garbage Collection: Python’s garbage collector identifies and cleans up circular references (e.g., objects referring to each other) that reference counting alone cannot handle.\n",
        "\n",
        "Memory Pools: Python manages memory using pools to optimize the allocation and reuse of small objects."
      ],
      "metadata": {
        "id": "J81fpfiadBrC"
      }
    },
    {
      "cell_type": "markdown",
      "source": [
        "**14. What is the role of try and except in exception handling?**"
      ],
      "metadata": {
        "id": "A1JbClq9dfPG"
      }
    },
    {
      "cell_type": "markdown",
      "source": [
        "The try and except blocks play a central role in exception handling in Python. Together, they help manage and respond to runtime errors in a controlled and predictable way, preventing the program from crashing.\n",
        "\n",
        "Role of try:\n",
        "The try block is used to test a section of code that might raise an exception.\n",
        "\n",
        "1. Purpose:\n",
        "\n",
        "Encapsulates the code that may throw an exception.\n",
        "\n",
        "Acts as a \"guarded\" section of code, meaning Python will monitor it for errors.\n",
        "\n",
        "2. Execution:\n",
        "\n",
        "If the code in the try block executes without errors, Python skips the corresponding except block(s).\n",
        "\n",
        "If an exception is raised, the execution immediately jumps to the except block, bypassing any remaining code in the try block.\n",
        "\n",
        "Role of except:\n",
        "The except block is used to handle exceptions that occur in the try block.\n",
        "\n",
        "1. Purpose:\n",
        "\n",
        "Specifies the type of exception to catch.\n",
        "\n",
        "Defines the code to execute in response to a specific exception.\n",
        "\n",
        "2. Exception Types:\n",
        "\n",
        "You can catch specific exceptions (e.g., ValueError, ZeroDivisionError).\n",
        "\n",
        "Catching general exceptions with a bare except: is possible but not recommended, as it may hide unexpected issues.\n",
        "\n",
        "3. Multiple except Blocks:\n",
        "\n",
        "You can handle different types of exceptions separately."
      ],
      "metadata": {
        "id": "Ma4RCpKGdjvJ"
      }
    },
    {
      "cell_type": "markdown",
      "source": [
        "**15. How does Python's garbage collection system work?**"
      ],
      "metadata": {
        "id": "15FMSHQrec2E"
      }
    },
    {
      "cell_type": "markdown",
      "source": [
        "Python's garbage collection system is an automatic memory management mechanism designed to reclaim memory by identifying and cleaning up objects that are no longer in use. This helps prevent memory leaks and ensures efficient use of system resources. Here's how it works:\n",
        "\n",
        "Key Components of Python's Garbage Collection System\n",
        "1. Reference Counting:\n",
        "\n",
        "Python tracks the number of references (or \"pointers\") to each object in memory.\n",
        "\n",
        "Each object has a reference count, and when this count drops to zero, the object is automatically deallocated.\n",
        "\n",
        "2. Garbage Collector (GC):\n",
        "\n",
        "Python’s garbage collector complements reference counting by handling cyclic references, which reference counting alone cannot resolve.\n",
        "\n",
        "Cyclic references occur when objects reference each other, forming a cycle.\n",
        "\n"
      ],
      "metadata": {
        "id": "-r3vV5PmepHY"
      }
    },
    {
      "cell_type": "markdown",
      "source": [
        "**16. What is the purpose of the else block in exception handling?**"
      ],
      "metadata": {
        "id": "IfBqdPN4fY8R"
      }
    },
    {
      "cell_type": "markdown",
      "source": [
        "The else block in exception handling is used to define a block of code that will execute only if no exceptions are raised in the try block. It provides a way to cleanly separate code that should run when everything goes as expected from the code that handles exceptions.\n",
        "\n",
        "Purpose:\n",
        "\n",
        "1. Clarity: The else block makes the code more readable by explicitly separating normal logic (after successful execution of the try block) from exception handling logic.\n",
        "\n",
        "2. Error-Free Logic: Ensures that the code in the else block will only run if the try block executes without errors, avoiding potential conflicts with exception handling."
      ],
      "metadata": {
        "id": "04RONuLDflUA"
      }
    },
    {
      "cell_type": "markdown",
      "source": [
        "**17. What are the common logging levels in Python?**"
      ],
      "metadata": {
        "id": "tiJ5A2Jnf3Op"
      }
    },
    {
      "cell_type": "markdown",
      "source": [
        "In Python, the logging module provides several logging levels to indicate the severity of events being logged. These levels help categorize log messages based on their importance. The common logging levels, from highest to lowest severity, are:\n",
        "\n",
        "1. CRITICAL (Level 50):\n",
        "\n",
        "The most severe level, used for critical errors that may cause the program to crash or need immediate attention.\n",
        "Example: logger.critical(\"Critical failure! System shutdown.\")\n",
        "\n",
        "2. ERROR (Level 40):\n",
        "\n",
        "Used for errors that indicate a problem, but the program can still continue running.\n",
        "Example: logger.error(\"An error occurred while processing the file.\")\n",
        "\n",
        "3. WARNING (Level 30):\n",
        "\n",
        "Indicates a potential problem or a situation that might not be ideal but doesn't stop the program.\n",
        "Example: logger.warning(\"The file path is deprecated.\")\n",
        "\n",
        "4. INFO (Level 20):\n",
        "\n",
        "Provides general information about the program’s progress or state. This level is used for normal operation and user-related info.\n",
        "Example: logger.info(\"User login successful.\")\n",
        "\n",
        "5. DEBUG (Level 10):\n",
        "\n",
        "Used for detailed, diagnostic information, typically useful only when debugging the code. It can include internal variables, system status, etc.\n",
        "Example: logger.debug(\"Variable x = 10.\")\n",
        "\n",
        "6. NOTSET (Level 0):\n",
        "\n",
        "This is the lowest level, used when no specific logging level is set. It essentially means \"logging is disabled\" unless overridden.\n",
        "Example: logger.setLevel(logging.NOTSET) to turn off logging."
      ],
      "metadata": {
        "id": "2QzzXmwHgDrz"
      }
    },
    {
      "cell_type": "markdown",
      "source": [
        "**18. What is the difference between os.fork() and multiprocessing in Python?**"
      ],
      "metadata": {
        "id": "F6lj19jzgXf5"
      }
    },
    {
      "cell_type": "markdown",
      "source": [
        "The key difference between os.fork() and the multiprocessing module in Python lies in how they manage process creation, communication, and platform compatibility.\n",
        "\n",
        "1. os.fork():\n",
        "\n",
        "Low-level process creation: os.fork() is a system call that creates a new child process by duplicating the current process. It is available on Unix-based systems (Linux, macOS) but not on Windows.\n",
        "\n",
        "Process duplication: When you call os.fork(), it creates a child process that is a copy of the parent process. The child process starts executing from the point of the fork, and both the parent and the child processes can run concurrently.\n",
        "\n",
        "Parent and child distinction: After os.fork(), the return value helps distinguish between the parent and child processes:\n",
        "\n",
        "In the parent process, os.fork() returns the process ID (PID) of the child.\n",
        "\n",
        "In the child process, os.fork() returns 0.\n",
        "\n",
        "No automatic management: You have to manually handle process termination and synchronization. This means that os.fork() is typically lower-level and requires more manual management.\n",
        "\n",
        "2. multiprocessing Module:\n",
        "\n",
        "High-level process management: The multiprocessing module provides a higher-level abstraction for working with processes. It is designed to work across platforms, including Windows and Unix-based systems.\n",
        "\n",
        "Cross-platform compatibility: Unlike os.fork(), which is Unix-only, multiprocessing works on both Windows and Unix systems. On Windows, the multiprocessing module uses a different approach (such as spawning new processes instead of forking).\n",
        "\n",
        "Process management: multiprocessing provides built-in support for managing multiple processes, including process creation, communication (via queues, pipes), synchronization (locks, semaphores), and more.\n",
        "\n",
        "Safer and easier to use: The multiprocessing module is generally easier and safer to use than os.fork() because it handles process creation, termination, and synchronization for you. It also provides useful features like Pool for\n",
        "parallel processing."
      ],
      "metadata": {
        "id": "iebrb4gSgi1J"
      }
    },
    {
      "cell_type": "markdown",
      "source": [
        "**19. What is the importance of closing a file in Python?**\n"
      ],
      "metadata": {
        "id": "QrtkokqQhC-R"
      }
    },
    {
      "cell_type": "markdown",
      "source": [
        "Closing a file in Python is important for several reasons, primarily to ensure the proper management of system resources and to prevent potential issues that can arise from leaving files open. Here’s why it’s crucial:\n",
        "\n",
        "1. Releasing System Resources:\n",
        "\n",
        "Every open file consumes system resources (e.g., memory, file descriptors). If files remain open, they can eventually lead to resource exhaustion, especially if you’re dealing with multiple files or long-running applications.\n",
        "\n",
        "Operating systems have a limited number of file descriptors that can be open at the same time. If too many files are left open, you might run into errors or the inability to open new files.\n",
        "\n",
        "2. Ensuring Data Integrity:\n",
        "\n",
        "When you write to a file, the data is often buffered in memory before being written to disk. Closing the file ensures that any buffered data is properly written to the file and that the file is saved correctly. If you don’t close a file, some data might remain in the buffer and not be written to disk.\n",
        "\n",
        "It guarantees that all data is committed to the file before the program exits or the file is accessed again.\n",
        "\n",
        "3. Preventing File Locks:\n",
        "\n",
        "On some systems, when a file is open, it may be locked for exclusive use by the process that opened it. Closing the file releases any lock, allowing other processes to access it.\n",
        "\n",
        "This is particularly important in multi-threaded or multi-process environments, where file access needs to be coordinated.\n",
        "\n",
        "4. Avoiding Memory Leaks:\n",
        "\n",
        "Failing to close files can lead to memory leaks in the program, especially in long-running applications. If files are not closed, the memory associated with file objects may not be freed, causing the program to consume more memory over time.\n",
        "\n",
        "5. Good Practice & Explicit Cleanup:\n",
        "\n",
        "It's considered good practice to always close files when you're done with them. It helps to avoid relying on automatic garbage collection, which may not immediately close the file, and can make your code more predictable and easier to maintain."
      ],
      "metadata": {
        "id": "PwxiAR_IhQUU"
      }
    },
    {
      "cell_type": "markdown",
      "source": [
        "**20. What is the difference between file.read() and file.readline() in Python?**\n"
      ],
      "metadata": {
        "id": "VAl_TpQ3hncn"
      }
    },
    {
      "cell_type": "markdown",
      "source": [
        "In Python, both file.read() and file.readline() are used to read data from a file, but they behave differently in terms of how they read the content. Here’s the key difference:\n",
        "\n",
        "1. file.read():\n",
        "\n",
        "Reads the entire content of the file at once, or a specified number of bytes if you pass an argument.\n",
        "\n",
        "The method returns the entire content as a single string, including all lines, newlines, and any whitespace.\n",
        "\n",
        "If no argument is passed, file.read() reads the entire file content. If an integer argument is given, it reads up to that many bytes.\n",
        "\n",
        "2. file.readline():\n",
        "\n",
        "Reads a single line from the file each time it's called, including the newline character (\\n) at the end of the line.\n",
        "\n",
        "You can repeatedly call file.readline() to read each line one at a time until the end of the file is reached. When there are no more lines, it returns an empty string."
      ],
      "metadata": {
        "id": "_9Wtmv1Whrml"
      }
    },
    {
      "cell_type": "markdown",
      "source": [
        "**21. What is the logging module in Python used for?**"
      ],
      "metadata": {
        "id": "tBfjhzj-iTNA"
      }
    },
    {
      "cell_type": "markdown",
      "source": [
        "The logging module in Python is used to track events that happen during the execution of a program. It allows you to log information, warnings, errors, and other messages, which can be helpful for debugging, monitoring, and keeping track of program behavior.\n",
        "\n",
        "Some common use cases for the logging module include:\n",
        "\n",
        "1. Debugging: It helps you identify where things are going wrong by logging detailed information about the program's execution.\n",
        "\n",
        "2. Monitoring: You can track program performance or monitor specific events over time.\n",
        "\n",
        "3. Error Handling: You can log errors and exceptions to help diagnose problems.\n",
        "4.  Audit Trails: It can be used to record user activities or other significant events for security or compliance purposes.\n",
        "\n",
        "The module provides various logging levels, such as:\n",
        "\n",
        "DEBUG: Detailed information, typically useful only for diagnosing problems.\n",
        "\n",
        "INFO: General information about program execution.\n",
        "\n",
        "WARNING: Indicates that something unexpected happened, but the program can still run.\n",
        "\n",
        "ERROR: Indicates a more serious issue that might prevent part of the program from functioning.\n",
        "\n",
        "CRITICAL: A very serious error, indicating that the program might not be able to continue running."
      ],
      "metadata": {
        "id": "es1C9GHuijhj"
      }
    },
    {
      "cell_type": "markdown",
      "source": [
        "**22. What is the os module in Python used for in file handling?**"
      ],
      "metadata": {
        "id": "j9P-Ou-Zi6DI"
      }
    },
    {
      "cell_type": "markdown",
      "source": [
        "In Python, the os module is used for interacting with the operating system, and it provides a variety of functions that make file handling easier. Specifically, it helps with tasks such as:\n",
        "\n",
        "1. File and Directory Management:\n",
        "\n",
        "os.rename(old_name, new_name): Renames a file or directory.\n",
        "os.remove(path): Deletes a file.\n",
        "os.rmdir(path): Removes an empty directory.\n",
        "os.mkdir(path): Creates a new directory.\n",
        "os.makedirs(path): Creates intermediate directories (useful for nested directories).\n",
        "\n",
        "2. Navigating the File System:\n",
        "\n",
        "os.chdir(path): Changes the current working directory.\n",
        "os.getcwd(): Returns the current working directory.\n",
        "os.listdir(path): Lists the contents of a directory.\n",
        "os.path.join(*paths): Combines paths in a platform-independent way.\n",
        "os.path.exists(path): Checks if a path exists.\n",
        "\n",
        "3. Path Manipulation:\n",
        "\n",
        "os.path.split(path): Splits a path into a directory and file name.\n",
        "os.path.join(): Joins one or more path components.\n",
        "os.path.abspath(path): Returns the absolute path of a given file.\n",
        "\n",
        "4. File Permissions and Attributes:\n",
        "\n",
        "os.chmod(path, mode): Changes the file permissions.\n",
        "os.stat(path): Returns information about a file, such as size, permissions, and timestamps.\n",
        "\n",
        "5. Environment Variables:\n",
        "\n",
        "os.environ: A dictionary-like object containing the environment variables, which can be used to get or set them."
      ],
      "metadata": {
        "id": "9lLrU_T0i-iF"
      }
    },
    {
      "cell_type": "markdown",
      "source": [
        "**23. What are the challenges associated with memory management in Python?**"
      ],
      "metadata": {
        "id": "Oddtyez-jpl3"
      }
    },
    {
      "cell_type": "markdown",
      "source": [
        "Memory management in Python can be challenging due to several factors related to its dynamic nature, high-level abstractions, and garbage collection system. Some of the main challenges associated with memory management in Python include:\n",
        "\n",
        "1. Automatic Garbage Collection:\n",
        "\n",
        "Challenge: Python uses automatic garbage collection to manage memory. While this simplifies memory management for developers, it can also lead to issues such as unexpected memory usage or memory leaks when objects are not properly freed.\n",
        "\n",
        "Cause: Circular references (objects referencing each other) can sometimes prevent the garbage collector from freeing memory, especially when using custom objects or complex data structures.\n",
        "\n",
        "Solution: Explicitly breaking circular references, using weak references, or optimizing object lifecycle management can help mitigate this.\n",
        "\n",
        "2. Memory Leaks:\n",
        "\n",
        "Challenge: Memory leaks can occur if references to objects are unintentionally retained, preventing the garbage collector from deallocating memory.\n",
        "Cause: This can happen when objects are added to global variables or when cached objects are not cleared.\n",
        "\n",
        "Solution: Properly managing object references and using tools like gc (garbage collector module) or memory profilers (e.g., memory_profiler, objgraph) can help detect and address memory leaks.\n",
        "\n",
        "3. Dynamic Typing:\n",
        "\n",
        "Challenge: Python’s dynamic typing system means that variables can change type at runtime, and objects might require varying amounts of memory depending on their type.\n",
        "\n",
        "Cause: This can make it harder to predict memory usage, especially in large applications with dynamic data structures.\n",
        "Solution: Monitoring memory usage and using more efficient data types or structures (e.g., tuple instead of list) can help reduce memory consumption.\n",
        "\n",
        "4. Object Allocation and Deallocation:\n",
        "\n",
        "Challenge: Python uses reference counting as the primary mechanism for memory management. Each object has a reference count, and memory is deallocated when the reference count reaches zero. However, this system can be inefficient for certain types of objects, especially those with a complex structure.\n",
        "\n",
        "Cause: Frequent object creation and deletion can lead to fragmentation of memory, and the reference counting system can become costly in terms of performance.\n",
        "\n",
        "Solution: Reusing objects, using object pools, or optimizing object allocation strategies can help reduce the performance impact.\n",
        "\n",
        "5. Memory Overhead of Python Objects:\n",
        "Challenge: Python objects, especially collections like lists, dictionaries, and sets, have significant overhead compared to equivalent data structures in lower-level languages.\n",
        "\n",
        "Cause: Each Python object requires additional memory to store metadata (e.g., type information, reference count). This can make large data structures more memory-intensive than expected.\n",
        "\n",
        "Solution: For memory-sensitive applications, using specialized libraries like array (for homogeneous data) or numpy (for large numerical datasets) can provide more memory-efficient alternatives.\n",
        "\n",
        "6. The Global Interpreter Lock (GIL):\n",
        "\n",
        "Challenge: The GIL is a mutex that prevents multiple threads from executing Python bytecodes simultaneously. While the GIL simplifies memory management in multi-threaded applications by avoiding race conditions, it also limits Python’s ability to efficiently use multi-core processors for CPU-bound tasks.\n",
        "\n",
        "Cause: The GIL can lead to suboptimal performance in multi-threaded Python applications, especially in CPU-bound operations.\n",
        "\n",
        "Solution: For CPU-bound tasks, using multi-processing instead of threading or relying on external libraries (e.g., NumPy, Cython) that release the GIL can help.\n",
        "\n",
        "7. Memory Fragmentation:\n",
        "\n",
        "Challenge: Since Python is highly dynamic and objects can be created and destroyed frequently, memory fragmentation may occur, where free memory is scattered in small blocks across the system.\n",
        "\n",
        "Cause: Memory fragmentation can slow down memory allocation and deallocation, and result in higher memory usage over time.\n",
        "\n",
        "Solution: Regular memory profiling and optimizing memory usage patterns can help detect and mitigate fragmentation issues.\n",
        "\n",
        "8. Large-Scale Data Handling:\n",
        "\n",
        "Challenge: Handling large datasets can quickly become problematic, especially in memory-constrained environments.\n",
        "\n",
        "Cause: Storing large datasets (e.g., large lists, dictionaries, or arrays) entirely in memory can exceed available memory.\n",
        "\n",
        "Solution: Techniques such as streaming data, using memory-mapped files, or relying on out-of-core computation (e.g., libraries like Dask) can allow Python to handle large datasets without running into memory limitations.\n",
        "\n",
        "9. Third-Party Libraries:\n",
        "\n",
        "Challenge: Many Python applications rely on third-party libraries that may not always follow best practices for memory management.\n",
        "\n",
        "Cause: Some libraries might have memory inefficiencies, poor garbage collection handling, or hidden memory leaks.\n",
        "\n",
        "Solution: Carefully reviewing and profiling third-party libraries before using them, and staying updated on their performance and bug fixes can help address these issues."
      ],
      "metadata": {
        "id": "qVTvsYCGkEud"
      }
    },
    {
      "cell_type": "markdown",
      "source": [
        "**24. How do you raise an exception manually in Python?**"
      ],
      "metadata": {
        "id": "JuSQ9Ja0kq8N"
      }
    },
    {
      "cell_type": "markdown",
      "source": [
        "Raising a built-in exception:\n",
        "To raise a built-in exception like ValueError, TypeError, etc., you can simply use the raise keyword followed by the exception class and an optional error message:\n",
        "\n",
        "raise ValueError(\"This is a custom error message\")\n",
        "\n",
        "Raising a custom exception:\n",
        "You can also define your own custom exception by creating a class that inherits from the base Exception class, then raise it manually:\n",
        "\n",
        "class MyCustomError(Exception):\n",
        "    pass\n",
        "\n",
        "raise MyCustomError(\"This is a custom error message\")\n",
        "\n",
        "Example with conditions:\n",
        "You can raise an exception based on a condition in your code, like this:\n",
        "x = 10\n",
        "if x > 5:\n",
        "    raise Exception(\"x cannot be greater than 5\")\n"
      ],
      "metadata": {
        "id": "olvKdS4jo3Ro"
      }
    },
    {
      "cell_type": "markdown",
      "source": [
        "**25. Why is it important to use multithreading in certain applications?**\n"
      ],
      "metadata": {
        "id": "LD_gc-HIpWIr"
      }
    },
    {
      "cell_type": "markdown",
      "source": [
        "Multithreading is important in certain applications because it allows you to run multiple tasks concurrently, which can improve performance and responsiveness. Here are some key reasons why it's beneficial:\n",
        "\n",
        "1. Improved Performance on Multi-core Processors:\n",
        "\n",
        "Modern CPUs have multiple cores, and multithreading allows you to take advantage of these cores. By running multiple threads simultaneously, different parts of your program can be executed in parallel, leading to better utilization of the available hardware resources and increased performance.\n",
        "\n",
        "2. Better Responsiveness in UI Applications:\n",
        "\n",
        "In graphical user interface (GUI) applications, long-running tasks (e.g., data loading, network requests, file operations) can block the main thread, causing the application to freeze or become unresponsive. By using multithreading, these tasks can be handled in separate threads, allowing the main thread to continue processing user inputs and updating the UI.\n",
        "\n",
        "3. Efficient Handling of I/O-bound Tasks:\n",
        "\n",
        "For tasks that involve waiting on external resources (e.g., network requests, file operations, database queries), multithreading can help. While one thread is waiting for an I/O operation to complete, other threads can continue executing, which can improve the overall throughput of the application.\n",
        "\n",
        "4. Concurrency for Simultaneous Tasks:\n",
        "\n",
        "Multithreading allows for the concurrent execution of tasks that don't necessarily need to run in a strict sequence. This is particularly useful in applications like web servers, where many clients can be processed in parallel, or in simulation programs, where multiple independent tasks can be performed concurrently.\n",
        "\n",
        "5. Improved Resource Management:\n",
        "\n",
        "Multithreading can allow a program to manage resources more efficiently. For example, a thread could handle a task like downloading a file while another thread processes data, making the most of available time and resources without waiting for one task to finish before starting another.\n",
        "\n",
        "6. Real-time Applications:\n",
        "\n",
        "In real-time systems (such as robotics, gaming, or financial systems), tasks often need to be completed within strict time constraints. Multithreading can help by allowing the system to prioritize important tasks and run them in parallel with others, ensuring deadlines are met.\n",
        "\n",
        "7. Simplifying Complex Applications:\n",
        "\n",
        "By breaking down complex tasks into smaller threads, you can make the code more modular and easier to maintain. Each thread can be focused on a single responsibility, making the program more organized.\n",
        "\n",
        "Caveats:\n",
        "\n",
        "While multithreading can bring performance improvements, it comes with some challenges:\n",
        "\n",
        "Thread synchronization: When multiple threads access shared resources, race conditions can occur. Proper synchronization techniques (like locks) need to be used to avoid issues.\n",
        "\n",
        "Overhead: Creating and managing threads adds some overhead, and in certain cases, the performance gains might not outweigh the costs, especially if tasks are very lightweight or if there's too much context-switching.\n",
        "\n",
        "Debugging complexity: Multithreaded programs are harder to debug due to the non-deterministic nature of thread execution."
      ],
      "metadata": {
        "id": "NarEpSZGpelJ"
      }
    },
    {
      "cell_type": "markdown",
      "source": [],
      "metadata": {
        "id": "QAYOpCWMp9j4"
      }
    },
    {
      "cell_type": "markdown",
      "source": [
        "**Practical Questions**"
      ],
      "metadata": {
        "id": "NwV2Fq8ypw0G"
      }
    },
    {
      "cell_type": "markdown",
      "source": [
        "**1. How can you open a file for writing in Python and write a string to it?**\n"
      ],
      "metadata": {
        "id": "6pLlC2zpp57P"
      }
    },
    {
      "cell_type": "code",
      "source": [
        "# Open a file for writing (this will create the file if it doesn't exist)\n",
        "with open('example.txt', 'w') as file:\n",
        "    # Write a string to the file\n",
        "    file.write(\"Hello, this is a test string.\")\n"
      ],
      "metadata": {
        "id": "de9sbo6DqJ69"
      },
      "execution_count": 2,
      "outputs": []
    },
    {
      "cell_type": "markdown",
      "source": [
        "**2. Write a Python program to read the contents of a file and print each line?**\n"
      ],
      "metadata": {
        "id": "nmkbX1SUqTdd"
      }
    },
    {
      "cell_type": "code",
      "source": [
        "# Open the file for reading\n",
        "with open('example.txt', 'r') as file:\n",
        "    # Loop through each line in the file\n",
        "    for line in file:\n",
        "        # Print the current line\n",
        "        print(line.strip())  # .strip() removes any leading/trailing whitespace, like newline characters\n"
      ],
      "metadata": {
        "colab": {
          "base_uri": "https://localhost:8080/"
        },
        "id": "liDHdNXpqhUa",
        "outputId": "5463b5c3-d27f-4894-e725-88aeb6f08764"
      },
      "execution_count": 3,
      "outputs": [
        {
          "output_type": "stream",
          "name": "stdout",
          "text": [
            "Hello, this is a test string.\n"
          ]
        }
      ]
    },
    {
      "cell_type": "markdown",
      "source": [
        "**3. How would you handle a case where the file doesn't exist while trying to open it for reading**\n"
      ],
      "metadata": {
        "id": "dkfIXRfuqo5D"
      }
    },
    {
      "cell_type": "code",
      "source": [
        "try:\n",
        "    # Try to open the file for reading\n",
        "    with open('example.txt', 'r') as file:\n",
        "        for line in file:\n",
        "            print(line.strip())\n",
        "except FileNotFoundError:\n",
        "    # Handle the case where the file doesn't exist\n",
        "    print(\"The file does not exist.\")\n"
      ],
      "metadata": {
        "colab": {
          "base_uri": "https://localhost:8080/"
        },
        "id": "GhQeTAxArZTW",
        "outputId": "ac04ea9d-275c-4fa1-bf56-5a184b3d4e6b"
      },
      "execution_count": 4,
      "outputs": [
        {
          "output_type": "stream",
          "name": "stdout",
          "text": [
            "Hello, this is a test string.\n"
          ]
        }
      ]
    },
    {
      "cell_type": "markdown",
      "source": [
        "**4. Write a Python script that reads from one file and writes its content to another file?**\n"
      ],
      "metadata": {
        "id": "l52qW5nArhSL"
      }
    },
    {
      "cell_type": "code",
      "source": [
        "# Python script to copy contents of one file to another\n",
        "\n",
        "# Define the file paths\n",
        "source_file = 'source.txt'\n",
        "destination_file = 'destination.txt'\n",
        "\n",
        "try:\n",
        "    # Open the source file in read mode\n",
        "    with open(source_file, 'r') as src_file:\n",
        "        content = src_file.read()  # Read the content of the source file\n",
        "\n",
        "    # Open the destination file in write mode\n",
        "    with open(destination_file, 'w') as dest_file:\n",
        "        dest_file.write(content)  # Write the content to the destination file\n",
        "\n",
        "    print(f\"Content successfully copied from {source_file} to {destination_file}\")\n",
        "\n",
        "except FileNotFoundError:\n",
        "    print(f\"Error: The file {source_file} does not exist.\")\n",
        "except Exception as e:\n",
        "    print(f\"An error occurred: {e}\")\n"
      ],
      "metadata": {
        "colab": {
          "base_uri": "https://localhost:8080/"
        },
        "id": "5W1pMnJurxP2",
        "outputId": "4f4a583e-7d22-4569-e15a-e77e0d35d1f8"
      },
      "execution_count": 5,
      "outputs": [
        {
          "output_type": "stream",
          "name": "stdout",
          "text": [
            "Error: The file source.txt does not exist.\n"
          ]
        }
      ]
    },
    {
      "cell_type": "markdown",
      "source": [
        "**5. How would you catch and handle division by zero error in Python?**\n"
      ],
      "metadata": {
        "id": "K-GL8cS9r-ym"
      }
    },
    {
      "cell_type": "code",
      "source": [
        "# Python script to handle division by zero error\n",
        "\n",
        "try:\n",
        "    # Perform division\n",
        "    numerator = 10\n",
        "    denominator = 0  # This will cause division by zero\n",
        "    result = numerator / denominator\n",
        "    print(f\"The result is: {result}\")\n",
        "\n",
        "except ZeroDivisionError:\n",
        "    print(\"Error: Cannot divide by zero!\")\n"
      ],
      "metadata": {
        "colab": {
          "base_uri": "https://localhost:8080/"
        },
        "id": "905qgg89sCa_",
        "outputId": "05b98dec-a88a-47c7-872b-c1023df13714"
      },
      "execution_count": 6,
      "outputs": [
        {
          "output_type": "stream",
          "name": "stdout",
          "text": [
            "Error: Cannot divide by zero!\n"
          ]
        }
      ]
    },
    {
      "cell_type": "markdown",
      "source": [
        "**6. Write a Python program that logs an error message to a log file when a division by zero exception occurs?**\n"
      ],
      "metadata": {
        "id": "0kI0vmWqsOUr"
      }
    },
    {
      "cell_type": "code",
      "source": [
        "import logging\n",
        "\n",
        "# Set up logging configuration\n",
        "logging.basicConfig(filename='error_log.txt', level=logging.ERROR,\n",
        "                    format='%(asctime)s - %(levelname)s - %(message)s')\n",
        "\n",
        "def divide(numerator, denominator):\n",
        "    try:\n",
        "        result = numerator / denominator\n",
        "        return result\n",
        "    except ZeroDivisionError as e:\n",
        "        logging.error(f\"Error: Division by zero attempted! Numerator: {numerator}, Denominator: {denominator}\")\n",
        "        print(\"Error: Cannot divide by zero!\")\n",
        "        return None\n",
        "\n",
        "# Test the function\n",
        "numerator = 10\n",
        "denominator = 0  # This will cause a division by zero\n",
        "\n",
        "result = divide(numerator, denominator)\n",
        "if result is not None:\n",
        "    print(f\"The result is: {result}\")\n"
      ],
      "metadata": {
        "colab": {
          "base_uri": "https://localhost:8080/"
        },
        "id": "W5kGH8HRsSZN",
        "outputId": "1c539d41-e0fe-4571-bfcc-624e33e4b318"
      },
      "execution_count": 7,
      "outputs": [
        {
          "output_type": "stream",
          "name": "stderr",
          "text": [
            "ERROR:root:Error: Division by zero attempted! Numerator: 10, Denominator: 0\n"
          ]
        },
        {
          "output_type": "stream",
          "name": "stdout",
          "text": [
            "Error: Cannot divide by zero!\n"
          ]
        }
      ]
    },
    {
      "cell_type": "markdown",
      "source": [
        "**7. How do you log information at different levels (INFO, ERROR, WARNING) in Python using the logging module?**\n"
      ],
      "metadata": {
        "id": "ty52C5y0svme"
      }
    },
    {
      "cell_type": "code",
      "source": [
        "import logging\n",
        "\n",
        "# Set up logging configuration\n",
        "logging.basicConfig(filename='app_log.txt', level=logging.DEBUG,\n",
        "                    format='%(asctime)s - %(levelname)s - %(message)s')\n",
        "\n",
        "# Logging at different levels\n",
        "logging.debug(\"This is a DEBUG message\")\n",
        "logging.info(\"This is an INFO message\")\n",
        "logging.warning(\"This is a WARNING message\")\n",
        "logging.error(\"This is an ERROR message\")\n",
        "logging.critical(\"This is a CRITICAL message\")\n",
        "\n",
        "print(\"Log messages have been written to app_log.txt.\")\n"
      ],
      "metadata": {
        "colab": {
          "base_uri": "https://localhost:8080/"
        },
        "id": "VQrduLUZs1dw",
        "outputId": "51d9232a-008d-4a26-ba88-cb3cadab6164"
      },
      "execution_count": 8,
      "outputs": [
        {
          "output_type": "stream",
          "name": "stderr",
          "text": [
            "WARNING:root:This is a WARNING message\n",
            "ERROR:root:This is an ERROR message\n",
            "CRITICAL:root:This is a CRITICAL message\n"
          ]
        },
        {
          "output_type": "stream",
          "name": "stdout",
          "text": [
            "Log messages have been written to app_log.txt.\n"
          ]
        }
      ]
    },
    {
      "cell_type": "markdown",
      "source": [
        "**8. Write a program to handle a file opening error using exception handling?**\n"
      ],
      "metadata": {
        "id": "psEJGa0ktKjQ"
      }
    },
    {
      "cell_type": "code",
      "source": [
        "try:\n",
        "    # Attempt to open the file\n",
        "    file_name = 'non_existent_file.txt'\n",
        "    with open(file_name, 'r') as file:\n",
        "        content = file.read()\n",
        "        print(content)\n",
        "\n",
        "except FileNotFoundError:\n",
        "    print(f\"Error: The file '{file_name}' was not found.\")\n",
        "\n",
        "except Exception as e:\n",
        "    print(f\"An unexpected error occurred: {e}\")\n"
      ],
      "metadata": {
        "colab": {
          "base_uri": "https://localhost:8080/"
        },
        "id": "B03XP_gEtUrs",
        "outputId": "05253be5-5438-44c0-aae8-a2a71510db6e"
      },
      "execution_count": 9,
      "outputs": [
        {
          "output_type": "stream",
          "name": "stdout",
          "text": [
            "Error: The file 'non_existent_file.txt' was not found.\n"
          ]
        }
      ]
    },
    {
      "cell_type": "markdown",
      "source": [
        "**9. How can you read a file line by line and store its content in a list in Python?**\n"
      ],
      "metadata": {
        "id": "OeUZSqPYtbfo"
      }
    },
    {
      "cell_type": "code",
      "source": [
        "# File reading line by line and storing the content in a list\n",
        "file_name = 'example.txt'  # Replace with your file name\n",
        "\n",
        "try:\n",
        "    with open(file_name, 'r') as file:\n",
        "        lines = file.readlines()  # Reads the entire file and stores each line as an element in the list\n",
        "\n",
        "    # Optionally strip newline characters from each line\n",
        "    lines = [line.strip() for line in lines]\n",
        "\n",
        "    print(\"File content as a list:\")\n",
        "    print(lines)\n",
        "\n",
        "except FileNotFoundError:\n",
        "    print(f\"Error: The file '{file_name}' was not found.\")\n",
        "except Exception as e:\n",
        "    print(f\"An unexpected error occurred: {e}\")\n"
      ],
      "metadata": {
        "colab": {
          "base_uri": "https://localhost:8080/"
        },
        "id": "MD6OR8U4tetY",
        "outputId": "5f3e084a-0e3d-4bea-aa4a-2fdd96f4e060"
      },
      "execution_count": 10,
      "outputs": [
        {
          "output_type": "stream",
          "name": "stdout",
          "text": [
            "File content as a list:\n",
            "['Hello, this is a test string.']\n"
          ]
        }
      ]
    },
    {
      "cell_type": "markdown",
      "source": [
        "**10. How can you append data to an existing file in Python?**\n"
      ],
      "metadata": {
        "id": "ioGe3wK5tpHT"
      }
    },
    {
      "cell_type": "code",
      "source": [
        "# Appending data to an existing file\n",
        "file_name = 'example.txt'  # Replace with your file name\n",
        "\n",
        "data_to_append = \"\\nThis is a new line added to the file.\"\n",
        "\n",
        "try:\n",
        "    # Open the file in append mode\n",
        "    with open(file_name, 'a') as file:\n",
        "        file.write(data_to_append)  # Write the new data to the file\n",
        "\n",
        "    print(f\"Data successfully appended to '{file_name}'.\")\n",
        "\n",
        "except Exception as e:\n",
        "    print(f\"An error occurred: {e}\")\n"
      ],
      "metadata": {
        "colab": {
          "base_uri": "https://localhost:8080/"
        },
        "id": "QNcOTU8DuF83",
        "outputId": "dde9faac-fe41-4c38-90f1-7f2fa941546f"
      },
      "execution_count": 12,
      "outputs": [
        {
          "output_type": "stream",
          "name": "stdout",
          "text": [
            "Data successfully appended to 'example.txt'.\n"
          ]
        }
      ]
    },
    {
      "cell_type": "markdown",
      "source": [
        "**11. Write a Python program that uses a try-except block to handle an error when attempting to access a dictionary key that doesn't exist?**"
      ],
      "metadata": {
        "id": "XGrfkKmDuPZB"
      }
    },
    {
      "cell_type": "code",
      "source": [
        "# Dictionary example\n",
        "my_dict = {\n",
        "    \"name\": \"John\",\n",
        "    \"age\": 30,\n",
        "    \"city\": \"New York\"\n",
        "}\n",
        "\n",
        "# Key to access\n",
        "key_to_access = \"country\"  # This key doesn't exist in the dictionary\n",
        "\n",
        "try:\n",
        "    # Attempting to access a key in the dictionary\n",
        "    value = my_dict[key_to_access]\n",
        "    print(f\"The value for '{key_to_access}' is: {value}\")\n",
        "\n",
        "except KeyError:\n",
        "    # Handling the error if the key does not exist in the dictionary\n",
        "    print(f\"Error: The key '{key_to_access}' does not exist in the dictionary.\")\n"
      ],
      "metadata": {
        "colab": {
          "base_uri": "https://localhost:8080/"
        },
        "id": "6Rskunx8uaZC",
        "outputId": "814c0bc9-89f7-4590-8190-dfdc57c0850a"
      },
      "execution_count": 13,
      "outputs": [
        {
          "output_type": "stream",
          "name": "stdout",
          "text": [
            "Error: The key 'country' does not exist in the dictionary.\n"
          ]
        }
      ]
    },
    {
      "cell_type": "markdown",
      "source": [
        "**12. Write a program that demonstrates using multiple except blocks to handle different types of exceptions**\n"
      ],
      "metadata": {
        "id": "-MoHx001uwHY"
      }
    },
    {
      "cell_type": "code",
      "source": [
        "# Program to demonstrate multiple except blocks for different exceptions\n",
        "\n",
        "def perform_operations():\n",
        "    try:\n",
        "        # Ask for user input\n",
        "        numerator = int(input(\"Enter the numerator: \"))\n",
        "        denominator = int(input(\"Enter the denominator: \"))\n",
        "\n",
        "        # Perform division (may raise ZeroDivisionError or ValueError)\n",
        "        result = numerator / denominator\n",
        "        print(f\"The result of the division is: {result}\")\n",
        "\n",
        "    except ZeroDivisionError:\n",
        "        # Handle division by zero\n",
        "        print(\"Error: Cannot divide by zero!\")\n",
        "\n",
        "    except ValueError:\n",
        "        # Handle invalid input (not a number)\n",
        "        print(\"Error: Please enter valid numbers!\")\n",
        "\n",
        "    except Exception as e:\n",
        "        # Catch any other exception\n",
        "        print(f\"An unexpected error occurred: {e}\")\n",
        "\n",
        "# Call the function\n",
        "perform_operations()\n"
      ],
      "metadata": {
        "colab": {
          "base_uri": "https://localhost:8080/"
        },
        "id": "N7-_-vaOu6zm",
        "outputId": "9fd9c4a9-1c27-4c39-a4cb-dc53806ed477"
      },
      "execution_count": 14,
      "outputs": [
        {
          "output_type": "stream",
          "name": "stdout",
          "text": [
            "Enter the numerator: 8\n",
            "Enter the denominator: 10\n",
            "The result of the division is: 0.8\n"
          ]
        }
      ]
    },
    {
      "cell_type": "markdown",
      "source": [
        "**13. How would you check if a file exists before attempting to read it in Python?**\n"
      ],
      "metadata": {
        "id": "s5Ca2V-MvEJC"
      }
    },
    {
      "cell_type": "code",
      "source": [
        "import os\n",
        "\n",
        "file_name = 'example.txt'\n",
        "\n",
        "# Check if the file exists\n",
        "if os.path.exists(file_name):\n",
        "    try:\n",
        "        with open(file_name, 'r') as file:\n",
        "            content = file.read()\n",
        "            print(content)\n",
        "    except Exception as e:\n",
        "        print(f\"An error occurred: {e}\")\n",
        "else:\n",
        "    print(f\"The file '{file_name}' does not exist.\")\n"
      ],
      "metadata": {
        "colab": {
          "base_uri": "https://localhost:8080/"
        },
        "id": "JxY3-gnRvKJU",
        "outputId": "86682aa0-fc38-4a67-8421-f7e1223375ec"
      },
      "execution_count": 15,
      "outputs": [
        {
          "output_type": "stream",
          "name": "stdout",
          "text": [
            "Hello, this is a test string.\n",
            "This is a new line added to the file.\n"
          ]
        }
      ]
    },
    {
      "cell_type": "markdown",
      "source": [
        "**14. Write a program that uses the logging module to log both informational and error messages**\n"
      ],
      "metadata": {
        "id": "94xtu1afvTvy"
      }
    },
    {
      "cell_type": "code",
      "source": [
        "import logging\n",
        "\n",
        "# Set up logging configuration\n",
        "logging.basicConfig(\n",
        "    filename='app_log.txt',\n",
        "    level=logging.DEBUG,  # Log all levels (DEBUG and above)\n",
        "    format='%(asctime)s - %(levelname)s - %(message)s'\n",
        ")\n",
        "\n",
        "def perform_operations():\n",
        "    try:\n",
        "        # Log informational message\n",
        "        logging.info(\"Starting the operation...\")\n",
        "\n",
        "        # Simulating an operation (e.g., division)\n",
        "        numerator = 10\n",
        "        denominator = 0  # This will cause an error (division by zero)\n",
        "\n",
        "        result = numerator / denominator  # This will raise a ZeroDivisionError\n",
        "        logging.info(f\"The result of the operation is: {result}\")\n",
        "\n",
        "    except ZeroDivisionError:\n",
        "        logging.error(\"Error: Cannot divide by zero!\")\n",
        "\n",
        "    except Exception as e:\n",
        "        logging.error(f\"An unexpected error occurred: {e}\")\n",
        "\n",
        "# Call the function to perform operations\n",
        "perform_operations()\n",
        "\n",
        "# Additional info message outside the function\n",
        "logging.info(\"Operation completed.\")\n"
      ],
      "metadata": {
        "colab": {
          "base_uri": "https://localhost:8080/"
        },
        "id": "r795LUlkvW27",
        "outputId": "2b54e09c-beda-4d93-e3cf-cd7a3eb905ed"
      },
      "execution_count": 19,
      "outputs": [
        {
          "output_type": "stream",
          "name": "stderr",
          "text": [
            "ERROR:root:Error: Cannot divide by zero!\n"
          ]
        }
      ]
    },
    {
      "cell_type": "markdown",
      "source": [
        "**15. Write a Python program that prints the content of a file and handles the case when the file is empty**\n"
      ],
      "metadata": {
        "id": "UteGk_E4vrM7"
      }
    },
    {
      "cell_type": "code",
      "source": [
        "def print_file_content(file_path):\n",
        "    try:\n",
        "        with open(file_path, 'r') as file:\n",
        "            content = file.read()\n",
        "            if not content:\n",
        "                print(\"The file is empty.\")\n",
        "            else:\n",
        "                print(content)\n",
        "    except FileNotFoundError:\n",
        "        print(f\"The file at {file_path} does not exist.\")\n",
        "    except Exception as e:\n",
        "        print(f\"An error occurred: {e}\")\n",
        "\n",
        "# Example usage\n",
        "file_path = \"example.txt\"  # Replace with your file path\n",
        "print_file_content(file_path)\n"
      ],
      "metadata": {
        "colab": {
          "base_uri": "https://localhost:8080/"
        },
        "id": "CgRfLMirv2eB",
        "outputId": "019ce795-e0ad-4845-a8a1-35a616a61da7"
      },
      "execution_count": 20,
      "outputs": [
        {
          "output_type": "stream",
          "name": "stdout",
          "text": [
            "Hello, this is a test string.\n",
            "This is a new line added to the file.\n"
          ]
        }
      ]
    },
    {
      "cell_type": "markdown",
      "source": [
        "**16. Demonstrate how to use memory profiling to check the memory usage of a small program**\n"
      ],
      "metadata": {
        "id": "frAzKgqvv-Gi"
      }
    },
    {
      "cell_type": "code",
      "source": [
        "pip install memory-profiler\n"
      ],
      "metadata": {
        "colab": {
          "base_uri": "https://localhost:8080/"
        },
        "id": "nbvgDzIMwDHi",
        "outputId": "fab7a8ff-2454-4aef-f701-202a6d9bec4c"
      },
      "execution_count": 21,
      "outputs": [
        {
          "output_type": "stream",
          "name": "stdout",
          "text": [
            "Collecting memory-profiler\n",
            "  Downloading memory_profiler-0.61.0-py3-none-any.whl.metadata (20 kB)\n",
            "Requirement already satisfied: psutil in /usr/local/lib/python3.11/dist-packages (from memory-profiler) (5.9.5)\n",
            "Downloading memory_profiler-0.61.0-py3-none-any.whl (31 kB)\n",
            "Installing collected packages: memory-profiler\n",
            "Successfully installed memory-profiler-0.61.0\n"
          ]
        }
      ]
    },
    {
      "cell_type": "code",
      "source": [
        "from memory_profiler import profile\n",
        "\n",
        "@profile\n",
        "def my_function():\n",
        "    a = [i for i in range(1000)]  # Creates a list of 1000 integers\n",
        "    b = [i**2 for i in range(1000)]  # Creates another list of 1000 squared numbers\n",
        "    c = sum(a)  # Calculate the sum of list a\n",
        "    return c\n",
        "\n",
        "if __name__ == \"__main__\":\n",
        "    my_function()\n"
      ],
      "metadata": {
        "colab": {
          "base_uri": "https://localhost:8080/"
        },
        "id": "_byUhe9twdHu",
        "outputId": "31402aa4-25fe-4e54-8b52-6855515014de"
      },
      "execution_count": 23,
      "outputs": [
        {
          "output_type": "stream",
          "name": "stdout",
          "text": [
            "ERROR: Could not find file <ipython-input-23-f73887804662>\n",
            "NOTE: %mprun can only be used on functions defined in physical files, and not in the IPython environment.\n"
          ]
        }
      ]
    },
    {
      "cell_type": "markdown",
      "source": [
        "**17. Write a Python program to create and write a list of numbers to a file, one number per line**\n"
      ],
      "metadata": {
        "id": "w7t-757Swi1b"
      }
    },
    {
      "cell_type": "code",
      "source": [
        "# List of numbers to write to a file\n",
        "numbers = [1, 2, 3, 4, 5, 6, 7, 8, 9, 10]\n",
        "\n",
        "# Open a file in write mode\n",
        "with open('numbers.txt', 'w') as file:\n",
        "    # Write each number to the file on a new line\n",
        "    for number in numbers:\n",
        "        file.write(f\"{number}\\n\")\n",
        "\n",
        "print(\"Numbers have been written to 'numbers.txt'.\")\n"
      ],
      "metadata": {
        "colab": {
          "base_uri": "https://localhost:8080/"
        },
        "id": "NWSzXljjwryb",
        "outputId": "01635021-628d-401e-f1c6-d8a56c0d0c63"
      },
      "execution_count": 24,
      "outputs": [
        {
          "output_type": "stream",
          "name": "stdout",
          "text": [
            "Numbers have been written to 'numbers.txt'.\n"
          ]
        }
      ]
    },
    {
      "cell_type": "markdown",
      "source": [
        "**18. How would you implement a basic logging setup that logs to a file with rotation after 1MB**\n"
      ],
      "metadata": {
        "id": "EJRena2cwy9B"
      }
    },
    {
      "cell_type": "code",
      "source": [
        "import logging\n",
        "from logging.handlers import RotatingFileHandler\n",
        "\n",
        "# Set up logging with rotation after 1MB\n",
        "log_file = 'app.log'\n",
        "max_log_size = 1 * 1024 * 1024  # 1MB\n",
        "backup_count = 3  # Keep 3 backup log files\n",
        "\n",
        "# Create a logger\n",
        "logger = logging.getLogger('my_logger')\n",
        "logger.setLevel(logging.DEBUG)  # Set the logging level\n",
        "\n",
        "# Create a rotating file handler\n",
        "handler = RotatingFileHandler(log_file, maxBytes=max_log_size, backupCount=backup_count)\n",
        "handler.setLevel(logging.DEBUG)\n",
        "\n",
        "# Create a log format\n",
        "formatter = logging.Formatter('%(asctime)s - %(levelname)s - %(message)s')\n",
        "handler.setFormatter(formatter)\n",
        "\n",
        "# Add the handler to the logger\n",
        "logger.addHandler(handler)\n",
        "\n",
        "# Example log entries\n",
        "logger.debug(\"This is a debug message.\")\n",
        "logger.info(\"This is an info message.\")\n",
        "logger.warning(\"This is a warning message.\")\n",
        "logger.error(\"This is an error message.\")\n"
      ],
      "metadata": {
        "colab": {
          "base_uri": "https://localhost:8080/"
        },
        "id": "AXkdDxxYxA_8",
        "outputId": "9446dca2-d9aa-4930-8836-ce29c4f435dc"
      },
      "execution_count": 27,
      "outputs": [
        {
          "output_type": "stream",
          "name": "stderr",
          "text": [
            "DEBUG:my_logger:This is a debug message.\n",
            "INFO:my_logger:This is an info message.\n",
            "WARNING:my_logger:This is a warning message.\n",
            "ERROR:my_logger:This is an error message.\n"
          ]
        }
      ]
    },
    {
      "cell_type": "markdown",
      "source": [
        "**19. Write a program that handles both IndexError and KeyError using a try-except block**\n"
      ],
      "metadata": {
        "id": "Wicmuz1wxThM"
      }
    },
    {
      "cell_type": "code",
      "source": [
        "def handle_errors():\n",
        "    my_list = [1, 2, 3]\n",
        "    my_dict = {'a': 1, 'b': 2, 'c': 3}\n",
        "\n",
        "    try:\n",
        "        # Trying to access an invalid index in the list (IndexError)\n",
        "        list_value = my_list[5]\n",
        "\n",
        "        # Trying to access a key that doesn't exist in the dictionary (KeyError)\n",
        "        dict_value = my_dict['d']\n",
        "\n",
        "    except IndexError as e:\n",
        "        print(f\"IndexError occurred: {e}\")\n",
        "\n",
        "    except KeyError as e:\n",
        "        print(f\"KeyError occurred: {e}\")\n",
        "\n",
        "# Run the function to see the error handling in action\n",
        "handle_errors()\n"
      ],
      "metadata": {
        "colab": {
          "base_uri": "https://localhost:8080/"
        },
        "id": "inK7SwkMxbVZ",
        "outputId": "831d17da-fded-4344-be01-3c64f1e2c130"
      },
      "execution_count": 28,
      "outputs": [
        {
          "output_type": "stream",
          "name": "stdout",
          "text": [
            "IndexError occurred: list index out of range\n"
          ]
        }
      ]
    },
    {
      "cell_type": "markdown",
      "source": [
        "**20. How would you open a file and read its contents using a context manager in Python?**\n"
      ],
      "metadata": {
        "id": "jAKCq7m7xncX"
      }
    },
    {
      "cell_type": "code",
      "source": [
        "# Open and read a file using a context manager\n",
        "file_name = 'example.txt'\n",
        "\n",
        "with open(file_name, 'r') as file:\n",
        "    # Read the entire contents of the file\n",
        "    content = file.read()\n",
        "\n",
        "# The file is automatically closed after the 'with' block\n",
        "print(\"File contents:\")\n",
        "print(content)\n"
      ],
      "metadata": {
        "colab": {
          "base_uri": "https://localhost:8080/"
        },
        "id": "fp9viz7cxq7u",
        "outputId": "849987ba-645a-4142-87ea-1e4df7e67057"
      },
      "execution_count": 29,
      "outputs": [
        {
          "output_type": "stream",
          "name": "stdout",
          "text": [
            "File contents:\n",
            "Hello, this is a test string.\n",
            "This is a new line added to the file.\n"
          ]
        }
      ]
    },
    {
      "cell_type": "markdown",
      "source": [
        "**21. Write a Python program that reads a file and prints the number of occurrences of a specific word**\n"
      ],
      "metadata": {
        "id": "NPTp1Kpfx1RT"
      }
    },
    {
      "cell_type": "code",
      "source": [
        "def count_word_occurrences(file_name, word_to_find):\n",
        "    try:\n",
        "        with open(file_name, 'r') as file:\n",
        "            # Initialize a counter for the word occurrences\n",
        "            word_count = 0\n",
        "\n",
        "            # Read the file line by line\n",
        "            for line in file:\n",
        "                # Split each line into words and count occurrences of the target word\n",
        "                word_count += line.lower().split().count(word_to_find.lower())\n",
        "\n",
        "        print(f\"The word '{word_to_find}' appears {word_count} times in the file.\")\n",
        "\n",
        "    except FileNotFoundError:\n",
        "        print(f\"The file '{file_name}' was not found.\")\n",
        "\n",
        "# Example usage\n",
        "file_name = 'example.txt'  # Replace with your file path\n",
        "word_to_find = 'python'  # Replace with the word you want to count\n",
        "count_word_occurrences(file_name, word_to_find)\n"
      ],
      "metadata": {
        "colab": {
          "base_uri": "https://localhost:8080/"
        },
        "id": "_4iAWRvWyAHI",
        "outputId": "cb6cac2a-8ea1-49ee-aa89-5ebdc1f24f00"
      },
      "execution_count": 30,
      "outputs": [
        {
          "output_type": "stream",
          "name": "stdout",
          "text": [
            "The word 'python' appears 0 times in the file.\n"
          ]
        }
      ]
    },
    {
      "cell_type": "markdown",
      "source": [
        "**22. How can you check if a file is empty before attempting to read its contents**\n"
      ],
      "metadata": {
        "id": "4do6qu0NyMh3"
      }
    },
    {
      "cell_type": "code",
      "source": [
        "import os\n",
        "\n",
        "def read_file_if_not_empty(file_name):\n",
        "    # Check if the file exists and is not empty\n",
        "    if os.path.exists(file_name) and os.path.getsize(file_name) > 0:\n",
        "        with open(file_name, 'r') as file:\n",
        "            content = file.read()\n",
        "            print(\"File contents:\")\n",
        "            print(content)\n",
        "    else:\n",
        "        print(f\"The file '{file_name}' is empty or does not exist.\")\n",
        "\n",
        "# Example usage\n",
        "file_name = 'example.txt'  # Replace with your file path\n",
        "read_file_if_not_empty(file_name)\n"
      ],
      "metadata": {
        "colab": {
          "base_uri": "https://localhost:8080/"
        },
        "id": "jNmBAkGBySi6",
        "outputId": "5c09c48a-c519-4bea-846c-039cbe03a939"
      },
      "execution_count": 31,
      "outputs": [
        {
          "output_type": "stream",
          "name": "stdout",
          "text": [
            "File contents:\n",
            "Hello, this is a test string.\n",
            "This is a new line added to the file.\n"
          ]
        }
      ]
    },
    {
      "cell_type": "markdown",
      "source": [
        "**23. Write a Python program that writes to a log file when an error occurs during file handling.**\n"
      ],
      "metadata": {
        "id": "0jF5W9CcyZ2l"
      }
    },
    {
      "cell_type": "code",
      "source": [
        "import logging\n",
        "\n",
        "# Set up logging configuration\n",
        "logging.basicConfig(filename='error_log.txt', level=logging.ERROR,\n",
        "                    format='%(asctime)s - %(levelname)s - %(message)s')\n",
        "\n",
        "def read_file(file_path):\n",
        "    try:\n",
        "        with open(file_path, 'r') as file:\n",
        "            data = file.read()\n",
        "            print(data)\n",
        "    except Exception as e:\n",
        "        logging.error(f\"Error reading file {file_path}: {e}\")\n",
        "        print(f\"An error occurred: {e}\")\n",
        "\n",
        "def write_file(file_path, content):\n",
        "    try:\n",
        "        with open(file_path, 'w') as file:\n",
        "            file.write(content)\n",
        "            print(\"File written successfully.\")\n",
        "    except Exception as e:\n",
        "        logging.error(f\"Error writing to file {file_path}: {e}\")\n",
        "        print(f\"An error occurred: {e}\")\n",
        "\n",
        "# Example usage\n",
        "read_file(\"non_existent_file.txt\")  # This will raise an error\n",
        "write_file(\"sample.txt\", \"This is some content.\")  # This will write content\n"
      ],
      "metadata": {
        "colab": {
          "base_uri": "https://localhost:8080/"
        },
        "id": "5b0pX7bSycz3",
        "outputId": "16e7f0e3-8c51-4dd6-d029-87ad0ae47a68"
      },
      "execution_count": 32,
      "outputs": [
        {
          "output_type": "stream",
          "name": "stderr",
          "text": [
            "ERROR:root:Error reading file non_existent_file.txt: [Errno 2] No such file or directory: 'non_existent_file.txt'\n"
          ]
        },
        {
          "output_type": "stream",
          "name": "stdout",
          "text": [
            "An error occurred: [Errno 2] No such file or directory: 'non_existent_file.txt'\n",
            "File written successfully.\n"
          ]
        }
      ]
    }
  ]
}