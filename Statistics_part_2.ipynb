{
  "nbformat": 4,
  "nbformat_minor": 0,
  "metadata": {
    "colab": {
      "provenance": []
    },
    "kernelspec": {
      "name": "python3",
      "display_name": "Python 3"
    },
    "language_info": {
      "name": "python"
    }
  },
  "cells": [
    {
      "cell_type": "markdown",
      "source": [
        " **1. What is hypothesis testing in statistics?**"
      ],
      "metadata": {
        "id": "SxfV-9xYHjXh"
      }
    },
    {
      "cell_type": "markdown",
      "source": [
        "Hypothesis testing in statistics is a method used to make inferences or draw conclusions about a population based on sample data. It involves formulating two competing hypotheses and using statistical techniques to determine which one is more likely given the observed data.\n",
        "\n",
        "Key Components of Hypothesis Testing:\n",
        "Null Hypothesis (H₀):\n",
        "\n",
        "Represents the default or no-effect assumption.\n",
        "\n",
        "Example: \"The average test score of students is 75.\"\n",
        "\n",
        "Alternative Hypothesis (H₁ or Ha):\n",
        "\n",
        "Represents the opposite of the null hypothesis, indicating an effect or difference.\n",
        "\n",
        "Example: \"The average test score of students is not 75.\"\n",
        "\n",
        "Significance Level (α):\n",
        "\n",
        "The probability of rejecting the null hypothesis when it is actually true (Type I error).\n",
        "\n",
        "Common values: 0.05 (5%) or 0.01 (1%).\n",
        "\n",
        "Test Statistic:\n",
        "\n",
        "A numerical value calculated from the sample data used to determine whether to reject H₀.\n",
        "\n",
        "Examples: Z-score, t-score, F-statistic, chi-square value.\n",
        "\n",
        "P-value:\n",
        "\n",
        "The probability of obtaining a test statistic at least as extreme as the observed one, assuming H₀ is true.\n",
        "\n",
        "If p-value ≤ α, reject H₀ (significant result).\n",
        "\n",
        "If p-value > α, fail to reject H₀ (not enough evidence).\n",
        "\n",
        "Decision:\n",
        "\n",
        "Reject H₀ if the evidence strongly supports H₁.\n",
        "\n",
        "Fail to reject H₀ if there isn’t enough evidence to support H₁.\n",
        "\n",
        "Types of Hypothesis Tests:\n",
        "Z-test: Used when the population variance is known and the sample size is large.\n",
        "\n",
        "T-test: Used when the population variance is unknown and the sample size is small.\n",
        "\n",
        "Chi-square test: Used for categorical data to test relationships or goodness of fit.\n",
        "\n",
        "ANOVA (Analysis of Variance): Used to compare means of three or more groups.\n",
        "\n",
        "Regression Analysis: Used to test relationships between variables."
      ],
      "metadata": {
        "id": "WcEZkfIaH2Y_"
      }
    },
    {
      "cell_type": "markdown",
      "source": [
        " **2. What is the null hypothesis, and how does it differ from the alternative hypothesis?**"
      ],
      "metadata": {
        "id": "Jtu2nXf1IYz-"
      }
    },
    {
      "cell_type": "markdown",
      "source": [
        "Null Hypothesis (H₀) vs. Alternative Hypothesis (H₁ or Ha)\n",
        "\n",
        "1. Null Hypothesis (H₀):\n",
        "The null hypothesis is a statement of no effect, no difference, or status quo in a statistical test.\n",
        "\n",
        "It assumes that any observed effect in the data is due to chance.\n",
        "\n",
        "The goal of hypothesis testing is to assess whether there is enough evidence to reject the null hypothesis.\n",
        "\n",
        "✅ Example:\n",
        "\n",
        "A pharmaceutical company tests a new drug and states:\n",
        "\n",
        "H₀: \"The new drug has no effect on blood pressure.\"\n",
        "\n",
        "2. Alternative Hypothesis (H₁ or Ha):\n",
        "\n",
        "The alternative hypothesis represents a statement of change, effect, or difference.\n",
        "\n",
        "It suggests that there is a real effect or a relationship between variables.\n",
        "\n",
        "If enough evidence is found, we reject H₀ in favor of H₁.\n",
        "\n",
        "✅ Example:\n",
        "\n",
        "Continuing with the drug test:\n",
        "\n",
        "H₁: \"The new drug reduces blood pressure.\""
      ],
      "metadata": {
        "id": "uSkn0q3bIth1"
      }
    },
    {
      "cell_type": "markdown",
      "source": [
        "**3. What is the significance level in hypothesis testing, and why is it important?**\n"
      ],
      "metadata": {
        "id": "kZv7dhlSJITy"
      }
    },
    {
      "cell_type": "markdown",
      "source": [
        "Significance Level (α) in Hypothesis Testing:\n",
        "\n",
        "The significance level (α) is the probability of rejecting the null hypothesis (H₀) when it is actually true. It represents the threshold for statistical significance and helps determine whether the observed results are due to chance or a real effect.\n",
        "\n",
        "Why is it Important?\n",
        "\n",
        "1. Controls Type I Error (False Positive):\n",
        "\n",
        "Type I error occurs when we reject H₀ even though it is actually true.\n",
        "\n",
        "A lower α reduces the risk of making this error.\n",
        "\n",
        "2. Helps in Decision-Making:\n",
        "\n",
        "\n",
        "It provides a clear rule: If the p-value is less than α, we reject H₀.\n",
        "\n",
        "If the p-value is greater than α, we fail to reject H₀.\n",
        "\n",
        "3. Balances Accuracy and Sensitivity:\n",
        "\n",
        "A lower α (e.g., 0.01) makes the test stricter, reducing false positives but increasing false negatives.\n",
        "\n",
        "A higher α (e.g., 0.10) makes the test more lenient, increasing sensitivity but also false positives"
      ],
      "metadata": {
        "id": "hVCxox_2JLxm"
      }
    },
    {
      "cell_type": "markdown",
      "source": [
        "**4. What does a P-value represent in hypothesis testing?**\n"
      ],
      "metadata": {
        "id": "WARXKQzTLqiS"
      }
    },
    {
      "cell_type": "markdown",
      "source": [
        "The p-value (probability value) represents the likelihood of obtaining the observed data, or something more extreme, assuming the null hypothesis (H₀) is true. It helps determine whether the results of a test are statistically significant.\n",
        "\n",
        "Interpretation of the P-Value:\n",
        "\n",
        "Low p-value (≤ α) → Strong evidence against H₀ → Reject H₀\n",
        "\n",
        "High p-value (> α) → Weak evidence against H₀ → Fail to reject H₀"
      ],
      "metadata": {
        "id": "UOhcucm-NJZ1"
      }
    },
    {
      "cell_type": "markdown",
      "source": [
        "**5. How do you interpret the P-value in hypothesis testing?**\n"
      ],
      "metadata": {
        "id": "Vm-0aNdZNeED"
      }
    },
    {
      "cell_type": "markdown",
      "source": [
        "The p-value helps determine whether the observed data provide enough evidence to reject the null hypothesis (H₀).\n",
        "\n",
        "Key Interpretations:\n",
        "Low p-value (≤ α) → Strong evidence against H₀ → Reject H₀\n",
        "\n",
        "High p-value (> α) → Weak evidence against H₀ → Fail to reject H₀\n",
        "\n",
        "Example 1: Drug Effectiveness:\n",
        "\n",
        "A pharmaceutical company tests a new drug:\n",
        "\n",
        "H₀: \"The drug has no effect on blood pressure.\"\n",
        "\n",
        "H₁: \"The drug lowers blood pressure.\"\n",
        "\n",
        "Significance level (α) = 0.05\n",
        "\n",
        "Possible Outcomes:\n",
        "p = 0.002 → Reject H₀ → The drug is highly effective.\n",
        "\n",
        "p = 0.03 → Reject H₀ → The drug likely works.\n",
        "\n",
        "p = 0.08 → Fail to reject H₀ → Not enough evidence to prove the drug works.\n",
        "\n",
        "p = 0.15 → Fail to reject H₀ → Strong evidence that the drug has no effect.\n",
        "\n",
        "Important Considerations:\n",
        "\n",
        "✅ A small p-value doesn’t prove H₁ is true, it just suggests strong evidence against H₀.\n",
        "\n",
        "✅ A large p-value doesn’t prove H₀ is true, it just means there isn’t enough evidence to reject it.\n",
        "\n",
        "✅ The significance level (α) is chosen before the test, usually 0.05 (5%)."
      ],
      "metadata": {
        "id": "wiU0ZWuINlAX"
      }
    },
    {
      "cell_type": "markdown",
      "source": [
        "**6. What are Type 1 and Type 2 errors in hypothesis testing?**\n"
      ],
      "metadata": {
        "id": "vOWYZDSZN-zK"
      }
    },
    {
      "cell_type": "markdown",
      "source": [
        "In hypothesis testing, Type 1 and Type 2 errors refer to incorrect conclusions drawn from a statistical test.\n",
        "\n",
        "Type 1 Error (False Positive):\n",
        "\n",
        "Occurs when the null hypothesis (H₀) is rejected when it is actually true.\n",
        "\n",
        "Example: Convicting an innocent person in a trial.\n",
        "\n",
        "Probability of making a Type 1 error = α (alpha) (significance level, e.g., 0.05).\n",
        "\n",
        "Type 2 Error (False Negative):\n",
        "\n",
        "Occurs when the null hypothesis (H₀) is not rejected when it is actually false.\n",
        "\n",
        "Example: Letting a guilty person go free.\n",
        "\n",
        "Probability of making a Type 2 error = β (beta).\n",
        "\n",
        "\n",
        "There is a trade-off between these errors:\n",
        "\n",
        "Lowering α reduces Type 1 errors but increases Type 2 errors.\n",
        "\n",
        "Increasing sample size helps reduce both errors."
      ],
      "metadata": {
        "id": "NDMPh2AHOP5m"
      }
    },
    {
      "cell_type": "markdown",
      "source": [
        "**7. What is the difference between a one-tailed and a two-tailed test in hypothesis testing?**\n"
      ],
      "metadata": {
        "id": "Mt463e7AOaDz"
      }
    },
    {
      "cell_type": "markdown",
      "source": [
        "In hypothesis testing, the key difference between a one-tailed and a two-tailed test is how the rejection region is set in relation to the alternative hypothesis (H₁).\n",
        "\n",
        "One-Tailed Test:\n",
        "\n",
        "Tests for an effect in one specific direction (either greater than or less than).\n",
        "\n",
        "The critical region is entirely on one side of the distribution.\n",
        "\n",
        "Used when we have a prior expectation about the direction of the effect.\n",
        "\n",
        "Example:\n",
        "\n",
        "H₀: A new drug has no effect.\n",
        "\n",
        "H₁: The new drug increases recovery rates (right-tailed test).\n",
        "\n",
        "If test statistics fall in the right tail, we reject H₀.\n",
        "\n",
        "Two-Tailed Test:\n",
        "\n",
        "Tests for an effect in either direction (both greater than and less than).\n",
        "\n",
        "The critical region is split between both tails of the distribution.\n",
        "\n",
        "Used when we are testing for any significant difference, not just in one direction.\n",
        "\n",
        "Example:\n",
        "\n",
        "H₀: A coin is fair (probability of heads = 0.5).\n",
        "\n",
        "H₁: The coin is biased (probability of heads ≠ 0.5).\n",
        "\n",
        "If the test statistic falls in either extreme (too high or too low), we reject H₀."
      ],
      "metadata": {
        "id": "tgXnN_9VOsvH"
      }
    },
    {
      "cell_type": "markdown",
      "source": [
        "**8. What is the Z-test, and when is it used in hypothesis testing?**\n"
      ],
      "metadata": {
        "id": "_kFYtuFTPKEJ"
      }
    },
    {
      "cell_type": "markdown",
      "source": [
        "A Z-test is a statistical test used to determine whether two population means are different when the population variance is known and the sample size is large (n ≥ 30). It is based on the standard normal distribution (Z-distribution).\n",
        "\n",
        "When to Use a Z-Test?\n",
        "\n",
        "✅ Large Sample Size (typically n ≥ 30)\n",
        "\n",
        "✅ Population Variance is Known\n",
        "\n",
        "✅ Data is Normally Distributed (or approximates normality for large samples due to the Central Limit Theorem)"
      ],
      "metadata": {
        "id": "Yu1vIKohPVM_"
      }
    },
    {
      "cell_type": "markdown",
      "source": [
        "**9. How do you calculate the Z-score, and what does it represent in hypothesis testing?**\n"
      ],
      "metadata": {
        "id": "BqNg1XgGPuY3"
      }
    },
    {
      "cell_type": "markdown",
      "source": [
        "A Z-score (or standard score) tells us how many standard deviations a data point (or sample mean) is from the population mean. In hypothesis testing, it helps determine if the test statistic falls in the critical region for rejecting the null hypothesis (H₀).\n",
        "\n",
        "Formula for Z-Score\n",
        "\n",
        "For a single data point:\n",
        "\n",
        "𝑍\n",
        "=\n",
        "𝑋\n",
        "−\n",
        "𝜇/\n",
        "𝜎\n",
        "\n",
        "Where:\n",
        "\n",
        "𝑋\n",
        "X = Observed value\n",
        "\n",
        "𝜇\n",
        "μ = Population mean\n",
        "\n",
        "𝜎\n",
        "σ = Population standard deviation\n",
        "\n",
        "For a sample mean (One-Sample Z-Test):\n",
        "\n",
        "Z=\n",
        "σ/\n",
        "n\n",
        "​\n",
        "\n",
        "X\n",
        "ˉ\n",
        " −μ\n",
        "​\n",
        "\n",
        "Where:\n",
        "\n",
        "𝑋\n",
        "ˉ\n",
        "X\n",
        "ˉ\n",
        "  = Sample mean\n",
        "\n",
        "𝑛\n",
        "n = Sample size\n",
        "\n",
        "Interpreting the Z-Score\n",
        "Z = 0 → The value is equal to the mean.\n",
        "\n",
        "Z = +1 → The value is one standard deviation above the mean.\n",
        "\n",
        "Z = -2 → The value is two standard deviations below the mean.\n",
        "\n",
        "Higher |Z| values → More extreme results, making rejection of H₀ more likely.\n",
        "\n",
        "\n",
        "Z-Score in Hypothesis Testing\n",
        "\n",
        "Compute the Z-score using the formula.\n",
        "\n",
        "Compare it to the critical Z-value (from the Z-table) based on the significance level (α).\n",
        "\n",
        "For a two-tailed test (α = 0.05) → Critical values: ±1.96\n",
        "\n",
        "For a one-tailed test (α = 0.05) → Critical value: ±1.645 (right or left)\n",
        "\n",
        "Decision Rule:\n",
        "\n",
        "If |Z| > critical value, reject H₀.\n",
        "\n",
        "If |Z| ≤ critical value, fail to reject H₀.\n",
        "\n",
        "\n",
        "\n",
        "\n"
      ],
      "metadata": {
        "id": "WVJRi6YyP2Nf"
      }
    },
    {
      "cell_type": "markdown",
      "source": [
        "**10. What is the T-distribution, and when should it be used instead of the normal distribution?**\n"
      ],
      "metadata": {
        "id": "XUPUcMMCQpG-"
      }
    },
    {
      "cell_type": "markdown",
      "source": [
        "The t-distribution (Student’s t-distribution) is a probability distribution used for hypothesis testing and confidence intervals when the sample size is small and/or the population standard deviation is unknown.\n",
        "\n",
        "It is similar to the normal distribution but has heavier tails, meaning it accounts for more variability in small samples.\n",
        "\n",
        "Use the t-distribution when:\n",
        "\n",
        "✅ Sample size is small (n < 30)\n",
        "\n",
        "✅ Population standard deviation (σ) is unknown\n",
        "\n",
        "✅ Data is approximately normal\n",
        "\n"
      ],
      "metadata": {
        "id": "W2dT8-S_Q4bQ"
      }
    },
    {
      "cell_type": "markdown",
      "source": [
        "**11. What is the difference between a Z-test and a T-test?**\n"
      ],
      "metadata": {
        "id": "PmQu0kdvR7Dm"
      }
    },
    {
      "cell_type": "markdown",
      "source": [
        "A Z-test and a T-test are both used for hypothesis testing, but they are applied under different conditions.\n",
        "\n",
        "A Z-test is used when the sample size is large (n ≥ 30) and the population standard deviation (σ) is known. It relies on the normal distribution. Since larger samples approximate normality due to the Central Limit Theorem, the Z-test is appropriate for such cases.\n",
        "\n",
        "A T-test, on the other hand, is used when the sample size is small (n < 30) and the population standard deviation is unknown. Instead of the normal distribution, it follows the t-distribution, which has heavier tails to account for greater variability in small samples. The shape of the t-distribution changes depending on the degrees of freedom (df = n - 1), which decreases as the sample size gets smaller.\n",
        "\n",
        "\n",
        "For example, if you are testing whether the average sleep duration of students is 8 hours and you have a small sample (n = 15) with an unknown population standard deviation, you should use a T-test. However, if you had n = 100 and knew the population standard deviation, a Z-test would be more appropriate."
      ],
      "metadata": {
        "id": "ysFn_tWqSa-N"
      }
    },
    {
      "cell_type": "markdown",
      "source": [
        "**12. What is the T-test, and how is it used in hypothesis testing?**\n"
      ],
      "metadata": {
        "id": "sqZ6nGC_SgTx"
      }
    },
    {
      "cell_type": "markdown",
      "source": [
        "A T-test is a statistical test used to determine if there is a significant difference between the means of one or two groups when the sample size is small (n < 30) and the population standard deviation is unknown. It is based on the t-distribution, which adjusts for greater variability in small samples.\n",
        "\n",
        "Steps to Use a T-Test in Hypothesis Testing\n",
        "1. Define the Hypotheses\n",
        "Null Hypothesis (\n",
        "𝐻\n",
        "0\n",
        "H\n",
        "0\n",
        "​\n",
        " ): Assumes no difference or effect.\n",
        "\n",
        "Alternative Hypothesis (\n",
        "𝐻\n",
        "1\n",
        "H\n",
        "1\n",
        "​\n",
        " ): Assumes a difference exists.\n",
        "\n",
        "Example (One-Sample T-Test):\n",
        "\n",
        "𝐻\n",
        "0\n",
        "H\n",
        "0\n",
        "​\n",
        " : The average IQ of students = 100\n",
        "\n",
        "𝐻\n",
        "1\n",
        "H\n",
        "1\n",
        "​\n",
        " : The average IQ of students ≠ 100\n",
        " 2. Choose the Significance Level (\n",
        "𝛼\n",
        "α)\n",
        "Common choices: 0.05 (5%) or 0.01 (1%)\n",
        "\n",
        "Determines the probability of making a Type 1 error (rejecting\n",
        "𝐻\n",
        "0\n",
        "H\n",
        "0\n",
        "​\n",
        "  when it is true).\n",
        "\n",
        "  3. Collect Data and Calculate the T-Statistic\n",
        "Use the formula:\n",
        "\n",
        "𝑡\n",
        "=\n",
        "𝑋\n",
        "ˉ\n",
        "−\n",
        "𝜇\n",
        "𝑠\n",
        "/\n",
        "𝑛\n",
        "t=\n",
        "s/\n",
        "n\n",
        "​\n",
        "\n",
        "X\n",
        "ˉ\n",
        " −μ\n",
        "​\n",
        "\n",
        "Where:\n",
        "\n",
        "𝑋\n",
        "ˉ\n",
        "X\n",
        "ˉ\n",
        "  = Sample mean\n",
        "\n",
        "𝜇\n",
        "μ = Population mean\n",
        "\n",
        "𝑠\n",
        "s = Sample standard deviation\n",
        "\n",
        "𝑛\n",
        "n = Sample size\n",
        "\n",
        "For a two-sample T-test, the formula is adjusted to compare two means.\n",
        "\n",
        "4. Determine the Critical Value or P-Value\n",
        "Find the critical t-value from the t-distribution table based on degrees of freedom (df = n - 1).\n",
        "\n",
        "Alternatively, calculate the p-value (probability of obtaining the observed result if\n",
        "𝐻\n",
        "0\n",
        "H\n",
        "0\n",
        "​\n",
        "  is true).\n",
        "  5. Make a Decision\n",
        "If |t-statistic| > critical t-value, reject\n",
        "𝐻\n",
        "0\n",
        "H\n",
        "0\n",
        "​\n",
        " .\n",
        "\n",
        "If p-value <\n",
        "𝛼\n",
        "α, reject\n",
        "𝐻\n",
        "0\n",
        "H\n",
        "0\n",
        "​\n",
        " .\n",
        "\n",
        "If the test result does not exceed the critical value or the p-value is greater than\n",
        "𝛼\n",
        "α, fail to reject\n",
        "𝐻\n",
        "0\n",
        "H\n",
        "0\n",
        "​\n",
        "  (not enough evidence to support\n",
        "𝐻\n",
        "1\n",
        "H\n",
        "1\n",
        "​\n",
        " ).\n",
        "\n",
        "Example Use Case\n",
        "A company claims its employees work 8 hours per day. A sample of 12 employees reports an average of 7.5 hours with a sample standard deviation of 1 hour. The company wants to test if the work hours are significantly different at α = 0.05.\n",
        "\n",
        "𝑡\n",
        "=\n",
        "7.5\n",
        "−\n",
        "8\n",
        "1\n",
        "/\n",
        "12\n",
        "t=\n",
        "1/\n",
        "12\n",
        "​\n",
        "\n",
        "7.5−8\n",
        "​\n",
        "\n",
        "If the t-statistic is greater than the critical value (from the t-table), the company can conclude that work hours are significantly different from 8 hours per day."
      ],
      "metadata": {
        "id": "9Ts5AXg1Smbr"
      }
    },
    {
      "cell_type": "markdown",
      "source": [
        "**13. What is the relationship between Z-test and T-test in hypothesis testing?**\n"
      ],
      "metadata": {
        "id": "Oy2NMdjfTe_3"
      }
    },
    {
      "cell_type": "markdown",
      "source": [
        "Relationship Between Z-Test and T-Test in Hypothesis Testing\n",
        "The Z-test and T-test are both used to determine whether a sample mean differs significantly from a population mean or whether two groups have significantly different means. They are closely related but applied under different conditions.\n",
        "\n",
        "Key Relationship Between Z-Test and T-Test:\n",
        "\n",
        "Both are used for mean comparisons\n",
        "\n",
        "Both tests analyze whether a sample mean is significantly different from a population mean (one-sample test) or whether two sample means differ (two-sample test).\n",
        "\n",
        "They follow a similar structure, with test statistics calculated as the difference between means divided by the standard error.\n",
        "\n",
        "They are based on different distributions\n",
        "\n",
        "Z-Test: Uses the normal distribution (Z-distribution).\n",
        "\n",
        "T-Test: Uses the t-distribution, which has heavier tails, accounting for more variability in small samples.\n",
        "\n",
        "The T-test converges to the Z-test for large samples\n",
        "\n",
        "When the sample size is large (n ≥ 30), the t-distribution approximates the normal distribution.\n",
        "\n",
        "This means a T-test can be used in place of a Z-test for large samples, though traditionally, a Z-test is preferred when the population standard deviation (\n",
        "𝜎\n",
        "σ) is known.\n",
        "\n",
        "Degrees of freedom (df) affect the T-test\n",
        "\n",
        "The t-distribution changes based on the degrees of freedom (df = n - 1).\n",
        "\n",
        "As df increases (larger sample size), the t-distribution becomes more like the normal distribution, making the T-test and Z-test nearly identical for large samples.\n",
        "\n",
        "When to Use Each Test?\n",
        "\n",
        "Use the Z-Test when:\n",
        "✅ The sample size is large (n ≥ 30)\n",
        "\n",
        "✅ The population standard deviation (\n",
        "𝜎\n",
        "σ) is known\n",
        "\n",
        "Use the T-Test when:\n",
        "✅ The sample size is small (n < 30)\n",
        "\n",
        "✅ The population standard deviation is unknown (use sample standard deviation instead)\n",
        "\n",
        "Example of the Relationship\n",
        "A researcher wants to test if the average weight of a population is 70 kg.\n",
        "\n",
        "Scenario 1: n = 100,\n",
        "𝜎\n",
        "=\n",
        "5\n",
        "σ=5 kg → Z-test (large sample,\n",
        "𝜎\n",
        "σ known)\n",
        "\n",
        "Scenario 2: n = 20, sample standard deviation = 5 kg → T-test (small sample,\n",
        "𝜎\n",
        "σ unknown)\n",
        "\n",
        "For large samples, both tests would yield nearly the same result because the t-distribution approaches the normal distribution."
      ],
      "metadata": {
        "id": "w_ep1fwjTmWr"
      }
    },
    {
      "cell_type": "markdown",
      "source": [
        "**14. What is a confidence interval, and how is it used to interpret statistical results?**\n"
      ],
      "metadata": {
        "id": "92T4iwrvT3kd"
      }
    },
    {
      "cell_type": "markdown",
      "source": [
        "A confidence interval (CI) is a range of values that estimates the true population parameter (such as a mean or proportion) with a certain level of confidence. It provides a measure of uncertainty in statistical estimates.\n",
        "\n",
        "For example, if a 95% confidence interval for the average height of students is (165 cm, 175 cm), it means we are 95% confident that the true population mean falls within this range.\n",
        "\n",
        "How to Interpret a Confidence Interval?\n",
        "Confidence Level (e.g., 95%):\n",
        "\n",
        "A 95% confidence interval means that if we repeated the study many times, 95% of the calculated intervals would contain the true population mean.\n",
        "\n",
        "A 99% confidence interval would be wider and provide greater certainty but at the cost of less precision.\n",
        "\n",
        "If the Confidence Interval Includes a Hypothesized Value (e.g., 0 or a claimed mean):\n",
        "\n",
        "If the CI for a mean difference includes 0, it suggests no significant difference.\n",
        "\n",
        "If testing a population mean (\n",
        "𝜇\n",
        "0\n",
        "μ\n",
        "0\n",
        "​\n",
        " ) and the CI includes\n",
        "𝜇\n",
        "0\n",
        "μ\n",
        "0\n",
        "​\n",
        " , we fail to reject\n",
        "𝐻\n",
        "0\n",
        "H\n",
        "0\n",
        "​\n",
        " .\n",
        "\n",
        "Formula for Confidence Interval\n",
        "For a population mean (\n",
        "𝜇\n",
        "μ), the confidence interval is:\n",
        "\n",
        "CI\n",
        "=\n",
        "𝑋\n",
        "ˉ\n",
        "±\n",
        "(\n",
        "𝑡\n",
        "∗\n",
        "×\n",
        "𝑠\n",
        "𝑛\n",
        ")\n",
        "CI=\n",
        "X\n",
        "ˉ\n",
        " ±(t\n",
        "∗\n",
        " ×\n",
        "n\n",
        "​\n",
        "\n",
        "s\n",
        "​\n",
        " )\n",
        "Where:\n",
        "\n",
        "𝑋\n",
        "ˉ\n",
        "X\n",
        "ˉ\n",
        "  = Sample mean\n",
        "\n",
        "𝑡\n",
        "∗\n",
        "t\n",
        "∗\n",
        "  = Critical t-value (from t-table, based on confidence level and\n",
        "𝑑\n",
        "𝑓\n",
        "=\n",
        "𝑛\n",
        "−\n",
        "1\n",
        "df=n−1)\n",
        "\n",
        "𝑠\n",
        "s = Sample standard deviation\n",
        "\n",
        "𝑛\n",
        "n = Sample size\n",
        "\n",
        "For large samples (\n",
        "𝑛\n",
        "≥\n",
        "30\n",
        "n≥30) or known population standard deviation (\n",
        "𝜎\n",
        "σ), we use the Z-distribution instead of the t-distribution:\n",
        "\n",
        "CI\n",
        "=\n",
        "𝑋\n",
        "ˉ\n",
        "±\n",
        "(\n",
        "𝑍\n",
        "∗\n",
        "×\n",
        "𝜎\n",
        "𝑛\n",
        ")\n",
        "CI=\n",
        "X\n",
        "ˉ\n",
        " ±(Z\n",
        "∗\n",
        " ×\n",
        "n\n",
        "​\n",
        "\n",
        "σ\n",
        "​\n",
        " )\n",
        "Example: Constructing a 95% Confidence Interval\n",
        "A study finds that 20 students have an average height of 170 cm with a sample standard deviation of 5 cm. What is the 95% confidence interval for the true mean height?\n",
        "\n",
        "CI\n",
        "=\n",
        "170\n",
        "±\n",
        "(\n",
        "𝑡\n",
        "∗\n",
        "×\n",
        "5\n",
        "20\n",
        ")\n",
        "CI=170±(t\n",
        "∗\n",
        " ×\n",
        "20\n",
        "​\n",
        "\n",
        "5\n",
        "​\n",
        " )"
      ],
      "metadata": {
        "id": "vgupONJ7UNlu"
      }
    },
    {
      "cell_type": "markdown",
      "source": [
        "**15. What is the margin of error, and how does it affect the confidence interval?**\n"
      ],
      "metadata": {
        "id": "JMhufaz9UYuU"
      }
    },
    {
      "cell_type": "markdown",
      "source": [
        "The margin of error (MoE) is a measure of the uncertainty in a sample statistic, such as a population mean or proportion. It accounts for the possible variability due to sampling and helps indicate how much the sample estimate might differ from the true population value.\n",
        "\n",
        "Mathematically, the margin of error is calculated as:\n",
        "\n",
        "𝑀\n",
        "𝑜\n",
        "𝐸\n",
        "=\n",
        "𝑧\n",
        "∗\n",
        "×\n",
        "𝜎\n",
        "𝑛\n",
        "MoE=z\n",
        "∗\n",
        " ×\n",
        "n\n",
        "​\n",
        "\n",
        "σ\n",
        "​\n",
        "\n",
        "where:\n",
        "\n",
        "𝑧\n",
        "∗\n",
        "z\n",
        "∗\n",
        "  is the critical value from the standard normal or t-distribution (based on the confidence level),\n",
        "\n",
        "𝜎\n",
        "σ is the population standard deviation (or sample standard deviation if the population parameter is unknown),\n",
        "\n",
        "𝑛\n",
        "n is the sample size.\n",
        "\n",
        "How Does It Affect the Confidence Interval?\n",
        "A confidence interval (CI) is a range around a sample estimate that is likely to contain the true population parameter. It is calculated as:\n",
        "\n",
        "CI\n",
        "=\n",
        "Sample Estimate\n",
        "±\n",
        "Margin of Error\n",
        "CI=Sample Estimate±Margin of Error\n",
        "The margin of error determines the width of the confidence interval:\n",
        "\n",
        "Larger MoE → Wider CI (more uncertainty, less precision)\n",
        "\n",
        "Smaller MoE → Narrower CI (less uncertainty, more precision)\n",
        "\n",
        "Factors Affecting the Margin of Error\n",
        "Sample Size (\n",
        "𝑛\n",
        "n):\n",
        "\n",
        "Larger sample sizes reduce MoE, leading to a narrower CI.\n",
        "\n",
        "Smaller sample sizes increase MoE, resulting in a wider CI.\n",
        "\n",
        "Confidence Level:\n",
        "\n",
        "Higher confidence levels (e.g., 99%) increase MoE, making CI wider.\n",
        "\n",
        "Lower confidence levels (e.g., 90%) decrease MoE, making CI narrower.\n",
        "\n",
        "Standard Deviation (\n",
        "𝜎\n",
        "σ):\n",
        "\n",
        "Higher variability in the data increases MoE and widens the CI.\n",
        "\n",
        "Lower variability decreases MoE and narrows the CI.\n",
        "\n",
        "Key Takeaways\n",
        "The margin of error determines how precise a confidence interval is.\n",
        "\n",
        "A larger margin of error results in a wider confidence interval, while a smaller margin of error results in a narrower confidence interval.\n",
        "\n",
        "Increasing sample size or reducing variability can help decrease the margin of error, leading to a more precise estimate."
      ],
      "metadata": {
        "id": "3OG_ftnZUlM6"
      }
    },
    {
      "cell_type": "markdown",
      "source": [
        "**16. How is Bayes' Theorem used in statistics, and what is its significance?**\n"
      ],
      "metadata": {
        "id": "UCaQG_NNVC4j"
      }
    },
    {
      "cell_type": "markdown",
      "source": [
        "What is Bayes' Theorem?\n",
        "Bayes' Theorem is a mathematical formula used in probability and statistics to update the probability of an event based on new evidence. It is expressed as:\n",
        "\n",
        "𝑃\n",
        "(\n",
        "𝐴\n",
        "∣\n",
        "𝐵\n",
        ")\n",
        "=\n",
        "𝑃\n",
        "(\n",
        "𝐵\n",
        "∣\n",
        "𝐴\n",
        ")\n",
        "⋅\n",
        "𝑃\n",
        "(\n",
        "𝐴\n",
        ")\n",
        "𝑃\n",
        "(\n",
        "𝐵\n",
        ")\n",
        "P(A∣B)=\n",
        "P(B)\n",
        "P(B∣A)⋅P(A)\n",
        "​\n",
        "\n",
        "where:\n",
        "\n",
        "𝑃\n",
        "(\n",
        "𝐴\n",
        "∣\n",
        "𝐵\n",
        ")\n",
        "P(A∣B) is the posterior probability (updated probability of event\n",
        "𝐴\n",
        "A given evidence\n",
        "𝐵\n",
        "B).\n",
        "\n",
        "𝑃\n",
        "(\n",
        "𝐵\n",
        "∣\n",
        "𝐴\n",
        ")\n",
        "P(B∣A) is the likelihood (probability of observing evidence\n",
        "𝐵\n",
        "B if\n",
        "𝐴\n",
        "A is true).\n",
        "\n",
        "𝑃\n",
        "(\n",
        "𝐴\n",
        ")\n",
        "P(A) is the prior probability (initial belief about\n",
        "𝐴\n",
        "A before seeing evidence).\n",
        "\n",
        "𝑃\n",
        "(\n",
        "𝐵\n",
        ")\n",
        "P(B) is the marginal probability (total probability of observing\n",
        "𝐵\n",
        "B, considering all possible causes).\n",
        "\n",
        "How Is Bayes' Theorem Used in Statistics?\n",
        "\n",
        "1. Updating Beliefs with New Evidence:\n",
        "\n",
        "In inferential statistics, Bayes’ Theorem is used to update probabilities as more data becomes available.\n",
        "\n",
        "Example: In medical testing, if a person tests positive for a disease, Bayes' Theorem helps determine the actual probability that the person has the disease, considering false positives and the disease's prevalence.\n",
        "\n",
        "2. Bayesian Inference:\n",
        "\n",
        "A key concept in Bayesian statistics, which treats probability as a measure of belief rather than frequency.\n",
        "\n",
        "Bayesian inference continuously updates the probability of a hypothesis as new data comes in.\n",
        "\n",
        "3. Spam Filtering & Machine Learning:\n",
        "\n",
        "Used in Naïve Bayes classifiers, a fundamental machine learning algorithm for classifying text (e.g., spam vs. non-spam emails).\n",
        "\n",
        "4. Medical and Diagnostic Testing\n",
        "\n",
        "Helps calculate the probability of having a disease based on test results, factoring in test accuracy and disease prevalence.\n",
        "\n",
        "5. Risk Assessment & Decision Making\n",
        "\n",
        "Used in finance, insurance, and risk management to update the probability of events (e.g., stock price movements, insurance claims).\n",
        "\n",
        "Significance of Bayes' Theorem:\n",
        "\n",
        "Provides a way to incorporate new information into decision-making.\n",
        "\n",
        "More flexible than frequentist probability, allowing probabilities to be updated dynamically.\n",
        "\n",
        "Essential for Bayesian statistics, which is widely used in modern data science, artificial intelligence, and real-world decision-making."
      ],
      "metadata": {
        "id": "tlhtF5SAVRVy"
      }
    },
    {
      "cell_type": "markdown",
      "source": [
        "**17. What is the Chi-square distribution, and when is it used?**\n"
      ],
      "metadata": {
        "id": "lthRHZvKWhD_"
      }
    },
    {
      "cell_type": "markdown",
      "source": [
        "The Chi-square (χ²) distribution is a probability distribution that is widely used in statistical hypothesis testing, particularly in inferential statistics. It is a special case of the gamma distribution and is defined as the distribution of a sum of the squares of\n",
        "𝑘\n",
        "k independent standard normal variables.\n",
        "\n",
        "Definition:\n",
        "If\n",
        "𝑍\n",
        "1\n",
        ",\n",
        "𝑍\n",
        "2\n",
        ",\n",
        ".\n",
        ".\n",
        ".\n",
        ",\n",
        "𝑍\n",
        "𝑘\n",
        "Z\n",
        "1\n",
        "​\n",
        " ,Z\n",
        "2\n",
        "​\n",
        " ,...,Z\n",
        "k\n",
        "​\n",
        "  are independent standard normal random variables (i.e., each follows\n",
        "𝑁\n",
        "(\n",
        "0\n",
        ",\n",
        "1\n",
        ")\n",
        "N(0,1)), then the sum of their squares follows a Chi-square distribution with\n",
        "𝑘\n",
        "k degrees of freedom:\n",
        "\n",
        "𝑋\n",
        "=\n",
        "𝑍\n",
        "1\n",
        "2\n",
        "+\n",
        "𝑍\n",
        "2\n",
        "2\n",
        "+\n",
        ".\n",
        ".\n",
        ".\n",
        "+\n",
        "𝑍\n",
        "𝑘\n",
        "2\n",
        "∼\n",
        "𝜒\n",
        "𝑘\n",
        "2\n",
        "X=Z\n",
        "1\n",
        "2\n",
        "​\n",
        " +Z\n",
        "2\n",
        "2\n",
        "​\n",
        " +...+Z\n",
        "k\n",
        "2\n",
        "​\n",
        " ∼χ\n",
        "k\n",
        "2\n",
        "​\n",
        "\n",
        "where\n",
        "𝑘\n",
        "k is the degrees of freedom (df).\n",
        "\n",
        "Characteristics:\n",
        "Shape: The Chi-square distribution is skewed right, especially for small degrees of freedom. As\n",
        "𝑘\n",
        "k increases, it becomes more symmetric and approaches a normal distribution.\n",
        "\n",
        "Mean:\n",
        "𝑘\n",
        "k (degrees of freedom)\n",
        "\n",
        "Variance:\n",
        "2\n",
        "𝑘\n",
        "2k\n",
        "\n",
        "Skewness:\n",
        "2\n",
        "𝑘\n",
        "k\n",
        "​\n",
        "\n",
        "2\n",
        "​\n",
        " , which decreases as\n",
        "𝑘\n",
        "k increases.\n",
        "\n",
        "Domain: The Chi-square statistic is always non-negative (i.e.,\n",
        "𝑋\n",
        "≥\n",
        "0\n",
        "X≥0).\n",
        "\n",
        "When is the Chi-square Distribution Used?\n",
        "\n",
        "1. Chi-square Test for Independence (Contingency Tables)\n",
        "\n",
        "Used to determine whether two categorical variables are independent.\n",
        "\n",
        "Example: Examining the relationship between gender and voting preference.\n",
        "\n",
        "2. Chi-square Goodness-of-Fit Test\n",
        "\n",
        "Tests whether an observed frequency distribution matches an expected distribution.\n",
        "\n",
        "Example: Checking if dice rolls are fair.\n",
        "\n",
        "3. Chi-square Test for Homogeneity\n",
        "\n",
        "Determines if different populations have the same distribution for a categorical variable.\n",
        "\n",
        "Example: Comparing customer preferences across multiple stores.\n",
        "\n",
        "4. Confidence Intervals for Variance\n",
        "\n",
        "Inference about population variance using sample variance.\n",
        "\n",
        "Example: Estimating the variability in production quality.\n",
        "\n",
        "5. Likelihood Ratio Tests in Statistics\n",
        "\n",
        "Used in complex models such as logistic regression and structural equation modeling."
      ],
      "metadata": {
        "id": "Kd1CB_uXWvkT"
      }
    },
    {
      "cell_type": "markdown",
      "source": [
        "**18. What is the Chi-square goodness of fit test, and how is it applied?**\n"
      ],
      "metadata": {
        "id": "kk333D4mXKAP"
      }
    },
    {
      "cell_type": "markdown",
      "source": [
        "The Chi-square goodness-of-fit test is a statistical test used to determine whether a sample data set matches an expected distribution. It is particularly useful for categorical data, where it compares observed frequencies in different categories to expected frequencies under a given hypothesis.\n",
        "\n",
        "When to Use the Chi-Square Goodness-of-Fit Test?\n",
        "When you have categorical data.\n",
        "\n",
        "When you want to check if the observed data follows a specific theoretical distribution.\n",
        "\n",
        "When each observation falls into one of several mutually exclusive categories.\n",
        "\n",
        "Formula:The Chi-square test statistic (\n",
        "𝜒\n",
        "2\n",
        "χ\n",
        "2\n",
        " ) is calculated as:\n",
        "\n",
        "𝜒\n",
        "2\n",
        "=\n",
        "∑\n",
        "(\n",
        "𝑂\n",
        "𝑖\n",
        "−\n",
        "𝐸\n",
        "𝑖\n",
        ")\n",
        "2\n",
        "𝐸\n",
        "𝑖\n",
        "χ\n",
        "2\n",
        " =∑\n",
        "E\n",
        "i\n",
        "​\n",
        "\n",
        "(O\n",
        "i\n",
        "​\n",
        " −E\n",
        "i\n",
        "​\n",
        " )\n",
        "2\n",
        "\n",
        "​\n",
        "\n",
        "Where:\n",
        "\n",
        "𝑂\n",
        "𝑖\n",
        "O\n",
        "i\n",
        "​\n",
        "  = Observed frequency of category\n",
        "𝑖\n",
        "i\n",
        "\n",
        "𝐸\n",
        "𝑖\n",
        "E\n",
        "i\n",
        "​\n",
        "  = Expected frequency of category\n",
        "𝑖\n",
        "i\n",
        "\n",
        "Steps to Apply the Test:\n",
        "State the Hypotheses:\n",
        "\n",
        "Null Hypothesis (\n",
        "𝐻\n",
        "0\n",
        "H\n",
        "0\n",
        "​\n",
        " ): The observed distribution follows the expected distribution.\n",
        "\n",
        "Alternative Hypothesis (\n",
        "𝐻\n",
        "𝐴\n",
        "H\n",
        "A\n",
        "​\n",
        " ): The observed distribution does not follow the expected distribution.\n",
        "\n",
        "Determine Expected Frequencies:\n",
        "\n",
        "If the expected probabilities for each category are known, multiply these probabilities by the total sample size to get expected counts.\n",
        "\n",
        "Calculate the Chi-square Statistic:\n",
        "\n",
        "Use the formula to compute\n",
        "𝜒\n",
        "2\n",
        "χ\n",
        "2\n",
        " .\n",
        "\n",
        "Find the Critical Value or p-value:\n",
        "\n",
        "Compare the calculated\n",
        "𝜒\n",
        "2\n",
        "χ\n",
        "2\n",
        "  value with a critical value from the Chi-square distribution table (based on the degrees of freedom and significance level\n",
        "𝛼\n",
        "α).\n",
        "\n",
        "Alternatively, compute the p-value.\n",
        "\n",
        "Make a Decision:\n",
        "\n",
        "If\n",
        "𝜒\n",
        "2\n",
        "χ\n",
        "2\n",
        "  is greater than the critical value (or if p-value <\n",
        "𝛼\n",
        "α), reject\n",
        "𝐻\n",
        "0\n",
        "H\n",
        "0\n",
        "​\n",
        " .\n",
        "\n",
        "Otherwise, do not reject\n",
        "𝐻\n",
        "0\n",
        "H\n",
        "0\n",
        "​\n",
        " .\n",
        "\n",
        " Example Application:\n",
        "Suppose a company sells candies in five colors and expects them to be equally distributed. A sample of 100 candies is counted, and the observed counts are:\n",
        "\n",
        "Red: 18\n",
        "\n",
        "Blue: 22\n",
        "\n",
        "Green: 20\n",
        "\n",
        "Yellow: 25\n",
        "\n",
        "Orange: 15\n",
        "\n",
        "Since the company expects an equal distribution, the expected frequency for each color is:\n",
        "\n",
        "𝐸\n",
        "=\n",
        "100\n",
        "5\n",
        "=\n",
        "20\n",
        "E=\n",
        "5\n",
        "100\n",
        "​\n",
        " =20\n",
        "Using the formula, we calculate\n",
        "𝜒\n",
        "2\n",
        "χ\n",
        "2\n",
        "  and compare it with the critical value or p-value to determine if the observed distribution significantly differs from expectation."
      ],
      "metadata": {
        "id": "T7Ozja9CXXGG"
      }
    },
    {
      "cell_type": "markdown",
      "source": [
        " **19. What is the F-distribution, and when is it used in hypothesis testing?**"
      ],
      "metadata": {
        "id": "QMq_uy0qXy0Z"
      }
    },
    {
      "cell_type": "markdown",
      "source": [
        "The F-distribution is a continuous probability distribution that arises frequently in statistical hypothesis testing, particularly in the analysis of variance (ANOVA) and regression analysis. It is named after Sir Ronald Fisher and is right-skewed, meaning it is non-negative and has a long tail on the right.\n",
        "\n",
        "When is the F-distribution used in hypothesis testing?\n",
        "\n",
        "The F-distribution is primarily used in tests where we compare variances or multiple means, such as:\n",
        "\n",
        "1. Analysis of Variance (ANOVA)\n",
        "\n",
        "Used to compare means across multiple groups.\n",
        "\n",
        "The null hypothesis states that all group means are equal.\n",
        "\n",
        "The F-statistic compares the variance between groups to the variance within groups.\n",
        "\n",
        "2. Regression Analysis\n",
        "\n",
        "Used in assessing the overall significance of a regression model.\n",
        "\n",
        "Tests whether at least one predictor variable has a significant relationship with the dependent variable.\n",
        "\n",
        "3. Equality of Variances (F-test for Variance Ratio Test)\n",
        "\n",
        "Used to compare the variances of two independent populations.\n",
        "\n",
        "The null hypothesis states that the variances are equal.\n",
        "\n",
        "\n",
        "\n",
        "Key Properties of the F-distribution:\n",
        "\n",
        "It is always non-negative (\n",
        "𝐹\n",
        "≥\n",
        "0\n",
        "F≥0).\n",
        "\n",
        "The shape depends on the degrees of freedom\n",
        "𝑑\n",
        "1\n",
        "d\n",
        "1\n",
        "​\n",
        "  and\n",
        "𝑑\n",
        "2\n",
        "d\n",
        "2\n",
        "​\n",
        " .\n",
        "\n",
        "It is skewed right, especially for small degrees of freedom.\n",
        "\n",
        "As the degrees of freedom increase, it approximates a normal distribution."
      ],
      "metadata": {
        "id": "V7TDGDIhX9nI"
      }
    },
    {
      "cell_type": "markdown",
      "source": [
        "**20. What is an ANOVA test, and what are its assumptions?**\n"
      ],
      "metadata": {
        "id": "4WHiNayzY3Wq"
      }
    },
    {
      "cell_type": "markdown",
      "source": [
        "ANOVA (Analysis of Variance) is a statistical test used to compare the means of three or more groups to determine if at least one of them is significantly different from the others. It is commonly used in experimental designs and is an extension of the t-test for comparing more than two groups.\n",
        "\n",
        "Types of ANOVA:\n",
        "\n",
        "1. One-Way ANOVA – Compares the means of three or more independent groups based on one factor.\n",
        "\n",
        "2. Two-Way ANOVA – Examines the effect of two independent variables on a dependent variable.\n",
        "\n",
        "3. Repeated Measures ANOVA – Used when the same subjects are tested under multiple conditions or over time.\n",
        "\n",
        "Assumptions of ANOVA\n",
        "\n",
        "For ANOVA results to be valid, the following assumptions must be met:\n",
        "\n",
        "1. Independence:\n",
        "\n",
        "Observations within and across groups must be independent of each other.\n",
        "\n",
        "2. Normality:\n",
        "\n",
        "The dependent variable should be approximately normally distributed within each group, especially for small sample sizes.\n",
        "\n",
        "This can be tested using the Shapiro-Wilk test or by checking histograms and Q-Q plots.\n",
        "\n",
        "3. Homogeneity of Variance (Homoscedasticity):\n",
        "\n",
        "The variance among groups should be roughly equal.\n",
        "\n",
        "This can be tested using Levene’s test or Bartlett’s test.\n",
        "\n",
        "4. Dependent Variable is Continuous\n",
        "\n",
        "The outcome being measured should be on an interval or ratio scale (e.g., height, weight, test scores).\n",
        "\n",
        "5. Categorical Independent Variable(s)\n",
        "\n",
        "The groups being compared should be distinct, categorical levels (e.g., different drug treatments, age groups).\n",
        "\n",
        "If these assumptions are violated, alternative methods like the Kruskal-Wallis test (for non-normal data) or Welch’s ANOVA (for unequal variances) can be used."
      ],
      "metadata": {
        "id": "nkT1snNLZGxd"
      }
    },
    {
      "cell_type": "markdown",
      "source": [
        "**21. What are the different types of ANOVA tests?**\n"
      ],
      "metadata": {
        "id": "JZSOk1ojZmxh"
      }
    },
    {
      "cell_type": "markdown",
      "source": [
        "ANOVA (Analysis of Variance) tests are used to compare means among groups and determine if there are statistically significant differences. There are several types of ANOVA tests, each designed for different experimental conditions:\n",
        "\n",
        "1. One-Way ANOVA\n",
        "Compares the means of one independent variable (factor) across two or more groups.\n",
        "\n",
        "Assumes independence, normality, and equal variance among groups.\n",
        "\n",
        "Example: Testing the effect of different fertilizers on plant growth.\n",
        "\n",
        "2. Two-Way ANOVA\n",
        "Analyzes the impact of two independent variables (factors) on a dependent variable.\n",
        "\n",
        "Can also test for interaction effects between the two factors.\n",
        "\n",
        "Example: Studying the effects of fertilizer type and sunlight exposure on plant growth.\n",
        "\n",
        "3. Repeated Measures ANOVA\n",
        "Used when the same subjects are tested multiple times under different conditions.\n",
        "\n",
        "Accounts for within-subject variability.\n",
        "\n",
        "Example: Measuring students' test scores before, during, and after a training program.\n",
        "\n",
        "4. MANOVA (Multivariate ANOVA)\n",
        "Extension of ANOVA that analyzes multiple dependent variables simultaneously.\n",
        "\n",
        "Example: Studying the effect of teaching methods on math scores and reading scores together.\n",
        "\n",
        "5. ANCOVA (Analysis of Covariance)\n",
        "Similar to ANOVA but includes covariates (continuous variables) to control for potential confounding factors.\n",
        "\n",
        "Example: Examining the effect of diet on weight loss while controlling for initial weight.\n",
        "\n",
        "6. MANCOVA (Multivariate ANCOVA)\n",
        "A combination of MANOVA and ANCOVA, incorporating multiple dependent variables and covariates.\n",
        "\n",
        "Example: Studying the effect of an exercise program on blood pressure and cholesterol levels, adjusting for age."
      ],
      "metadata": {
        "id": "surXb1CmY0-7"
      }
    },
    {
      "cell_type": "markdown",
      "source": [
        "**22. What is the F-test, and how does it relate to hypothesis testing?**\n",
        "\n"
      ],
      "metadata": {
        "id": "-GngKRmHZ5VU"
      }
    },
    {
      "cell_type": "markdown",
      "source": [
        "The F-test is a statistical test that compares the variances or means of two or more groups to determine if they are significantly different. It is commonly used in ANOVA (Analysis of Variance) and regression analysis.\n",
        "\n",
        "How the F-Test Works in Hypothesis Testing:\n",
        "\n",
        "Formulate Hypotheses:\n",
        "\n",
        "Null Hypothesis (\n",
        "𝐻\n",
        "0\n",
        "H\n",
        "0\n",
        "​\n",
        " ): There is no significant difference between the groups (e.g., variances or means are equal).\n",
        "\n",
        "Alternative Hypothesis (\n",
        "𝐻\n",
        "𝐴\n",
        "H\n",
        "A\n",
        "​\n",
        " ): There is a significant difference between the groups.\n",
        "\n",
        "Calculate the F-Statistic:\n",
        "\n",
        "The F-statistic is the ratio of two variances (or mean squares in ANOVA).\n",
        "\n",
        "Formula:\n",
        "\n",
        "𝐹\n",
        "=\n",
        "Variance between groups\n",
        "Variance within groups\n",
        "F=\n",
        "Variance within groups\n",
        "Variance between groups\n",
        "​\n",
        "\n",
        "A higher F-value suggests a greater difference between groups.\n",
        "\n",
        "Compare with Critical Value or p-value:\n",
        "\n",
        "If F is larger than the critical value (from F-distribution tables) or p-value is less than the chosen significance level (\n",
        "𝛼\n",
        "α, typically 0.05), we reject\n",
        "𝐻\n",
        "0\n",
        "H\n",
        "0\n",
        "​\n",
        " .\n",
        "\n",
        "Examples of F-Test Applications:\n",
        "\n",
        "One-Way ANOVA: Compares the means of multiple groups.\n",
        "\n",
        "Two-Way ANOVA: Tests for interaction effects between two factors.\n",
        "\n",
        "Regression Analysis: Determines if the overall regression model is statistically significant.\n",
        "\n",
        "Variance Comparison: Checks if two populations have equal variances (e.g., Levene’s test for homogeneity of variances)."
      ],
      "metadata": {
        "id": "T6s1V3vSZ9OF"
      }
    },
    {
      "cell_type": "markdown",
      "source": [
        "**Practical**\n"
      ],
      "metadata": {
        "id": "tlTJN-eRaSXh"
      }
    },
    {
      "cell_type": "markdown",
      "source": [],
      "metadata": {
        "id": "flwBZAd3affM"
      }
    },
    {
      "cell_type": "code",
      "source": [
        "import scipy.stats as stats\n",
        "import numpy as np\n",
        "\n",
        "def z_test(sample, population_mean, population_std, alpha=0.05):\n",
        "    \"\"\"\n",
        "    Performs a one-sample Z-test to compare the sample mean to a known population mean.\n",
        "\n",
        "    Parameters:\n",
        "    sample (list or array): Sample data.\n",
        "    population_mean (float): Known population mean.\n",
        "    population_std (float): Known population standard deviation.\n",
        "    alpha (float): Significance level (default: 0.05).\n",
        "\n",
        "    Returns:\n",
        "    None (Prints the results).\n",
        "    \"\"\"\n",
        "    sample_size = len(sample)\n",
        "    sample_mean = np.mean(sample)\n",
        "\n",
        "    # Calculate the Z-score\n",
        "    z_score = (sample_mean - population_mean) / (population_std / np.sqrt(sample_size))\n",
        "\n",
        "    # Calculate the p-value (two-tailed test)\n",
        "    p_value = 2 * (1 - stats.norm.cdf(abs(z_score)))\n",
        "\n",
        "    print(f\"Sample Mean: {sample_mean:.4f}\")\n",
        "    print(f\"Z-score: {z_score:.4f}\")\n",
        "    print(f\"P-value: {p_value:.4f}\")\n",
        "\n",
        "    # Interpretation\n",
        "    if p_value < alpha:\n",
        "        print(\"Result: Reject the null hypothesis (significant difference).\")\n",
        "    else:\n",
        "        print(\"Result: Fail to reject the null hypothesis (no significant difference).\")\n",
        "\n",
        "# Example usage\n",
        "sample_data = [52, 55, 53, 54, 56, 58, 51, 57, 53, 54]\n",
        "known_population_mean = 50\n",
        "known_population_std = 5\n",
        "\n",
        "z_test(sample_data, known_population_mean, known_population_std)\n"
      ],
      "metadata": {
        "colab": {
          "base_uri": "https://localhost:8080/"
        },
        "id": "hLa_O3KMa0H-",
        "outputId": "12029f49-94f7-439c-d2e0-f0b43e58ec0e"
      },
      "execution_count": null,
      "outputs": [
        {
          "output_type": "stream",
          "name": "stdout",
          "text": [
            "Sample Mean: 54.3000\n",
            "Z-score: 2.7196\n",
            "P-value: 0.0065\n",
            "Result: Reject the null hypothesis (significant difference).\n"
          ]
        }
      ]
    },
    {
      "cell_type": "markdown",
      "source": [
        "**2. Simulate random data to perform hypothesis testing and calculate the corresponding P-value using Python**\n"
      ],
      "metadata": {
        "id": "GA2Em26-bJyS"
      }
    },
    {
      "cell_type": "code",
      "source": [
        "# Set random seed for reproducibility\n",
        "np.random.seed(42)\n",
        "\n",
        "# Simulate two independent samples (normal distributions)\n",
        "sample1 = np.random.normal(loc=50, scale=10, size=30)  # Mean = 50, Std Dev = 10, n = 30\n",
        "sample2 = np.random.normal(loc=55, scale=10, size=30)  # Mean = 55, Std Dev = 10, n = 30\n",
        "\n",
        "# Perform independent t-test (two-tailed)\n",
        "t_stat, p_value = stats.ttest_ind(sample1, sample2)\n",
        "\n",
        "# Print results\n",
        "print(f\"T-statistic: {t_stat:.4f}\")\n",
        "print(f\"P-value: {p_value:.4f}\")\n",
        "\n",
        "# Interpretation\n",
        "alpha = 0.05\n",
        "if p_value < alpha:\n",
        "    print(\"Reject the null hypothesis: There is a significant difference.\")\n",
        "else:\n",
        "    print(\"Fail to reject the null hypothesis: No significant difference.\")\n"
      ],
      "metadata": {
        "colab": {
          "base_uri": "https://localhost:8080/"
        },
        "id": "L-XPRAPsbQCY",
        "outputId": "ffbdbdf8-3126-49dc-c442-665d057033fc"
      },
      "execution_count": null,
      "outputs": [
        {
          "output_type": "stream",
          "name": "stdout",
          "text": [
            "T-statistic: -2.3981\n",
            "P-value: 0.0197\n",
            "Reject the null hypothesis: There is a significant difference.\n"
          ]
        }
      ]
    },
    {
      "cell_type": "markdown",
      "source": [
        "**3. Implement a one-sample Z-test using Python to compare the sample mean with the population mean**\n"
      ],
      "metadata": {
        "id": "XBd3hiiSbn-H"
      }
    },
    {
      "cell_type": "markdown",
      "source": [
        "Steps:\n",
        "Generate a random sample.\n",
        "\n",
        "Compute the Z-score.\n",
        "\n",
        "Calculate the p-value for hypothesis testing"
      ],
      "metadata": {
        "id": "k_KkQNO8bz6b"
      }
    },
    {
      "cell_type": "code",
      "source": [
        "# Set random seed for reproducibility\n",
        "np.random.seed(42)\n",
        "\n",
        "# Simulate sample data\n",
        "sample = np.random.normal(loc=50, scale=10, size=30)  # Mean = 50, Std Dev = 10, n = 30\n",
        "\n",
        "# Known population parameters\n",
        "population_mean = 52  # Hypothetical population mean\n",
        "population_std = 10   # Known population standard deviation\n",
        "\n",
        "# Compute sample mean\n",
        "sample_mean = np.mean(sample)\n",
        "sample_size = len(sample)\n",
        "\n",
        "# Compute Z-score\n",
        "z_score = (sample_mean - population_mean) / (population_std / np.sqrt(sample_size))\n",
        "\n",
        "# Compute p-value (two-tailed test)\n",
        "p_value = 2 * (1 - stats.norm.cdf(abs(z_score)))\n",
        "\n",
        "# Print results\n",
        "print(f\"Sample Mean: {sample_mean:.4f}\")\n",
        "print(f\"Z-Score: {z_score:.4f}\")\n",
        "print(f\"P-Value: {p_value:.4f}\")\n",
        "\n",
        "# Interpretation\n",
        "alpha = 0.05\n",
        "if p_value < alpha:\n",
        "    print(\"Reject the null hypothesis: The sample mean is significantly different from the population mean.\")\n",
        "else:\n",
        "    print(\"Fail to reject the null hypothesis: No significant difference between the sample and population mean.\")\n"
      ],
      "metadata": {
        "colab": {
          "base_uri": "https://localhost:8080/"
        },
        "id": "oLTo__lHb2Eu",
        "outputId": "4408340c-bb74-4ae2-e258-a4730ebcc92e"
      },
      "execution_count": null,
      "outputs": [
        {
          "output_type": "stream",
          "name": "stdout",
          "text": [
            "Sample Mean: 48.1185\n",
            "Z-Score: -2.1260\n",
            "P-Value: 0.0335\n",
            "Reject the null hypothesis: The sample mean is significantly different from the population mean.\n"
          ]
        }
      ]
    },
    {
      "cell_type": "markdown",
      "source": [
        "**4. Perform a two-tailed Z-test using Python and visualize the decision region on a plot**\n"
      ],
      "metadata": {
        "id": "m3e9Onh9cGq9"
      }
    },
    {
      "cell_type": "code",
      "source": [
        "import matplotlib.pyplot as plt\n",
        "\n",
        "# Given data\n",
        "mu = 100       # Population mean\n",
        "sigma = 15     # Population standard deviation\n",
        "n = 30         # Sample size\n",
        "x_bar = 108    # Sample mean\n",
        "alpha = 0.05   # Significance level\n",
        "\n",
        "# Compute Z-score\n",
        "z_score = (x_bar - mu) / (sigma / np.sqrt(n))\n",
        "\n",
        "# Critical Z-values for two-tailed test at alpha = 0.05\n",
        "z_critical = stats.norm.ppf(1 - alpha/2)\n",
        "\n",
        "# Plot the normal distribution curve\n",
        "x = np.linspace(-4, 4, 1000)\n",
        "y = stats.norm.pdf(x, 0, 1)\n",
        "\n",
        "plt.figure(figsize=(10, 5))\n",
        "plt.plot(x, y, label=\"Standard Normal Distribution\", color='blue')\n",
        "\n",
        "# Shade the rejection regions\n",
        "plt.fill_between(x, y, where=(x <= -z_critical) | (x >= z_critical), color='red', alpha=0.5, label=\"Rejection Region\")\n",
        "\n",
        "# Mark critical values\n",
        "plt.axvline(-z_critical, color='black', linestyle='--', label=f\"Critical Value (-{z_critical:.2f})\")\n",
        "plt.axvline(z_critical, color='black', linestyle='--', label=f\"Critical Value ({z_critical:.2f})\")\n",
        "\n",
        "# Mark observed Z-score\n",
        "plt.axvline(z_score, color='green', linestyle='-', linewidth=2, label=f\"Observed Z ({z_score:.2f})\")\n",
        "\n",
        "# Labels and legend\n",
        "plt.title(\"Two-Tailed Z-Test Decision Regions\")\n",
        "plt.xlabel(\"Z-score\")\n",
        "plt.ylabel(\"Probability Density\")\n",
        "plt.legend()\n",
        "plt.show()\n",
        "\n",
        "# Conclusion\n",
        "reject_null = abs(z_score) > z_critical\n",
        "\n",
        "if reject_null:\n",
        "    print(f\"Reject the null hypothesis (Z = {z_score:.2f}, Critical Z = ±{z_critical:.2f})\")\n",
        "else:\n",
        "    print(f\"Fail to reject the null hypothesis (Z = {z_score:.2f}, Critical Z = ±{z_critical:.2f})\")\n"
      ],
      "metadata": {
        "colab": {
          "base_uri": "https://localhost:8080/",
          "height": 505
        },
        "id": "w9vB-mLgcjS_",
        "outputId": "a3885a2c-4fc7-4200-c18c-900aa7395483"
      },
      "execution_count": null,
      "outputs": [
        {
          "output_type": "display_data",
          "data": {
            "text/plain": [
              "<Figure size 1000x500 with 1 Axes>"
            ],
            "image/png": "[encoded data removed]"
          },
          "metadata": {}
        },
        {
          "output_type": "stream",
          "name": "stdout",
          "text": [
            "Reject the null hypothesis (Z = 2.92, Critical Z = ±1.96)\n"
          ]
        }
      ]
    },
    {
      "cell_type": "markdown",
      "source": [
        "**5. Create a Python function that calculates and visualizes Type 1 and Type 2 errors during hypothesis testing**\n"
      ],
      "metadata": {
        "id": "XAuyZpOwcs3g"
      }
    },
    {
      "cell_type": "code",
      "source": [
        "\n",
        "def plot_hypothesis_testing(mu_null=0, mu_alt=1, sigma=1, alpha=0.05, n=30):\n",
        "    \"\"\"\n",
        "    Plots the probability distributions of the null and alternative hypotheses,\n",
        "    highlighting Type 1 (alpha) and Type 2 (beta) errors.\n",
        "\n",
        "    Parameters:\n",
        "        mu_null (float): Mean of the null hypothesis distribution.\n",
        "        mu_alt (float): Mean of the alternative hypothesis distribution.\n",
        "        sigma (float): Standard deviation of the distributions.\n",
        "        alpha (float): Significance level (Type 1 error rate).\n",
        "        n (int): Sample size.\n",
        "    \"\"\"\n",
        "    # Standard error\n",
        "    se = sigma / np.sqrt(n)\n",
        "\n",
        "    # Critical value for one-tailed test (right-tailed test assumed here)\n",
        "    critical_value = mu_null + stats.norm.ppf(1 - alpha) * se\n",
        "\n",
        "    # Type 2 error (beta) calculation\n",
        "    beta = stats.norm.cdf(critical_value, loc=mu_alt, scale=se)\n",
        "    power = 1 - beta  # Statistical power\n",
        "\n",
        "    # X-axis range\n",
        "    x = np.linspace(mu_null - 4 * se, mu_alt + 4 * se, 1000)\n",
        "\n",
        "    # Null and alternative distributions\n",
        "    y_null = stats.norm.pdf(x, loc=mu_null, scale=se)\n",
        "    y_alt = stats.norm.pdf(x, loc=mu_alt, scale=se)\n",
        "\n",
        "    plt.figure(figsize=(10, 6))\n",
        "    plt.plot(x, y_null, label='Null Hypothesis (H0)', color='blue')\n",
        "    plt.plot(x, y_alt, label='Alternative Hypothesis (H1)', color='red')\n",
        "\n",
        "    # Fill Type 1 error area (alpha)\n",
        "    plt.fill_between(x, 0, y_null, where=(x >= critical_value), color='blue', alpha=0.3, label='Type 1 Error (α)')\n",
        "\n",
        "    # Fill Type 2 error area (beta)\n",
        "    plt.fill_between(x, 0, y_alt, where=(x < critical_value), color='red', alpha=0.3, label='Type 2 Error (β)')\n",
        "\n",
        "    plt.axvline(critical_value, linestyle='--', color='black', label=f'Critical Value = {critical_value:.2f}')\n",
        "    plt.title(f'Hypothesis Testing: Type 1 and Type 2 Errors\\nPower = {power:.2f}, Beta = {beta:.2f}')\n",
        "    plt.xlabel('Test Statistic')\n",
        "    plt.ylabel('Probability Density')\n",
        "    plt.legend()\n",
        "    plt.show()\n",
        "\n",
        "# Example Usage\n",
        "plot_hypothesis_testing(mu_null=0, mu_alt=1, sigma=1, alpha=0.05, n=30)\n"
      ],
      "metadata": {
        "colab": {
          "base_uri": "https://localhost:8080/",
          "height": 585
        },
        "id": "eOdJXtjzc5D6",
        "outputId": "f5c832a0-2fd7-43ee-ca64-f4ceca94ef95"
      },
      "execution_count": null,
      "outputs": [
        {
          "output_type": "display_data",
          "data": {
            "text/plain": [
              "<Figure size 1000x600 with 1 Axes>"
            ],
            "image/png": "[encoded data removed]"
          },
          "metadata": {}
        }
      ]
    },
    {
      "cell_type": "markdown",
      "source": [
        "**6. Write a Python program to perform an independent T-test and interpret the results**"
      ],
      "metadata": {
        "id": "-FQJj2hsdLyn"
      }
    },
    {
      "cell_type": "code",
      "source": [
        "def perform_ttest(sample1, sample2, alpha=0.05):\n",
        "    \"\"\"\n",
        "    Performs an independent T-test between two samples and interprets the results.\n",
        "    :param sample1: List or NumPy array of sample 1 data\n",
        "    :param sample2: List or NumPy array of sample 2 data\n",
        "    :param alpha: Significance level (default is 0.05)\n",
        "    \"\"\"\n",
        "    # Perform independent T-test\n",
        "    t_stat, p_value = stats.ttest_ind(sample1, sample2, equal_var=False)  # Welch's t-test\n",
        "\n",
        "    print(f\"T-statistic: {t_stat:.4f}\")\n",
        "    print(f\"P-value: {p_value:.4f}\")\n",
        "\n",
        "    # Interpret the result\n",
        "    if p_value < alpha:\n",
        "        print(f\"Since p-value ({p_value:.4f}) is less than alpha ({alpha}), we reject the null hypothesis.\")\n",
        "        print(\"There is a significant difference between the two groups.\")\n",
        "    else:\n",
        "        print(f\"Since p-value ({p_value:.4f}) is greater than alpha ({alpha}), we fail to reject the null hypothesis.\")\n",
        "        print(\"There is no significant difference between the two groups.\")\n",
        "\n",
        "# Example data\n",
        "np.random.seed(42)\n",
        "sample1 = np.random.normal(loc=50, scale=10, size=30)  # Sample from normal distribution\n",
        "sample2 = np.random.normal(loc=55, scale=10, size=30)  # Different mean\n",
        "\n",
        "# Perform the T-test\n",
        "perform_ttest(sample1, sample2)\n"
      ],
      "metadata": {
        "colab": {
          "base_uri": "https://localhost:8080/"
        },
        "id": "QQ9bHmnBdVTw",
        "outputId": "2277386a-d7ca-454a-d088-74d0aab8fd96"
      },
      "execution_count": null,
      "outputs": [
        {
          "output_type": "stream",
          "name": "stdout",
          "text": [
            "T-statistic: -2.3981\n",
            "P-value: 0.0197\n",
            "Since p-value (0.0197) is less than alpha (0.05), we reject the null hypothesis.\n",
            "There is a significant difference between the two groups.\n"
          ]
        }
      ]
    },
    {
      "cell_type": "markdown",
      "source": [
        "**7. Perform a paired sample T-test using Python and visualize the comparison results**\n"
      ],
      "metadata": {
        "id": "OE34jgabdgzb"
      }
    },
    {
      "cell_type": "code",
      "source": [
        "import seaborn as sns\n",
        "\n",
        "# Sample Data (Before and After)\n",
        "np.random.seed(42)\n",
        "before = np.random.normal(70, 10, 30)  # Simulated scores before treatment\n",
        "after = before + np.random.normal(-2, 5, 30)  # Simulated scores after treatment\n",
        "\n",
        "# Paired Sample T-Test\n",
        "t_stat, p_value = stats.ttest_rel(before, after)\n",
        "\n",
        "# Print Test Results\n",
        "print(f\"Paired Sample T-Test Results:\\nT-Statistic = {t_stat:.3f}, P-Value = {p_value:.3f}\")\n",
        "\n",
        "# Visualization\n",
        "plt.figure(figsize=(10, 5))\n",
        "\n",
        "# Box Plot\n",
        "plt.subplot(1, 2, 1)\n",
        "sns.boxplot(data=[before, after])\n",
        "plt.xticks([0, 1], ['Before', 'After'])\n",
        "plt.title('Box Plot of Paired Samples')\n",
        "\n",
        "# Line Plot (Paired observations)\n",
        "plt.subplot(1, 2, 2)\n",
        "for i in range(len(before)):\n",
        "    plt.plot([0, 1], [before[i], after[i]], marker='o', color='gray', alpha=0.6)\n",
        "plt.scatter(np.zeros(len(before)), before, label=\"Before\", color='blue')\n",
        "plt.scatter(np.ones(len(after)), after, label=\"After\", color='red')\n",
        "plt.xticks([0, 1], ['Before', 'After'])\n",
        "plt.title('Paired Observations')\n",
        "plt.legend()\n",
        "\n",
        "plt.tight_layout()\n",
        "plt.show()\n"
      ],
      "metadata": {
        "colab": {
          "base_uri": "https://localhost:8080/",
          "height": 543
        },
        "id": "rhs-iYDxdwlN",
        "outputId": "0cdac421-47da-47f6-f0c4-8e933acd5bde"
      },
      "execution_count": null,
      "outputs": [
        {
          "output_type": "stream",
          "name": "stdout",
          "text": [
            "Paired Sample T-Test Results:\n",
            "T-Statistic = 3.066, P-Value = 0.005\n"
          ]
        },
        {
          "output_type": "display_data",
          "data": {
            "text/plain": [
              "<Figure size 1000x500 with 2 Axes>"
            ],
            "image/png": "[encoded data removed]"
          },
          "metadata": {}
        }
      ]
    },
    {
      "cell_type": "markdown",
      "source": [
        "**8. Simulate data and perform both Z-test and T-test, then compare the results using Python**\n"
      ],
      "metadata": {
        "id": "-McK2UjXeRxb"
      }
    },
    {
      "cell_type": "code",
      "source": [
        "# Simulating data\n",
        "np.random.seed(42)\n",
        "n1, n2 = 30, 30  # Sample sizes\n",
        "mu1, mu2 = 50, 52  # Means\n",
        "sigma1, sigma2 = 10, 10  # Standard deviations\n",
        "\n",
        "# Generate random samples\n",
        "sample1 = np.random.normal(mu1, sigma1, n1)\n",
        "sample2 = np.random.normal(mu2, sigma2, n2)\n",
        "\n",
        "# Perform Z-test (Assuming known population variance)\n",
        "pop_var1, pop_var2 = sigma1**2, sigma2**2\n",
        "se_z = np.sqrt(pop_var1/n1 + pop_var2/n2)\n",
        "z_stat = (sample1.mean() - sample2.mean()) / se_z\n",
        "p_value_z = 2 * (1 - stats.norm.cdf(abs(z_stat)))\n",
        "\n",
        "# Perform T-test (Assuming unknown population variance)\n",
        "t_stat, p_value_t = stats.ttest_ind(sample1, sample2, equal_var=False)\n",
        "\n",
        "# Print results\n",
        "print(f\"Z-test: Z-statistic = {z_stat:.4f}, p-value = {p_value_z:.4f}\")\n",
        "print(f\"T-test: T-statistic = {t_stat:.4f}, p-value = {p_value_t:.4f}\")\n"
      ],
      "metadata": {
        "colab": {
          "base_uri": "https://localhost:8080/"
        },
        "id": "5XyVbUIJgkJF",
        "outputId": "f3b58af0-695b-4e09-8de4-6851888c9a7f"
      },
      "execution_count": 8,
      "outputs": [
        {
          "output_type": "stream",
          "name": "stdout",
          "text": [
            "Z-test: Z-statistic = -1.0340, p-value = 0.3011\n",
            "T-test: T-statistic = -1.1292, p-value = 0.2635\n"
          ]
        }
      ]
    },
    {
      "cell_type": "markdown",
      "source": [
        "**9. Write a Python function to calculate the confidence interval for a sample mean and explain its significance.**\n"
      ],
      "metadata": {
        "id": "2YVop0XUguKN"
      }
    },
    {
      "cell_type": "code",
      "source": [
        "def confidence_interval(sample, confidence=0.95):\n",
        "    mean = np.mean(sample)\n",
        "    sem = stats.sem(sample)  # Standard error of the mean\n",
        "    margin_of_error = stats.t.ppf((1 + confidence) / 2, len(sample) - 1) * sem\n",
        "    return mean - margin_of_error, mean + margin_of_error\n",
        "\n",
        "# Simulating data\n",
        "np.random.seed(42)\n",
        "n1, n2 = 30, 30  # Sample sizes\n",
        "mu1, mu2 = 50, 52  # Means\n",
        "sigma1, sigma2 = 10, 10  # Standard deviations\n",
        "\n",
        "# Generate random samples\n",
        "sample1 = np.random.normal(mu1, sigma1, n1)\n",
        "sample2 = np.random.normal(mu2, sigma2, n2)\n",
        "\n",
        "# Perform Z-test (Assuming known population variance)\n",
        "pop_var1, pop_var2 = sigma1**2, sigma2**2\n",
        "se_z = np.sqrt(pop_var1/n1 + pop_var2/n2)\n",
        "z_stat = (sample1.mean() - sample2.mean()) / se_z\n",
        "p_value_z = 2 * (1 - stats.norm.cdf(abs(z_stat)))\n",
        "\n",
        "# Perform T-test (Assuming unknown population variance)\n",
        "t_stat, p_value_t = stats.ttest_ind(sample1, sample2, equal_var=False)\n",
        "\n",
        "# Compute confidence intervals\n",
        "ci_sample1 = confidence_interval(sample1)\n",
        "ci_sample2 = confidence_interval(sample2)\n",
        "\n",
        "# Print results\n",
        "print(f\"Z-test: Z-statistic = {z_stat:.4f}, p-value = {p_value_z:.4f}\")\n",
        "print(f\"T-test: T-statistic = {t_stat:.4f}, p-value = {p_value_t:.4f}\")\n",
        "print(f\"Confidence Interval for Sample 1: {ci_sample1}\")\n",
        "print(f\"Confidence Interval for Sample 2: {ci_sample2}\")\n"
      ],
      "metadata": {
        "colab": {
          "base_uri": "https://localhost:8080/"
        },
        "id": "RhVw1UBNg5dO",
        "outputId": "b97a85dd-3ded-44c4-a69f-1b6f3877b18d"
      },
      "execution_count": 9,
      "outputs": [
        {
          "output_type": "stream",
          "name": "stdout",
          "text": [
            "Z-test: Z-statistic = -1.0340, p-value = 0.3011\n",
            "T-test: T-statistic = -1.1292, p-value = 0.2635\n",
            "Confidence Interval for Sample 1: (np.float64(44.75785181035169), np.float64(51.47921027262756))\n",
            "Confidence Interval for Sample 2: (np.float64(47.31158255092204), np.float64(54.26516804327909))\n"
          ]
        }
      ]
    },
    {
      "cell_type": "markdown",
      "source": [
        "**10. Write a Python program to calculate the margin of error for a given confidence level using sample data**\n"
      ],
      "metadata": {
        "id": "x2miFawohCCO"
      }
    },
    {
      "cell_type": "code",
      "source": [
        "import math\n",
        "\n",
        "def margin_of_error(sample, confidence_level):\n",
        "    \"\"\"\n",
        "    Calculate the margin of error for a given confidence level using sample data.\n",
        "\n",
        "    :param sample: List of sample data\n",
        "    :param confidence_level: Confidence level (e.g., 0.95 for 95% confidence)\n",
        "    :return: Margin of error\n",
        "    \"\"\"\n",
        "    sample_size = len(sample)\n",
        "    sample_mean = sum(sample) / sample_size\n",
        "    sample_std_dev = math.sqrt(sum([(x - sample_mean) ** 2 for x in sample]) / (sample_size - 1))\n",
        "\n",
        "    # Determine the critical value (z-score or t-score)\n",
        "    if sample_size >= 30:\n",
        "        critical_value = stats.norm.ppf(1 - (1 - confidence_level) / 2)  # Z-score for large samples\n",
        "    else:\n",
        "        critical_value = stats.t.ppf(1 - (1 - confidence_level) / 2, df=sample_size - 1)  # t-score for small samples\n",
        "\n",
        "    standard_error = sample_std_dev / math.sqrt(sample_size)\n",
        "    return critical_value * standard_error\n",
        "\n",
        "# Example usage\n",
        "sample_data = [52, 47, 53, 59, 58, 61, 55, 49, 57, 50]\n",
        "confidence = 0.95\n",
        "moe = margin_of_error(sample_data, confidence)\n",
        "print(f\"Margin of Error at {confidence * 100}% confidence level: {moe:.4f}\")\n"
      ],
      "metadata": {
        "colab": {
          "base_uri": "https://localhost:8080/"
        },
        "id": "dFjM0y1hhP1G",
        "outputId": "ac74933b-7b46-400d-cb7d-4733a034b774"
      },
      "execution_count": 10,
      "outputs": [
        {
          "output_type": "stream",
          "name": "stdout",
          "text": [
            "Margin of Error at 95.0% confidence level: 3.3290\n"
          ]
        }
      ]
    },
    {
      "cell_type": "markdown",
      "source": [
        "**11. Implement a Bayesian inference method using Bayes' Theorem in Python and explain the process**\n"
      ],
      "metadata": {
        "id": "91fJ55ZWhXEC"
      }
    },
    {
      "cell_type": "code",
      "source": [
        "def bayes_theorem(prior, likelihood, marginal):\n",
        "    \"\"\"\n",
        "    Compute the posterior probability using Bayes' Theorem.\n",
        "\n",
        "    :param prior: Prior probability P(A)\n",
        "    :param likelihood: Likelihood P(B|A)\n",
        "    :param marginal: Marginal probability P(B)\n",
        "    :return: Posterior probability P(A|B)\n",
        "    \"\"\"\n",
        "    return (prior * likelihood) / marginal\n",
        "\n",
        "# Example usage\n",
        "prior_probability = 0.01  # P(A) - Probability of having a rare disease\n",
        "likelihood = 0.95  # P(B|A) - Probability of testing positive given the disease\n",
        "false_positive_rate = 0.05  # P(B|¬A) - Probability of testing positive without the disease\n",
        "\n",
        "total_population_without_disease = 1 - prior_probability  # P(¬A)\n",
        "marginal_probability = (likelihood * prior_probability) + (false_positive_rate * total_population_without_disease)  # P(B)\n",
        "\n",
        "posterior = bayes_theorem(prior_probability, likelihood, marginal_probability)\n",
        "print(f\"Posterior Probability P(A|B): {posterior:.4f}\")\n"
      ],
      "metadata": {
        "colab": {
          "base_uri": "https://localhost:8080/"
        },
        "id": "itJZVpLmhe73",
        "outputId": "e8ef2dce-6fd1-4cc0-efee-6d34d557c885"
      },
      "execution_count": 11,
      "outputs": [
        {
          "output_type": "stream",
          "name": "stdout",
          "text": [
            "Posterior Probability P(A|B): 0.1610\n"
          ]
        }
      ]
    },
    {
      "cell_type": "markdown",
      "source": [
        "**12. Perform a Chi-square test for independence between two categorical variables in Python**\n"
      ],
      "metadata": {
        "id": "6xjQGtr6hrxv"
      }
    },
    {
      "cell_type": "code",
      "source": [
        "def chi_square_test(contingency_table):\n",
        "    \"\"\"\n",
        "    Perform a Chi-square test for independence.\n",
        "\n",
        "    :param contingency_table: 2D list or NumPy array representing the contingency table\n",
        "    :return: Chi-square statistic, p-value, degrees of freedom, expected frequencies\n",
        "    \"\"\"\n",
        "    chi2_stat, p_value, dof, expected = stats.chi2_contingency(contingency_table)\n",
        "    return chi2_stat, p_value, dof, expected\n",
        "\n",
        "# Example contingency table\n",
        "# Rows: Categorical Variable 1 (e.g., Gender: Male, Female)\n",
        "# Columns: Categorical Variable 2 (e.g., Preference: Yes, No)\n",
        "contingency_table = np.array([[50, 30], [20, 40]])\n",
        "\n",
        "# Perform Chi-square test\n",
        "chi2_stat, p_value, dof, expected = chi_square_test(contingency_table)\n",
        "\n",
        "# Display results\n",
        "print(f\"Chi-square Statistic: {chi2_stat:.4f}\")\n",
        "print(f\"p-value: {p_value:.4f}\")\n",
        "print(f\"Degrees of Freedom: {dof}\")\n",
        "print(\"Expected Frequencies:\")\n",
        "print(expected)\n"
      ],
      "metadata": {
        "colab": {
          "base_uri": "https://localhost:8080/"
        },
        "id": "lw1Bixp3h2UR",
        "outputId": "a7a2b51e-39bd-455c-87eb-9a2d3006ddb4"
      },
      "execution_count": 12,
      "outputs": [
        {
          "output_type": "stream",
          "name": "stdout",
          "text": [
            "Chi-square Statistic: 10.5292\n",
            "p-value: 0.0012\n",
            "Degrees of Freedom: 1\n",
            "Expected Frequencies:\n",
            "[[40. 40.]\n",
            " [30. 30.]]\n"
          ]
        }
      ]
    },
    {
      "cell_type": "markdown",
      "source": [
        "**13. Write a Python program to calculate the expected frequencies for a Chi-square test based on observed data**"
      ],
      "metadata": {
        "id": "2lqW3Yj9iigT"
      }
    },
    {
      "cell_type": "code",
      "source": [
        "def calculate_expected_frequencies(observed):\n",
        "    \"\"\"\n",
        "    Calculate expected frequencies for a Chi-square test based on observed data.\n",
        "\n",
        "    :param observed: 2D NumPy array representing the observed frequency table\n",
        "    :return: 2D NumPy array of expected frequencies\n",
        "    \"\"\"\n",
        "    row_totals = observed.sum(axis=1, keepdims=True)\n",
        "    col_totals = observed.sum(axis=0, keepdims=True)\n",
        "    grand_total = observed.sum()\n",
        "\n",
        "    expected = (row_totals @ col_totals) / grand_total  # Matrix multiplication for expected values\n",
        "    return expected\n",
        "\n",
        "# Example observed frequency table\n",
        "observed_data = np.array([[50, 30], [20, 40]])\n",
        "\n",
        "# Calculate expected frequencies\n",
        "expected_frequencies = calculate_expected_frequencies(observed_data)\n",
        "\n",
        "# Display results\n",
        "print(\"Expected Frequencies:\")\n",
        "print(expected_frequencies)\n"
      ],
      "metadata": {
        "colab": {
          "base_uri": "https://localhost:8080/"
        },
        "id": "dS2_oP5qi5vT",
        "outputId": "e7e37530-3380-4d76-eba4-cb53e32a0e35"
      },
      "execution_count": 13,
      "outputs": [
        {
          "output_type": "stream",
          "name": "stdout",
          "text": [
            "Expected Frequencies:\n",
            "[[40. 40.]\n",
            " [30. 30.]]\n"
          ]
        }
      ]
    },
    {
      "cell_type": "markdown",
      "source": [
        "**14. Perform a goodness-of-fit test using Python to compare the observed data to an expected distribution**\n"
      ],
      "metadata": {
        "id": "0Sm68XvQjYDc"
      }
    },
    {
      "cell_type": "code",
      "source": [
        "import numpy as np\n",
        "from scipy.stats import chisquare\n",
        "\n",
        "# Observed data (actual counts)\n",
        "observed = np.array([50, 30, 20])\n",
        "\n",
        "# Expected data (theoretical counts)\n",
        "expected = np.array([40, 40, 20])\n",
        "\n",
        "# Perform the chi-square goodness-of-fit test\n",
        "chi2_stat, p_value = chisquare(observed, expected)\n",
        "\n",
        "# Output results\n",
        "print(f\"Chi-square statistic: {chi2_stat:.4f}\")\n",
        "print(f\"P-value: {p_value:.4f}\")\n",
        "\n",
        "# Interpretation\n",
        "alpha = 0.05  # Significance level\n",
        "if p_value < alpha:\n",
        "    print(\"Reject the null hypothesis: The observed distribution is different from the expected.\")\n",
        "else:\n",
        "    print(\"Fail to reject the null hypothesis: No significant difference between observed and expected.\")\n"
      ],
      "metadata": {
        "colab": {
          "base_uri": "https://localhost:8080/"
        },
        "id": "wh22mM9ajkL9",
        "outputId": "786d7587-71d6-4018-ee61-039601688b13"
      },
      "execution_count": 15,
      "outputs": [
        {
          "output_type": "stream",
          "name": "stdout",
          "text": [
            "Chi-square statistic: 5.0000\n",
            "P-value: 0.0821\n",
            "Fail to reject the null hypothesis: No significant difference between observed and expected.\n"
          ]
        }
      ]
    },
    {
      "cell_type": "markdown",
      "source": [
        "15. Create a Python script to simulate and visualize the Chi-square distribution and discuss its characteristics\n"
      ],
      "metadata": {
        "id": "_d5Vbx9ujtOI"
      }
    },
    {
      "cell_type": "code",
      "source": [
        "import numpy as np\n",
        "import matplotlib.pyplot as plt\n",
        "import seaborn as sns\n",
        "from scipy.stats import chi2\n",
        "\n",
        "# Set the style\n",
        "sns.set(style=\"whitegrid\")\n",
        "\n",
        "# Define degrees of freedom to visualize\n",
        "df_values = [1, 2, 5, 10, 20]\n",
        "\n",
        "# Generate x values\n",
        "x = np.linspace(0, 30, 500)\n",
        "\n",
        "# Plot Chi-square distributions for different degrees of freedom\n",
        "plt.figure(figsize=(10, 6))\n",
        "for df in df_values:\n",
        "    plt.plot(x, chi2.pdf(x, df), label=f'df={df}')\n",
        "\n",
        "# Add labels and legend\n",
        "plt.xlabel(\"x\", fontsize=12)\n",
        "plt.ylabel(\"Probability Density\", fontsize=12)\n",
        "plt.title(\"Chi-Square Distribution for Different Degrees of Freedom\", fontsize=14)\n",
        "plt.legend()\n",
        "plt.show()\n"
      ],
      "metadata": {
        "colab": {
          "base_uri": "https://localhost:8080/",
          "height": 574
        },
        "id": "-ufZKOjoj_IH",
        "outputId": "e0f7a8b3-d71d-4a94-8caf-b4047a601c35"
      },
      "execution_count": 17,
      "outputs": [
        {
          "output_type": "display_data",
          "data": {
            "text/plain": [
              "<Figure size 1000x600 with 1 Axes>"
            ],
            "image/png": "[encoded data removed]"
          },
          "metadata": {}
        }
      ]
    },
    {
      "cell_type": "markdown",
      "source": [
        "**16. Implement an F-test using Python to compare the variances of two random samples**\n"
      ],
      "metadata": {
        "id": "sdJPG2H4kRjW"
      }
    },
    {
      "cell_type": "code",
      "source": [
        "import numpy as np\n",
        "from scipy.stats import f\n",
        "\n",
        "# Generate two random samples\n",
        "np.random.seed(42)\n",
        "sample1 = np.random.normal(loc=50, scale=10, size=30)  # Mean=50, Std=10\n",
        "sample2 = np.random.normal(loc=50, scale=15, size=30)  # Mean=50, Std=15\n",
        "\n",
        "# Compute variances\n",
        "var1 = np.var(sample1, ddof=1)  # Sample variance (unbiased)\n",
        "var2 = np.var(sample2, ddof=1)\n",
        "\n",
        "# Compute F-statistic\n",
        "F = var1 / var2\n",
        "\n",
        "# Degrees of freedom\n",
        "df1 = len(sample1) - 1\n",
        "df2 = len(sample2) - 1\n",
        "\n",
        "# Compute p-value (two-tailed test)\n",
        "p_value = 2 * min(f.cdf(F, df1, df2), 1 - f.cdf(F, df1, df2))\n",
        "\n",
        "# Print results\n",
        "print(f\"Variance of Sample 1: {var1:.4f}\")\n",
        "print(f\"Variance of Sample 2: {var2:.4f}\")\n",
        "print(f\"F-statistic: {F:.4f}\")\n",
        "print(f\"P-value: {p_value:.4f}\")\n",
        "\n",
        "# Interpretation\n",
        "alpha = 0.05\n",
        "if p_value < alpha:\n",
        "    print(\"Reject the null hypothesis: The variances are significantly different.\")\n",
        "else:\n",
        "    print(\"Fail to reject the null hypothesis: No significant difference in variances.\")\n"
      ],
      "metadata": {
        "colab": {
          "base_uri": "https://localhost:8080/"
        },
        "id": "1cFcMxinkgi3",
        "outputId": "961bfedf-0e18-4112-d689-3148703a9301"
      },
      "execution_count": 18,
      "outputs": [
        {
          "output_type": "stream",
          "name": "stdout",
          "text": [
            "Variance of Sample 1: 81.0012\n",
            "Variance of Sample 2: 195.0640\n",
            "F-statistic: 0.4153\n",
            "P-value: 0.0209\n",
            "Reject the null hypothesis: The variances are significantly different.\n"
          ]
        }
      ]
    },
    {
      "cell_type": "markdown",
      "source": [
        "**17. Write a Python program to perform an ANOVA test to compare means between multiple groups and interpret the results**"
      ],
      "metadata": {
        "id": "zgPafTOXkqb7"
      }
    },
    {
      "cell_type": "code",
      "source": [
        "import numpy as np\n",
        "import scipy.stats as stats\n",
        "\n",
        "# Generate three random samples (assume normal distributions)\n",
        "np.random.seed(42)\n",
        "group1 = np.random.normal(loc=50, scale=10, size=30)  # Mean=50, Std=10\n",
        "group2 = np.random.normal(loc=55, scale=10, size=30)  # Mean=55, Std=10\n",
        "group3 = np.random.normal(loc=60, scale=10, size=30)  # Mean=60, Std=10\n",
        "\n",
        "# Perform One-Way ANOVA\n",
        "f_statistic, p_value = stats.f_oneway(group1, group2, group3)\n",
        "\n",
        "# Print results\n",
        "print(f\"F-statistic: {f_statistic:.4f}\")\n",
        "print(f\"P-value: {p_value:.4f}\")\n",
        "\n",
        "# Interpretation\n",
        "alpha = 0.05\n",
        "if p_value < alpha:\n",
        "    print(\"Reject the null hypothesis: At least one group mean is significantly different.\")\n",
        "else:\n",
        "    print(\"Fail to reject the null hypothesis: No significant difference between group means.\")\n"
      ],
      "metadata": {
        "colab": {
          "base_uri": "https://localhost:8080/"
        },
        "id": "jPSy5qr9k89D",
        "outputId": "970e2226-467d-4e33-8010-bf0053e86532"
      },
      "execution_count": 19,
      "outputs": [
        {
          "output_type": "stream",
          "name": "stdout",
          "text": [
            "F-statistic: 12.2095\n",
            "P-value: 0.0000\n",
            "Reject the null hypothesis: At least one group mean is significantly different.\n"
          ]
        }
      ]
    },
    {
      "cell_type": "markdown",
      "source": [
        "**18. Perform a one-way ANOVA test using Python to compare the means of different groups and plot the results**\n"
      ],
      "metadata": {
        "id": "ZCt8nAOwlD6u"
      }
    },
    {
      "cell_type": "code",
      "source": [
        "\n",
        "\n",
        "# Sample data: Three groups with different means\n",
        "np.random.seed(42)\n",
        "group1 = np.random.normal(50, 10, 30)  # Mean 50, Std 10, 30 samples\n",
        "group2 = np.random.normal(55, 10, 30)  # Mean 55, Std 10, 30 samples\n",
        "group3 = np.random.normal(60, 10, 30)  # Mean 60, Std 10, 30 samples\n",
        "\n",
        "# Perform one-way ANOVA\n",
        "f_stat, p_value = stats.f_oneway(group1, group2, group3)\n",
        "\n",
        "# Print results\n",
        "print(f\"F-statistic: {f_stat:.4f}\")\n",
        "print(f\"P-value: {p_value:.4f}\")\n",
        "\n",
        "# Visualizing the data\n",
        "data = {'Group': ['Group 1']*30 + ['Group 2']*30 + ['Group 3']*30,\n",
        "        'Values': np.concatenate([group1, group2, group3])}\n",
        "\n",
        "sns.boxplot(x='Group', y='Values', data=data)\n",
        "plt.title('One-Way ANOVA Test Results')\n",
        "plt.xlabel('Groups')\n",
        "plt.ylabel('Values')\n",
        "plt.show()\n"
      ],
      "metadata": {
        "colab": {
          "base_uri": "https://localhost:8080/",
          "height": 516
        },
        "id": "tOh0ozeblQRC",
        "outputId": "133eda8b-d7a6-4c26-b7fa-da4e3eb2c75f"
      },
      "execution_count": 20,
      "outputs": [
        {
          "output_type": "stream",
          "name": "stdout",
          "text": [
            "F-statistic: 12.2095\n",
            "P-value: 0.0000\n"
          ]
        },
        {
          "output_type": "display_data",
          "data": {
            "text/plain": [
              "<Figure size 640x480 with 1 Axes>"
            ],
            "image/png": "[encoded data removed]"
          },
          "metadata": {}
        }
      ]
    },
    {
      "cell_type": "markdown",
      "source": [
        "**19. Write a Python function to check the assumptions (normality, independence, and equal variance) for ANOVA**\n"
      ],
      "metadata": {
        "id": "NaiIrP7KlWn5"
      }
    },
    {
      "cell_type": "code",
      "source": [
        "def check_anova_assumptions(*groups):\n",
        "    \"\"\"\n",
        "    Check the assumptions for ANOVA:\n",
        "    1. Normality (Shapiro-Wilk test)\n",
        "    2. Homogeneity of variance (Levene's test)\n",
        "\n",
        "    Parameters:\n",
        "        *groups: Arrays representing different groups\n",
        "\n",
        "    Returns:\n",
        "        None (prints test results)\n",
        "    \"\"\"\n",
        "\n",
        "    # 1. Normality Test (Shapiro-Wilk Test)\n",
        "    print(\"\\n### Normality Test (Shapiro-Wilk) ###\")\n",
        "    for i, group in enumerate(groups, 1):\n",
        "        stat, p_value = stats.shapiro(group)\n",
        "        print(f\"Group {i}: W-stat={stat:.4f}, p={p_value:.4f} {'(Not Normal)' if p_value < 0.05 else '(Normal)'}\")\n",
        "\n",
        "    # 2. Homogeneity of Variances Test (Levene's Test)\n",
        "    print(\"\\n### Homogeneity of Variance Test (Levene) ###\")\n",
        "    levene_stat, levene_p = stats.levene(*groups)\n",
        "    print(f\"Levene’s Test: W-stat={levene_stat:.4f}, p={levene_p:.4f} {'(Unequal Variances)' if levene_p < 0.05 else '(Equal Variances)'}\")\n",
        "\n",
        "    # 3. Visual Inspection (Histograms & Boxplots)\n",
        "    plt.figure(figsize=(12, 5))\n",
        "\n",
        "    # Histogram for each group\n",
        "    plt.subplot(1, 2, 1)\n",
        "    for i, group in enumerate(groups, 1):\n",
        "        sns.histplot(group, kde=True, label=f'Group {i}', bins=10, alpha=0.6)\n",
        "    plt.legend()\n",
        "    plt.title(\"Histogram of Groups (Check Normality)\")\n",
        "\n",
        "    # Boxplot to check variance\n",
        "    plt.subplot(1, 2, 2)\n",
        "    data = {'Group': np.concatenate([[f'Group {i+1}'] * len(groups[i]) for i in range(len(groups))]),\n",
        "            'Values': np.concatenate(groups)}\n",
        "    sns.boxplot(x='Group', y='Values', data=data)\n",
        "    plt.title(\"Boxplot of Groups (Check Variance)\")\n",
        "\n",
        "    plt.tight_layout()\n",
        "    plt.show()\n",
        "\n",
        "# Example Usage\n",
        "np.random.seed(42)\n",
        "group1 = np.random.normal(50, 10, 30)\n",
        "group2 = np.random.normal(55, 10, 30)\n",
        "group3 = np.random.normal(60, 10, 30)\n",
        "\n",
        "check_anova_assumptions(group1, group2, group3)\n"
      ],
      "metadata": {
        "colab": {
          "base_uri": "https://localhost:8080/",
          "height": 646
        },
        "id": "lEInFtiRlft7",
        "outputId": "27dc38cd-2221-47c8-c9f2-5fb6107d40f7"
      },
      "execution_count": 21,
      "outputs": [
        {
          "output_type": "stream",
          "name": "stdout",
          "text": [
            "\n",
            "### Normality Test (Shapiro-Wilk) ###\n",
            "Group 1: W-stat=0.9751, p=0.6868 (Normal)\n",
            "Group 2: W-stat=0.9837, p=0.9130 (Normal)\n",
            "Group 3: W-stat=0.9628, p=0.3654 (Normal)\n",
            "\n",
            "### Homogeneity of Variance Test (Levene) ###\n",
            "Levene’s Test: W-stat=0.1480, p=0.8627 (Equal Variances)\n"
          ]
        },
        {
          "output_type": "display_data",
          "data": {
            "text/plain": [
              "<Figure size 1200x500 with 2 Axes>"
            ],
            "image/png": "[encoded data removed]"
          },
          "metadata": {}
        }
      ]
    },
    {
      "cell_type": "markdown",
      "source": [
        "**20. Perform a two-way ANOVA test using Python to study the interaction between two factors and visualize the results**"
      ],
      "metadata": {
        "id": "nZNFFEoRlsc8"
      }
    },
    {
      "cell_type": "code",
      "source": [
        "import numpy as np\n",
        "import pandas as pd\n",
        "import matplotlib.pyplot as plt\n",
        "import seaborn as sns\n",
        "import statsmodels.api as sm\n",
        "from statsmodels.formula.api import ols\n",
        "from statsmodels.graphics.factorplots import interaction_plot\n",
        "\n",
        "# Simulated dataset\n",
        "np.random.seed(42)\n",
        "n = 90  # Total number of students\n",
        "teaching_method = np.repeat(['Traditional', 'Online'], n // 2)  # First factor\n",
        "study_hours = np.tile(np.repeat(['Low', 'Medium', 'High'], n // 6), 2)  # Second factor\n",
        "\n",
        "# Generate exam scores with some effect from the factors\n",
        "scores = (np.random.normal(70, 5, n) +\n",
        "          (np.array([1 if method == 'Online' else 0 for method in teaching_method]) * 5) +  # Online method effect\n",
        "          (np.array([2 if hours == 'Medium' else 4 if hours == 'High' else 0 for hours in study_hours])) +  # Study hours effect\n",
        "          (np.array([3 if (method == 'Online' and hours == 'High') else 0 for method, hours in zip(teaching_method, study_hours)])))  # Interaction effect\n",
        "\n",
        "# Create DataFrame\n",
        "df = pd.DataFrame({'Teaching_Method': teaching_method, 'Study_Hours': study_hours, 'Exam_Score': scores})\n",
        "\n",
        "# Perform Two-Way ANOVA\n",
        "model = ols('Exam_Score ~ C(Teaching_Method) + C(Study_Hours) + C(Teaching_Method):C(Study_Hours)', data=df).fit()\n",
        "anova_table = sm.stats.anova_lm(model, typ=2)\n",
        "\n",
        "# Print ANOVA results\n",
        "print(\"\\n### Two-Way ANOVA Results ###\")\n",
        "print(anova_table)\n",
        "\n",
        "# Visualization - Interaction Plot\n",
        "plt.figure(figsize=(8, 5))\n",
        "interaction_plot(df['Teaching_Method'], df['Study_Hours'], df['Exam_Score'], markers=['D', 'o'], ms=8)\n",
        "plt.title(\"Interaction Plot: Teaching Method & Study Hours\")\n",
        "plt.show()\n",
        "\n",
        "# Boxplot visualization\n",
        "plt.figure(figsize=(10, 6))\n",
        "sns.boxplot(x=\"Teaching_Method\", y=\"Exam_Score\", hue=\"Study_Hours\", data=df)\n",
        "plt.title(\"Exam Scores by Teaching Method & Study Hours\")\n",
        "plt.show()\n"
      ],
      "metadata": {
        "colab": {
          "base_uri": "https://localhost:8080/",
          "height": 956
        },
        "id": "iDe-c7KHmRU8",
        "outputId": "fc7d5f8d-0579-457f-a5d1-f3f8bf150a63"
      },
      "execution_count": 24,
      "outputs": [
        {
          "output_type": "stream",
          "name": "stdout",
          "text": [
            "\n",
            "### Two-Way ANOVA Results ###\n",
            "                                        sum_sq    df          F        PR(>F)\n",
            "C(Teaching_Method)                 1158.101960   1.0  51.695820  2.466853e-10\n",
            "C(Study_Hours)                      360.997061   2.0   8.057166  6.293430e-04\n",
            "C(Teaching_Method):C(Study_Hours)    65.304569   2.0   1.457546  2.386338e-01\n",
            "Residual                           1881.787816  84.0        NaN           NaN\n"
          ]
        },
        {
          "output_type": "error",
          "ename": "ValueError",
          "evalue": "Must be a marker for each trace level",
          "traceback": [
            "\u001b[0;31m---------------------------------------------------------------------------\u001b[0m",
            "\u001b[0;31mValueError\u001b[0m                                Traceback (most recent call last)",
            "\u001b[0;32m<ipython-input-24-fcb95d70b6c9>\u001b[0m in \u001b[0;36m<cell line: 0>\u001b[0;34m()\u001b[0m\n\u001b[1;32m     32\u001b[0m \u001b[0;31m# Visualization - Interaction Plot\u001b[0m\u001b[0;34m\u001b[0m\u001b[0;34m\u001b[0m\u001b[0m\n\u001b[1;32m     33\u001b[0m \u001b[0mplt\u001b[0m\u001b[0;34m.\u001b[0m\u001b[0mfigure\u001b[0m\u001b[0;34m(\u001b[0m\u001b[0mfigsize\u001b[0m\u001b[0;34m=\u001b[0m\u001b[0;34m(\u001b[0m\u001b[0;36m8\u001b[0m\u001b[0;34m,\u001b[0m \u001b[0;36m5\u001b[0m\u001b[0;34m)\u001b[0m\u001b[0;34m)\u001b[0m\u001b[0;34m\u001b[0m\u001b[0;34m\u001b[0m\u001b[0m\n\u001b[0;32m---> 34\u001b[0;31m \u001b[0minteraction_plot\u001b[0m\u001b[0;34m(\u001b[0m\u001b[0mdf\u001b[0m\u001b[0;34m[\u001b[0m\u001b[0;34m'Teaching_Method'\u001b[0m\u001b[0;34m]\u001b[0m\u001b[0;34m,\u001b[0m \u001b[0mdf\u001b[0m\u001b[0;34m[\u001b[0m\u001b[0;34m'Study_Hours'\u001b[0m\u001b[0;34m]\u001b[0m\u001b[0;34m,\u001b[0m \u001b[0mdf\u001b[0m\u001b[0;34m[\u001b[0m\u001b[0;34m'Exam_Score'\u001b[0m\u001b[0;34m]\u001b[0m\u001b[0;34m,\u001b[0m \u001b[0mmarkers\u001b[0m\u001b[0;34m=\u001b[0m\u001b[0;34m[\u001b[0m\u001b[0;34m'D'\u001b[0m\u001b[0;34m,\u001b[0m \u001b[0;34m'o'\u001b[0m\u001b[0;34m]\u001b[0m\u001b[0;34m,\u001b[0m \u001b[0mms\u001b[0m\u001b[0;34m=\u001b[0m\u001b[0;36m8\u001b[0m\u001b[0;34m)\u001b[0m\u001b[0;34m\u001b[0m\u001b[0;34m\u001b[0m\u001b[0m\n\u001b[0m\u001b[1;32m     35\u001b[0m \u001b[0mplt\u001b[0m\u001b[0;34m.\u001b[0m\u001b[0mtitle\u001b[0m\u001b[0;34m(\u001b[0m\u001b[0;34m\"Interaction Plot: Teaching Method & Study Hours\"\u001b[0m\u001b[0;34m)\u001b[0m\u001b[0;34m\u001b[0m\u001b[0;34m\u001b[0m\u001b[0m\n\u001b[1;32m     36\u001b[0m \u001b[0mplt\u001b[0m\u001b[0;34m.\u001b[0m\u001b[0mshow\u001b[0m\u001b[0;34m(\u001b[0m\u001b[0;34m)\u001b[0m\u001b[0;34m\u001b[0m\u001b[0;34m\u001b[0m\u001b[0m\n",
            "\u001b[0;32m/usr/local/lib/python3.11/dist-packages/statsmodels/graphics/factorplots.py\u001b[0m in \u001b[0;36minteraction_plot\u001b[0;34m(x, trace, response, func, ax, plottype, xlabel, ylabel, colors, markers, linestyles, legendloc, legendtitle, **kwargs)\u001b[0m\n\u001b[1;32m    124\u001b[0m         \u001b[0;32mraise\u001b[0m \u001b[0mValueError\u001b[0m\u001b[0;34m(\u001b[0m\u001b[0;34m\"Must be a linestyle for each trace level\"\u001b[0m\u001b[0;34m)\u001b[0m\u001b[0;34m\u001b[0m\u001b[0;34m\u001b[0m\u001b[0m\n\u001b[1;32m    125\u001b[0m     \u001b[0;32mif\u001b[0m \u001b[0mlen\u001b[0m\u001b[0;34m(\u001b[0m\u001b[0mmarkers\u001b[0m\u001b[0;34m)\u001b[0m \u001b[0;34m!=\u001b[0m \u001b[0mn_trace\u001b[0m\u001b[0;34m:\u001b[0m\u001b[0;34m\u001b[0m\u001b[0;34m\u001b[0m\u001b[0m\n\u001b[0;32m--> 126\u001b[0;31m         \u001b[0;32mraise\u001b[0m \u001b[0mValueError\u001b[0m\u001b[0;34m(\u001b[0m\u001b[0;34m\"Must be a marker for each trace level\"\u001b[0m\u001b[0;34m)\u001b[0m\u001b[0;34m\u001b[0m\u001b[0;34m\u001b[0m\u001b[0m\n\u001b[0m\u001b[1;32m    127\u001b[0m     \u001b[0;32mif\u001b[0m \u001b[0mlen\u001b[0m\u001b[0;34m(\u001b[0m\u001b[0mcolors\u001b[0m\u001b[0;34m)\u001b[0m \u001b[0;34m!=\u001b[0m \u001b[0mn_trace\u001b[0m\u001b[0;34m:\u001b[0m\u001b[0;34m\u001b[0m\u001b[0;34m\u001b[0m\u001b[0m\n\u001b[1;32m    128\u001b[0m         \u001b[0;32mraise\u001b[0m \u001b[0mValueError\u001b[0m\u001b[0;34m(\u001b[0m\u001b[0;34m\"Must be a color for each trace level\"\u001b[0m\u001b[0;34m)\u001b[0m\u001b[0;34m\u001b[0m\u001b[0;34m\u001b[0m\u001b[0m\n",
            "\u001b[0;31mValueError\u001b[0m: Must be a marker for each trace level"
          ]
        },
        {
          "output_type": "display_data",
          "data": {
            "text/plain": [
              "<Figure size 800x500 with 0 Axes>"
            ]
          },
          "metadata": {}
        },
        {
          "output_type": "display_data",
          "data": {
            "text/plain": [
              "<Figure size 640x480 with 1 Axes>"
            ],
            "image/png": "[encoded data removed]"
          },
          "metadata": {}
        }
      ]
    },
    {
      "cell_type": "markdown",
      "source": [
        "**21. Write a Python program to visualize the F-distribution and discuss its use in hypothesis testing**\n"
      ],
      "metadata": {
        "id": "5p72gjXcmcUN"
      }
    },
    {
      "cell_type": "code",
      "source": [
        "import numpy as np\n",
        "import scipy.stats as stats\n",
        "import matplotlib.pyplot as plt\n",
        "\n",
        "def plot_f_distribution(df1, df2, x_max=5):\n",
        "    \"\"\"\n",
        "    Plots the F-distribution for given degrees of freedom (df1, df2)\n",
        "    and highlights the critical region for a given alpha level.\n",
        "    \"\"\"\n",
        "    x = np.linspace(0, x_max, 1000)\n",
        "    y = stats.f.pdf(x, df1, df2)\n",
        "\n",
        "    # Plot the F-distribution\n",
        "    plt.figure(figsize=(8, 5))\n",
        "    plt.plot(x, y, label=f'F-distribution (df1={df1}, df2={df2})', color='blue')\n",
        "\n",
        "    # Highlight the critical region for a 5% significance level (alpha = 0.05)\n",
        "    alpha = 0.05\n",
        "    critical_value = stats.f.ppf(1 - alpha, df1, df2)\n",
        "    x_crit = np.linspace(critical_value, x_max, 200)\n",
        "    y_crit = stats.f.pdf(x_crit, df1, df2)\n",
        "    plt.fill_between(x_crit, y_crit, color='red', alpha=0.4, label=f'Critical Region (α={alpha})')\n",
        "\n",
        "    # Labels and legend\n",
        "    plt.axvline(critical_value, linestyle=\"--\", color=\"red\", label=f'Critical Value = {critical_value:.2f}')\n",
        "    plt.title(\"F-Distribution & Critical Region\")\n",
        "    plt.xlabel(\"F-Statistic\")\n",
        "    plt.ylabel(\"Density\")\n",
        "    plt.legend()\n",
        "    plt.grid()\n",
        "\n",
        "    plt.show()\n",
        "\n",
        "# Example: Plot F-distribution for df1=5, df2=10\n",
        "plot_f_distribution(df1=5, df2=10)\n"
      ],
      "metadata": {
        "colab": {
          "base_uri": "https://localhost:8080/",
          "height": 496
        },
        "id": "a3xlEZTNmlFO",
        "outputId": "9292d0a0-97ec-4bea-a059-c7718e241297"
      },
      "execution_count": 25,
      "outputs": [
        {
          "output_type": "display_data",
          "data": {
            "text/plain": [
              "<Figure size 800x500 with 1 Axes>"
            ],
            "image/png": "[encoded data removed]"
          },
          "metadata": {}
        }
      ]
    },
    {
      "cell_type": "markdown",
      "source": [
        "**22. Perform a one-way ANOVA test in Python and visualize the results with boxplots to compare group means**\n"
      ],
      "metadata": {
        "id": "Tykv7ycZms9f"
      }
    },
    {
      "cell_type": "code",
      "source": [
        "import numpy as np\n",
        "import scipy.stats as stats\n",
        "import matplotlib.pyplot as plt\n",
        "import seaborn as sns\n",
        "import pandas as pd\n",
        "\n",
        "# Generate sample data: Three groups with different means\n",
        "np.random.seed(42)\n",
        "group1 = np.random.normal(50, 10, 30)  # Mean 50, Std 10, 30 samples\n",
        "group2 = np.random.normal(55, 10, 30)  # Mean 55, Std 10, 30 samples\n",
        "group3 = np.random.normal(60, 10, 30)  # Mean 60, Std 10, 30 samples\n",
        "\n",
        "# Perform one-way ANOVA\n",
        "f_stat, p_value = stats.f_oneway(group1, group2, group3)\n",
        "\n",
        "# Print results\n",
        "print(f\"F-statistic: {f_stat:.4f}\")\n",
        "print(f\"P-value: {p_value:.4f}\")\n",
        "\n",
        "# Organize data for visualization\n",
        "data = pd.DataFrame({\n",
        "    'Values': np.concatenate([group1, group2, group3]),\n",
        "    'Group': ['Group 1'] * 30 + ['Group 2'] * 30 + ['Group 3'] * 30\n",
        "})\n",
        "\n",
        "# Create a boxplot to visualize group means\n",
        "plt.figure(figsize=(8, 5))\n",
        "sns.boxplot(x='Group', y='Values', data=data, palette=\"Set2\")\n",
        "plt.title(\"One-Way ANOVA Test: Comparison of Group Means\")\n",
        "plt.xlabel(\"Groups\")\n",
        "plt.ylabel(\"Values\")\n",
        "plt.grid(True)\n",
        "plt.show()\n"
      ],
      "metadata": {
        "colab": {
          "base_uri": "https://localhost:8080/",
          "height": 623
        },
        "id": "X_Cnp3pJm1Ge",
        "outputId": "19639ef0-0b42-4619-ef3d-1aa4a16811c1"
      },
      "execution_count": 26,
      "outputs": [
        {
          "output_type": "stream",
          "name": "stdout",
          "text": [
            "F-statistic: 12.2095\n",
            "P-value: 0.0000\n"
          ]
        },
        {
          "output_type": "stream",
          "name": "stderr",
          "text": [
            "<ipython-input-26-bc64a42f3887>:28: FutureWarning: \n",
            "\n",
            "Passing `palette` without assigning `hue` is deprecated and will be removed in v0.14.0. Assign the `x` variable to `hue` and set `legend=False` for the same effect.\n",
            "\n",
            "  sns.boxplot(x='Group', y='Values', data=data, palette=\"Set2\")\n"
          ]
        },
        {
          "output_type": "display_data",
          "data": {
            "text/plain": [
              "<Figure size 800x500 with 1 Axes>"
            ],
            "image/png": "[encoded data removed]"
          },
          "metadata": {}
        }
      ]
    },
    {
      "cell_type": "markdown",
      "source": [
        "**23. Simulate random data from a normal distribution, then perform hypothesis testing to evaluate the means**\n"
      ],
      "metadata": {
        "id": "Bds9JYgEnNTd"
      }
    },
    {
      "cell_type": "code",
      "source": [
        "import numpy as np\n",
        "import scipy.stats as stats\n",
        "import matplotlib.pyplot as plt\n",
        "import seaborn as sns\n",
        "\n",
        "# Step 1: Simulate random data from a normal distribution\n",
        "np.random.seed(42)\n",
        "group1 = np.random.normal(loc=50, scale=10, size=30)  # Mean=50, Std=10, 30 samples\n",
        "group2 = np.random.normal(loc=55, scale=10, size=30)  # Mean=55, Std=10, 30 samples\n",
        "\n",
        "# Step 2: Perform an independent two-sample t-test (assuming equal variances)\n",
        "t_stat, p_value = stats.ttest_ind(group1, group2)\n",
        "\n",
        "# Print results\n",
        "print(f\"T-statistic: {t_stat:.4f}\")\n",
        "print(f\"P-value: {p_value:.4f}\")\n",
        "\n",
        "# Step 3: Visualizing the distributions\n",
        "plt.figure(figsize=(10, 5))\n",
        "\n",
        "# Histogram Plot\n",
        "plt.subplot(1, 2, 1)\n",
        "sns.histplot(group1, kde=True, color='blue', label='Group 1', bins=10, alpha=0.6)\n",
        "sns.histplot(group2, kde=True, color='red', label='Group 2', bins=10, alpha=0.6)\n",
        "plt.axvline(np.mean(group1), color='blue', linestyle='dashed', label=f\"Mean Group 1: {np.mean(group1):.2f}\")\n",
        "plt.axvline(np.mean(group2), color='red', linestyle='dashed', label=f\"Mean Group 2: {np.mean(group2):.2f}\")\n",
        "plt.legend()\n",
        "plt.title(\"Histogram of Two Groups\")\n",
        "\n",
        "# Boxplot\n",
        "plt.subplot(1, 2, 2)\n",
        "sns.boxplot(data=[group1, group2], palette=[\"blue\", \"red\"])\n",
        "plt.xticks([0, 1], [\"Group 1\", \"Group 2\"])\n",
        "plt.title(\"Boxplot of Two Groups\")\n",
        "\n",
        "plt.tight_layout()\n",
        "plt.show()\n",
        "\n",
        "# Interpretation\n",
        "if p_value < 0.05:\n",
        "    print(\"Result: The means are significantly different (Reject H0).\")\n",
        "else:\n",
        "    print(\"Result: No significant difference in means (Fail to reject H0).\")\n"
      ],
      "metadata": {
        "colab": {
          "base_uri": "https://localhost:8080/",
          "height": 555
        },
        "id": "X1Qj2AoJna7F",
        "outputId": "228d8ded-ac8d-4a5b-d628-c6b1d8f2e740"
      },
      "execution_count": 27,
      "outputs": [
        {
          "output_type": "stream",
          "name": "stdout",
          "text": [
            "T-statistic: -2.3981\n",
            "P-value: 0.0197\n"
          ]
        },
        {
          "output_type": "display_data",
          "data": {
            "text/plain": [
              "<Figure size 1000x500 with 2 Axes>"
            ],
            "image/png": "[encoded data removed]"
          },
          "metadata": {}
        },
        {
          "output_type": "stream",
          "name": "stdout",
          "text": [
            "Result: The means are significantly different (Reject H0).\n"
          ]
        }
      ]
    },
    {
      "cell_type": "markdown",
      "source": [
        "**24. Perform a hypothesis test for population variance using a Chi-square distribution and interpret the results**\n"
      ],
      "metadata": {
        "id": "K9Uqv5tnnjBd"
      }
    },
    {
      "cell_type": "code",
      "source": [
        "import numpy as np\n",
        "import scipy.stats as stats\n",
        "\n",
        "# Step 1: Generate sample data\n",
        "np.random.seed(42)\n",
        "sample = np.random.normal(loc=50, scale=10, size=30)  # Mean=50, Std=10, 30 samples\n",
        "sample_variance = np.var(sample, ddof=1)  # Sample variance (unbiased)\n",
        "n = len(sample)  # Sample size\n",
        "\n",
        "# Step 2: Define Hypothesized Variance\n",
        "sigma_0_squared = 100  # Hypothetical population variance (e.g., std=10, so variance=10²)\n",
        "\n",
        "# Step 3: Compute Chi-square test statistic\n",
        "chi2_stat = (n - 1) * sample_variance / sigma_0_squared\n",
        "\n",
        "# Step 4: Find critical values for a 95% confidence level (two-tailed test)\n",
        "alpha = 0.05\n",
        "chi2_critical_low = stats.chi2.ppf(alpha / 2, df=n-1)  # Lower critical value\n",
        "chi2_critical_high = stats.chi2.ppf(1 - alpha / 2, df=n-1)  # Upper critical value\n",
        "\n",
        "# Step 5: Compute p-value\n",
        "p_value = 2 * min(stats.chi2.cdf(chi2_stat, df=n-1), 1 - stats.chi2.cdf(chi2_stat, df=n-1))\n",
        "\n",
        "# Print results\n",
        "print(f\"Sample Variance: {sample_variance:.4f}\")\n",
        "print(f\"Chi-square Statistic: {chi2_stat:.4f}\")\n",
        "print(f\"Critical Values: ({chi2_critical_low:.4f}, {chi2_critical_high:.4f})\")\n",
        "print(f\"P-value: {p_value:.4f}\")\n",
        "\n",
        "# Step 6: Interpret Results\n",
        "if chi2_stat < chi2_critical_low or chi2_stat > chi2_critical_high:\n",
        "    print(\"Result: Reject H0 (The population variance is significantly different).\")\n",
        "else:\n",
        "    print(\"Result: Fail to reject H0 (No significant difference in variance).\")\n"
      ],
      "metadata": {
        "colab": {
          "base_uri": "https://localhost:8080/"
        },
        "id": "1qv_0ekinpUt",
        "outputId": "59a65ac8-9b0d-4029-a318-3c957463f8bf"
      },
      "execution_count": 28,
      "outputs": [
        {
          "output_type": "stream",
          "name": "stdout",
          "text": [
            "Sample Variance: 81.0012\n",
            "Chi-square Statistic: 23.4903\n",
            "Critical Values: (16.0471, 45.7223)\n",
            "P-value: 0.4927\n",
            "Result: Fail to reject H0 (No significant difference in variance).\n"
          ]
        }
      ]
    },
    {
      "cell_type": "markdown",
      "source": [
        "**25. Write a Python script to perform a Z-test for comparing proportions between two datasets or groups**\n"
      ],
      "metadata": {
        "id": "vvs2MNnunvtq"
      }
    },
    {
      "cell_type": "code",
      "source": [
        "import numpy as np\n",
        "import scipy.stats as stats\n",
        "\n",
        "def z_test_proportions(x1, n1, x2, n2, alpha=0.05):\n",
        "    \"\"\"\n",
        "    Performs a two-proportion Z-test.\n",
        "\n",
        "    Parameters:\n",
        "    x1, n1 - Number of successes and sample size in group 1\n",
        "    x2, n2 - Number of successes and sample size in group 2\n",
        "    alpha - Significance level (default = 0.05)\n",
        "\n",
        "    Returns:\n",
        "    Z-score, p-value, and conclusion of hypothesis test\n",
        "    \"\"\"\n",
        "    # Step 1: Compute proportions\n",
        "    p1 = x1 / n1\n",
        "    p2 = x2 / n2\n",
        "\n",
        "    # Step 2: Compute pooled proportion\n",
        "    p_pool = (x1 + x2) / (n1 + n2)\n",
        "\n",
        "    # Step 3: Compute standard error\n",
        "    se = np.sqrt(p_pool * (1 - p_pool) * (1/n1 + 1/n2))\n",
        "\n",
        "    # Step 4: Compute Z-score\n",
        "    z_score = (p1 - p2) / se\n",
        "\n",
        "    # Step 5: Compute p-value (two-tailed test)\n",
        "    p_value = 2 * (1 - stats.norm.cdf(abs(z_score)))\n",
        "\n",
        "    # Print results\n",
        "    print(f\"Proportion 1: {p1:.4f}, Proportion 2: {p2:.4f}\")\n",
        "    print(f\"Z-score: {z_score:.4f}\")\n",
        "    print(f\"P-value: {p_value:.4f}\")\n",
        "\n",
        "    # Step 6: Interpret results\n",
        "    if p_value < alpha:\n",
        "        print(\"Result: Reject H0 (The proportions are significantly different).\")\n",
        "    else:\n",
        "        print(\"Result: Fail to reject H0 (No significant difference in proportions).\")\n",
        "\n",
        "# Example usage:\n",
        "x1, n1 = 45, 200  # 45 successes in 200 trials (Group 1)\n",
        "x2, n2 = 30, 180  # 30 successes in 180 trials (Group 2)\n",
        "\n",
        "z_test_proportions(x1, n1, x2, n2)\n"
      ],
      "metadata": {
        "colab": {
          "base_uri": "https://localhost:8080/"
        },
        "id": "pWk4hGSUn4KG",
        "outputId": "9a1e4a29-c353-44e8-d166-c6833db5b3ab"
      },
      "execution_count": 29,
      "outputs": [
        {
          "output_type": "stream",
          "name": "stdout",
          "text": [
            "Proportion 1: 0.2250, Proportion 2: 0.1667\n",
            "Z-score: 1.4265\n",
            "P-value: 0.1537\n",
            "Result: Fail to reject H0 (No significant difference in proportions).\n"
          ]
        }
      ]
    },
    {
      "cell_type": "markdown",
      "source": [
        "**26. Implement an F-test for comparing the variances of two datasets, then interpret and visualize the results**\n"
      ],
      "metadata": {
        "id": "SrUeHZyqoAX_"
      }
    },
    {
      "cell_type": "code",
      "source": [
        "import numpy as np\n",
        "import scipy.stats as stats\n",
        "import matplotlib.pyplot as plt\n",
        "import seaborn as sns\n",
        "\n",
        "def f_test_variances(data1, data2, alpha=0.05):\n",
        "    \"\"\"\n",
        "    Performs an F-test to compare the variances of two datasets.\n",
        "\n",
        "    Parameters:\n",
        "    data1, data2 - The two independent datasets\n",
        "    alpha - Significance level (default = 0.05)\n",
        "\n",
        "    Returns:\n",
        "    F-statistic, p-value, and interpretation\n",
        "    \"\"\"\n",
        "    # Step 1: Compute sample variances\n",
        "    var1, var2 = np.var(data1, ddof=1), np.var(data2, ddof=1)\n",
        "\n",
        "    # Step 2: Compute F-statistic (ensure F > 1 by dividing larger variance by smaller)\n",
        "    if var1 > var2:\n",
        "        f_stat = var1 / var2\n",
        "        df1, df2 = len(data1) - 1, len(data2) - 1\n",
        "    else:\n",
        "        f_stat = var2 / var1\n",
        "        df1, df2 = len(data2) - 1, len(data1) - 1\n",
        "\n",
        "    # Step 3: Compute p-value (two-tailed test)\n",
        "    p_value = 2 * (1 - stats.f.cdf(f_stat, df1, df2))\n",
        "\n",
        "    # Print results\n",
        "    print(f\"Variance 1: {var1:.4f}, Variance 2: {var2:.4f}\")\n",
        "    print(f\"F-statistic: {f_stat:.4f}\")\n",
        "    print(f\"P-value: {p_value:.4f}\")\n",
        "\n",
        "    # Step 4: Interpret results\n",
        "    if p_value < alpha:\n",
        "        print(\"Result: Reject H0 (The variances are significantly different).\")\n",
        "    else:\n",
        "        print(\"Result: Fail to reject H0 (No significant difference in variances).\")\n",
        "\n",
        "    # Visualization: Boxplot of both datasets\n",
        "    plt.figure(figsize=(8, 5))\n",
        "    sns.boxplot(data=[data1, data2], palette=[\"blue\", \"red\"])\n",
        "    plt.xticks([0, 1], [\"Dataset 1\", \"Dataset 2\"])\n",
        "    plt.title(\"F-Test: Comparison of Variances\")\n",
        "    plt.ylabel(\"Values\")\n",
        "    plt.show()\n",
        "\n",
        "# Example usage:\n",
        "np.random.seed(42)\n",
        "data1 = np.random.normal(loc=50, scale=10, size=30)  # Mean=50, Std=10\n",
        "data2 = np.random.normal(loc=50, scale=15, size=30)  # Mean=50, Std=15\n",
        "\n",
        "f_test_variances(data1, data2)\n"
      ],
      "metadata": {
        "colab": {
          "base_uri": "https://localhost:8080/",
          "height": 545
        },
        "id": "KHFbeIFxoOgu",
        "outputId": "2d7bd7fb-f090-42c1-fa62-5698779715da"
      },
      "execution_count": 30,
      "outputs": [
        {
          "output_type": "stream",
          "name": "stdout",
          "text": [
            "Variance 1: 81.0012, Variance 2: 195.0640\n",
            "F-statistic: 2.4082\n",
            "P-value: 0.0209\n",
            "Result: Reject H0 (The variances are significantly different).\n"
          ]
        },
        {
          "output_type": "display_data",
          "data": {
            "text/plain": [
              "<Figure size 800x500 with 1 Axes>"
            ],
            "image/png": "[encoded data removed]"
          },
          "metadata": {}
        }
      ]
    },
    {
      "cell_type": "markdown",
      "source": [
        "**27. Perform a Chi-square test for goodness of fit with simulated data and analyze the results.**\n"
      ],
      "metadata": {
        "id": "br66UTzpoa_V"
      }
    },
    {
      "cell_type": "code",
      "source": [
        "import numpy as np\n",
        "import scipy.stats as stats\n",
        "\n",
        "# Step 1: Simulate observed data (frequency counts for categories)\n",
        "observed = np.array([50, 30, 20])  # Example observed counts in 3 categories\n",
        "\n",
        "# Step 2: Define expected proportions (assumed equal distribution)\n",
        "expected_proportions = np.array([1/3, 1/3, 1/3])  # Equal distribution assumption\n",
        "expected = expected_proportions * np.sum(observed)  # Scale expected counts to match total observations\n",
        "\n",
        "# Step 3: Perform Chi-square test\n",
        "chi2_stat, p_value = stats.chisquare(f_obs=observed, f_exp=expected)\n",
        "\n",
        "# Print results\n",
        "print(f\"Observed Counts: {observed}\")\n",
        "print(f\"Expected Counts: {expected}\")\n",
        "print(f\"Chi-square Statistic: {chi2_stat:.4f}\")\n",
        "print(f\"P-value: {p_value:.4f}\")\n",
        "\n",
        "# Step 4: Interpretation\n",
        "alpha = 0.05  # Significance level\n",
        "if p_value < alpha:\n",
        "    print(\"Result: Reject H0 (Observed distribution is significantly different from expected).\")\n",
        "else:\n",
        "    print(\"Result: Fail to reject H0 (No significant difference from expected distribution).\")\n"
      ],
      "metadata": {
        "colab": {
          "base_uri": "https://localhost:8080/"
        },
        "id": "I80Ozm5Qoh5h",
        "outputId": "052228e8-b40d-4600-a55c-21f8e42cb0f4"
      },
      "execution_count": 31,
      "outputs": [
        {
          "output_type": "stream",
          "name": "stdout",
          "text": [
            "Observed Counts: [50 30 20]\n",
            "Expected Counts: [33.33333333 33.33333333 33.33333333]\n",
            "Chi-square Statistic: 14.0000\n",
            "P-value: 0.0009\n",
            "Result: Reject H0 (Observed distribution is significantly different from expected).\n"
          ]
        }
      ]
    }
  ]
}