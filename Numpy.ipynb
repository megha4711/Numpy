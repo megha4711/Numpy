{
  "nbformat": 4,
  "nbformat_minor": 0,
  "metadata": {
    "colab": {
      "provenance": []
    },
    "kernelspec": {
      "name": "python3",
      "display_name": "Python 3"
    },
    "language_info": {
      "name": "python"
    }
  },
  "cells": [
    {
      "cell_type": "markdown",
      "source": [
        " **1. Explain the purpose and advantages of NumPy in scientific computing and data analysis. How does it enhance Python's capabilities for numerical operations?**"
      ],
      "metadata": {
        "id": "GiqSs5uQFwwW"
      }
    },
    {
      "cell_type": "markdown",
      "source": [
        "**Purpose of NumPy in Scientific Computing and Data Analysis**\n",
        "NumPy (short for Numerical Python) is a fundamental library in Python that provides support for large, multi-dimensional arrays and matrices, along with a wide range of mathematical functions to operate on these arrays efficiently. It is widely used in scientific computing, data analysis, machine learning, and other fields where numerical operations are critical.\n",
        "\n",
        "**Advantages of NumPy**\n",
        "\n",
        "1. Efficient Array Operations:\n",
        "\n",
        "NumPy arrays (ndarrays) are more memory-efficient and faster compared to Python's native lists. They allow for element-wise operations and broadcasting, making it easier to perform complex mathematical computations on large datasets.\n",
        "\n",
        "2. Support for Multidimensional Arrays:\n",
        "\n",
        "NumPy supports n-dimensional arrays, making it easy to work with data in multiple dimensions (e.g., 2D matrices, 3D tensors). This is essential for scientific computing and applications like image processing or linear algebra.\n",
        "\n",
        "3. Performance:\n",
        "\n",
        "NumPy is implemented in C and Fortran under the hood, allowing it to execute numerical operations much faster than native Python code, which is interpreted.\n",
        "\n",
        "4. Rich Mathematical Functionality:\n",
        "\n",
        "It provides a wide range of functions for numerical computing, including linear algebra, Fourier transformations, random number generation, and statistical tools.\n",
        "\n",
        "5. Broadcasting:\n",
        "\n",
        "Broadcasting enables arithmetic operations on arrays of different shapes without requiring explicit loops, simplifying the code and improving performance.\n",
        "\n",
        "6. Interoperability:\n",
        "\n",
        "NumPy integrates well with other Python libraries like pandas, Matplotlib, and SciPy, forming a strong ecosystem for scientific computing and data analysis.\n",
        "\n",
        "7. Convenient Data Manipulation:\n",
        "\n",
        "It offers functionalities for reshaping, slicing, and indexing arrays, making it easy to manipulate and preprocess data.\n",
        "\n",
        "8. Community and Documentation:\n",
        "\n",
        "NumPy has extensive documentation, tutorials, and a large, active community, making it beginner-friendly and well-supported.\n",
        "\n",
        "\n",
        "**How NumPy Enhances Python's Capabilities for Numerical Operations**\n",
        "\n",
        "1. Array-Oriented Computing:\n",
        "\n",
        "Python's built-in lists and loops are inefficient for numerical computations. NumPy's ndarrays provide a robust and high-performance data structure designed specifically for numerical data.\n",
        "\n",
        "2. Vectorized Operations:\n",
        "\n",
        "NumPy eliminates the need for explicit loops in many cases by performing element-wise operations across entire arrays simultaneously.\n",
        "\n",
        "3. Integration with C/Fortran:\n",
        "\n",
        "NumPy allows developers to write performance-critical code in C/Fortran and use it seamlessly in Python, combining high performance with Python's simplicity.\n",
        "\n",
        "4. Handling Large Datasets:\n",
        "\n",
        "NumPy is optimized for handling large datasets in memory, which is essential for modern data-intensive applications.\n",
        "\n",
        "5. Foundation for Other Libraries:\n",
        "\n",
        "Many popular libraries, such as pandas (data manipulation) and TensorFlow (machine learning), are built on top of NumPy, relying on its efficient array operations as their core.\n"
      ],
      "metadata": {
        "id": "7xz6aIXDFzyA"
      }
    },
    {
      "cell_type": "markdown",
      "source": [
        "**2. Compare and contrast np.mean() and np.average() functions in NumPy. When would you use one over the other?**"
      ],
      "metadata": {
        "id": "1FB2psyAF-Pd"
      }
    },
    {
      "cell_type": "markdown",
      "source": [
        "In NumPy, both np.mean() and np.average() are used to compute the average of an array, but they have distinct functionalities and use cases.\n",
        "\n",
        "1. np.mean()\n",
        "Purpose: Calculates the arithmetic mean (simple average) of the elements in an array.\n",
        "\n",
        "Syntax: np.mean(array, axis=None, dtype=None, keepdims=False)\n",
        "\n",
        "Key Features:\n",
        "\n",
        "a. Computes the mean by summing up all elements and dividing by the total number of elements.\n",
        "b. Operates along a specified axis or on the flattened array if no axis is specified.\n",
        "c. Does not support weighting (all elements are treated equally).\n",
        "d. Returns a scalar value for the mean unless keepdims=True is specified.\n",
        "\n",
        "2. np.average()\n",
        "Purpose: Calculates a weighted average of the elements in an array.\n",
        "\n",
        "Syntax:np.average(array, axis=None, weights=None, returned=False)\n",
        "\n",
        "Key Features:\n",
        "\n",
        "a. Allows for weighting of elements via the weights parameter.\n",
        "b. If weights is None, it behaves identically to np.mean().\n",
        "c. Returns a scalar unless an axis is specified or returned=True is used.\n",
        "d. The returned=True option adds the sum of weights as a second output."
      ],
      "metadata": {
        "id": "RLlm_PkiGAXZ"
      }
    },
    {
      "cell_type": "markdown",
      "source": [
        "**3. Describe the methods for reversing a NumPy array along different axes. Provide examples for 1D and 2D arrays.**"
      ],
      "metadata": {
        "id": "fhAOuPQdGFUB"
      }
    },
    {
      "cell_type": "markdown",
      "source": [
        "1. Reversing a 1D Array\n",
        "For a one-dimensional array, reversing the array essentially reverses the order of its elements.\n",
        "\n",
        "Method 1: Using slicing\n",
        "The slicing syntax [::-1] reverses the array:"
      ],
      "metadata": {
        "id": "hKHDVcerGJxR"
      }
    },
    {
      "cell_type": "code",
      "source": [
        "import numpy as np\n",
        "\n",
        "# 1D Array\n",
        "arr = np.array([1, 2, 3, 4, 5])\n",
        "\n",
        "reversed_arr = arr[::-1]\n",
        "print(\"Reversed 1D array (slicing):\", reversed_arr)"
      ],
      "metadata": {
        "colab": {
          "base_uri": "https://localhost:8080/"
        },
        "id": "jO11wRBJGNcA",
        "outputId": "697712a7-ff60-4efc-b940-6f5123531cdd"
      },
      "execution_count": 1,
      "outputs": [
        {
          "output_type": "stream",
          "name": "stdout",
          "text": [
            "Reversed 1D array (slicing): [5 4 3 2 1]\n"
          ]
        }
      ]
    },
    {
      "cell_type": "markdown",
      "source": [
        "Method 2: Using numpy.flip\n",
        "\n",
        "The numpy.flip function can also reverse a 1D array:"
      ],
      "metadata": {
        "id": "adQYaw0cGcDH"
      }
    },
    {
      "cell_type": "code",
      "source": [
        "# Reverse using numpy.flip\n",
        "reversed_arr = np.flip(arr)\n",
        "print(\"Reversed 1D array (numpy.flip):\", reversed_arr)\n"
      ],
      "metadata": {
        "colab": {
          "base_uri": "https://localhost:8080/"
        },
        "id": "askjsqDIGe1L",
        "outputId": "33584d4a-51be-4d21-e2d8-d928b77e9c50"
      },
      "execution_count": 2,
      "outputs": [
        {
          "output_type": "stream",
          "name": "stdout",
          "text": [
            "Reversed 1D array (numpy.flip): [5 4 3 2 1]\n"
          ]
        }
      ]
    },
    {
      "cell_type": "markdown",
      "source": [
        "2. Reversing a 2D Array\n",
        "\n",
        "For two-dimensional arrays, you can reverse elements along specific axes or both axes.\n",
        "\n",
        "Method 1: Reverse along rows (axis=0)\n",
        "Reversing along rows means flipping the array vertically:"
      ],
      "metadata": {
        "id": "lZytAjS3GjOO"
      }
    },
    {
      "cell_type": "code",
      "source": [
        "# 2D Array\n",
        "arr = np.array([[1, 2, 3], [4, 5, 6], [7, 8, 9]])\n",
        "\n",
        "# Reverse along rows using slicing\n",
        "reversed_rows = arr[::-1, :]\n",
        "print(\"Reversed along rows (slicing):\\n\", reversed_rows)\n",
        "\n",
        "# Reverse along rows using numpy.flip\n",
        "reversed_rows = np.flip(arr, axis=0)\n",
        "print(\"Reversed along rows (numpy.flip):\\n\", reversed_rows)\n"
      ],
      "metadata": {
        "colab": {
          "base_uri": "https://localhost:8080/"
        },
        "id": "lAoo0mGEGomN",
        "outputId": "8472e145-fc9b-40b3-890f-430b7b4aa908"
      },
      "execution_count": 3,
      "outputs": [
        {
          "output_type": "stream",
          "name": "stdout",
          "text": [
            "Reversed along rows (slicing):\n",
            " [[7 8 9]\n",
            " [4 5 6]\n",
            " [1 2 3]]\n",
            "Reversed along rows (numpy.flip):\n",
            " [[7 8 9]\n",
            " [4 5 6]\n",
            " [1 2 3]]\n"
          ]
        }
      ]
    },
    {
      "cell_type": "markdown",
      "source": [
        "Method 2: Reverse along columns (axis=1)\n",
        "\n",
        "Reversing along columns means flipping the array horizontally:"
      ],
      "metadata": {
        "id": "S-T0_D5pGtoi"
      }
    },
    {
      "cell_type": "code",
      "source": [
        "# Reverse along columns using slicing\n",
        "reversed_columns = arr[:, ::-1]\n",
        "print(\"Reversed along columns (slicing):\\n\", reversed_columns)\n",
        "\n",
        "# Reverse along columns using numpy.flip\n",
        "reversed_columns = np.flip(arr, axis=1)\n",
        "print(\"Reversed along columns (numpy.flip):\\n\", reversed_columns)\n"
      ],
      "metadata": {
        "colab": {
          "base_uri": "https://localhost:8080/"
        },
        "id": "I1X0XiqjGyjH",
        "outputId": "d7dbf0bf-74c5-401f-f25d-aa6e9e028b55"
      },
      "execution_count": 4,
      "outputs": [
        {
          "output_type": "stream",
          "name": "stdout",
          "text": [
            "Reversed along columns (slicing):\n",
            " [[3 2 1]\n",
            " [6 5 4]\n",
            " [9 8 7]]\n",
            "Reversed along columns (numpy.flip):\n",
            " [[3 2 1]\n",
            " [6 5 4]\n",
            " [9 8 7]]\n"
          ]
        }
      ]
    },
    {
      "cell_type": "markdown",
      "source": [
        "Method 3: Reverse along both axes\n",
        "\n",
        "To reverse both axes simultaneously:"
      ],
      "metadata": {
        "id": "VEM3Od6gG24u"
      }
    },
    {
      "cell_type": "code",
      "source": [
        "# Reverse along both axes using slicing\n",
        "reversed_both = arr[::-1, ::-1]\n",
        "print(\"Reversed along both axes (slicing):\\n\", reversed_both)\n",
        "\n",
        "# Reverse along both axes using numpy.flip\n",
        "reversed_both = np.flip(arr, axis=(0, 1))\n",
        "print(\"Reversed along both axes (numpy.flip):\\n\", reversed_both)\n"
      ],
      "metadata": {
        "colab": {
          "base_uri": "https://localhost:8080/"
        },
        "id": "Vhn4fLN3G8Ee",
        "outputId": "1596fc22-0cf2-4854-df0b-381b15258d1b"
      },
      "execution_count": 5,
      "outputs": [
        {
          "output_type": "stream",
          "name": "stdout",
          "text": [
            "Reversed along both axes (slicing):\n",
            " [[9 8 7]\n",
            " [6 5 4]\n",
            " [3 2 1]]\n",
            "Reversed along both axes (numpy.flip):\n",
            " [[9 8 7]\n",
            " [6 5 4]\n",
            " [3 2 1]]\n"
          ]
        }
      ]
    },
    {
      "cell_type": "markdown",
      "source": [
        "**4. How can you determine the data type of elements in a NumPy array? Discuss the importance of data types in memory management and performance.**"
      ],
      "metadata": {
        "id": "N7yFowlxHJKU"
      }
    },
    {
      "cell_type": "markdown",
      "source": [
        "To determine the data type of elements in a NumPy array, you can use the dtype attribute of the array. For example:\n",
        "\n",
        "import numpy as np\n",
        "\n",
        "# Create a NumPy array\n",
        "array = np.array([1, 2, 3])\n",
        "\n",
        "# Check the data type of the array\n",
        "print(array.dtype)\n",
        "\n",
        "This will output the data type of the array, such as int64, float32, or bool.\n",
        "\n",
        "\n",
        "Importance of Data Types in Memory Management and Performance\n",
        "\n",
        "1. Memory Efficiency:\n",
        "\n",
        "a. NumPy is designed for efficient memory usage. The dtype of an array determines how much memory each element consumes. For instance, an array with int32 elements uses 4 bytes per integer, while an array with float64 elements uses 8 bytes per floating-point number.\n",
        "\n",
        "b . Choosing the appropriate data type can significantly reduce memory usage, especially for large datasets.\n",
        "\n",
        "2. Performance:\n",
        "\n",
        "a. Operations on NumPy arrays are optimized based on their data types. For example, computations on arrays with smaller data types (int8, float32) are faster than on larger data types (int64, float64) because they involve less data movement and fewer CPU cycles.\n",
        "\n",
        "b. Using the correct data type also helps avoid unnecessary type casting during operations, which can slow down computations.\n",
        "\n",
        "3. Accuracy:\n",
        "\n",
        "Some data types, like float32 and float64, differ in precision. Choosing an appropriate type ensures numerical accuracy while balancing memory and performance. For example, float32 might suffice for graphics or simulations, but float64 may be required for scientific calculations where higher precision is needed.\n",
        "\n",
        "4. Compatibility:\n",
        "\n",
        "The data type ensures compatibility when interacting with other libraries or systems that expect specific types. For instance, when interfacing with machine learning libraries like TensorFlow or PyTorch, the expected dtype often affects model training performance."
      ],
      "metadata": {
        "id": "qZ9nXToeHNVC"
      }
    },
    {
      "cell_type": "markdown",
      "source": [
        "**5. Define ndarrays in NumPy and explain their key features. How do they differ from standard Python lists?**"
      ],
      "metadata": {
        "id": "Zc9SM-w0ImX_"
      }
    },
    {
      "cell_type": "markdown",
      "source": [
        "An ndarray (short for n-dimensional array) is the primary data structure in NumPy. It is a grid of values, all of the same data type, indexed by a tuple of non-negative integers. It can represent vectors (1D arrays), matrices (2D arrays), or tensors (n-dimensional arrays).\n",
        "\n",
        "Key Features of ndarray:\n",
        "\n",
        "1. Homogeneous Data:\n",
        "\n",
        "All elements in an ndarray must be of the same data type, ensuring consistency and efficient memory use.\n",
        "\n",
        "2. N-dimensional Support:\n",
        "\n",
        "Supports arrays of arbitrary dimensions (1D, 2D, 3D, etc.), enabling operations on complex datasets like images, volumes, and more.\n",
        "\n",
        "3. Fast and Efficient:\n",
        "\n",
        "Optimized for numerical computations, leveraging C and Fortran libraries under the hood.\n",
        "Operations are performed element-wise and are significantly faster than equivalent operations on Python lists.\n",
        "\n",
        "4. Fixed Size:\n",
        "\n",
        "Unlike Python lists, ndarrays have a fixed size after creation. Resizing requires creating a new array.\n",
        "\n",
        "5. Rich Set of Operations:\n",
        "\n",
        "Supports advanced mathematical operations, broadcasting, slicing, and indexing.\n",
        "Provides methods for linear algebra, random sampling, Fourier transforms, and more.\n",
        "\n",
        "6. Memory Efficiency:\n",
        "\n",
        "Uses contiguous memory blocks and stores data compactly, minimizing overhead compared to Python lists.\n",
        "\n",
        "7. Data Type Flexibility:\n",
        "\n",
        "Allows specification of data types (dtype) like int32, float64, or complex128, enabling fine control over memory and performance.\n"
      ],
      "metadata": {
        "id": "rcGK3DGkIs5X"
      }
    },
    {
      "cell_type": "markdown",
      "source": [
        " **6. Analyze the performance benefits of NumPy arrays over Python lists for large-scale numerical operations.**"
      ],
      "metadata": {
        "id": "UblMAW9hJMIT"
      }
    },
    {
      "cell_type": "markdown",
      "source": [
        "NumPy arrays (ndarrays) are significantly faster and more efficient than Python lists for numerical operations due to several key design advantages:\n",
        "\n",
        "1. Vectorization:\n",
        "NumPy arrays support vectorized operations, which allow you to apply an operation to the entire array without explicit loops.\n",
        "\n",
        "This avoids the overhead of Python’s for-loops and makes use of highly optimized C/Fortran-level implementations."
      ],
      "metadata": {
        "id": "2cDcmyfxJPT1"
      }
    },
    {
      "cell_type": "code",
      "source": [
        "import numpy as np\n",
        "array = np.array([1, 2, 3, 4])\n",
        "result = array * 2  # Vectorized multiplication\n",
        "print(result)\n"
      ],
      "metadata": {
        "colab": {
          "base_uri": "https://localhost:8080/"
        },
        "id": "LcrRAD6BJh95",
        "outputId": "901bfe4f-f386-4e29-e984-543379bacdee"
      },
      "execution_count": 8,
      "outputs": [
        {
          "output_type": "stream",
          "name": "stdout",
          "text": [
            "[2 4 6 8]\n"
          ]
        }
      ]
    },
    {
      "cell_type": "markdown",
      "source": [
        "2. Memory Efficiency:\n",
        "\n",
        "NumPy arrays use a contiguous block of memory, storing data in a compact and efficient binary format. This minimizes memory overhead compared to Python lists, which store references to individual objects."
      ],
      "metadata": {
        "id": "YbNf7ghmJo8m"
      }
    },
    {
      "cell_type": "code",
      "source": [
        "import sys\n",
        "import numpy as np\n",
        "\n",
        "# Memory usage of a NumPy array\n",
        "np_array = np.array([1, 2, 3, 4, 5], dtype=np.int32)\n",
        "print(np_array.nbytes)\n",
        "\n",
        "# Memory usage of a Python list\n",
        "py_list = [1, 2, 3, 4, 5]\n",
        "print(sys.getsizeof(py_list))"
      ],
      "metadata": {
        "colab": {
          "base_uri": "https://localhost:8080/"
        },
        "id": "BGltufCiJs_x",
        "outputId": "05c45de4-98cd-446a-9996-daba34721fe8"
      },
      "execution_count": 9,
      "outputs": [
        {
          "output_type": "stream",
          "name": "stdout",
          "text": [
            "20\n",
            "104\n"
          ]
        }
      ]
    },
    {
      "cell_type": "markdown",
      "source": [
        "3. Optimized C/Fortran Backend:\n",
        "\n",
        "NumPy’s backend is implemented in C and Fortran, which are much faster than Python’s interpreted operations.\n",
        "\n",
        "When performing mathematical operations on arrays, NumPy directly executes compiled code rather than Python bytecode.\n",
        "\n",
        "4. Avoidance of Type Checking Overhead:\n",
        "\n",
        "Python lists are heterogeneous, meaning they can hold elements of different types. Every operation involves dynamic type checking, which adds overhead.\n",
        "\n",
        "NumPy arrays are homogeneous, so operations are streamlined with no type-checking overhead.\n",
        "\n",
        "5. Broadcasting:\n",
        "\n",
        "NumPy allows broadcasting, which enables operations on arrays of different shapes without explicitly reshaping or replicating data.\n",
        "\n",
        "This reduces the need for explicit loops or memory-intensive operations."
      ],
      "metadata": {
        "id": "sC8S8zbaJ2bd"
      }
    },
    {
      "cell_type": "code",
      "source": [
        "import numpy as np\n",
        "array = np.array([1, 2, 3, 4, 5, 6, 7 ])\n",
        "result = array + 10  # Broadcasting\n",
        "print(result)"
      ],
      "metadata": {
        "colab": {
          "base_uri": "https://localhost:8080/"
        },
        "id": "tGNgcDPWKEW1",
        "outputId": "8e525f62-e660-4014-e5b0-fa72f84053a4"
      },
      "execution_count": 11,
      "outputs": [
        {
          "output_type": "stream",
          "name": "stdout",
          "text": [
            "[11 12 13 14 15 16 17]\n"
          ]
        }
      ]
    },
    {
      "cell_type": "markdown",
      "source": [
        "6. Parallelism:\n",
        "\n",
        "NumPy can leverage multi-threading and parallelism for some operations (e.g., matrix multiplications), whereas Python’s default implementation is single-threaded.\n",
        "\n",
        "7. Built-in Mathematical Operations:\n",
        "\n",
        "NumPy provides a wide array of built-in functions (e.g., np.sum, np.mean, np.dot) that are highly optimized for performance.\n",
        "These functions eliminate the need for implementing numerical algorithms manually.\n",
        "\n",
        "8. Scalability:\n",
        "\n",
        "NumPy’s performance advantage becomes more pronounced as the size of the data grows. It is well-suited for handling large-scale datasets, such as in data science, machine learning, or scientific computing.\n",
        "\n"
      ],
      "metadata": {
        "id": "vkvYjkzqKRPb"
      }
    },
    {
      "cell_type": "markdown",
      "source": [
        "**7. Compare vstack() and hstack() functions in NumPy. Provide examples demonstrating their usage and output.**"
      ],
      "metadata": {
        "id": "HCn9q_iOKiN4"
      }
    },
    {
      "cell_type": "markdown",
      "source": [
        "The vstack() and hstack() functions in NumPy are used to stack arrays vertically and horizontally, respectively.\n",
        "\n",
        "1. vstack():\n",
        "Stacks arrays vertically (row-wise).\n",
        "It combines arrays along the vertical (first) axis.\n",
        "Input arrays must have the same number of columns (shape along axis 1)."
      ],
      "metadata": {
        "id": "HaIDCZ3iKwdS"
      }
    },
    {
      "cell_type": "code",
      "source": [
        "import numpy as np\n",
        "\n",
        "# Create two 1D arrays\n",
        "array1 = np.array([1, 2, 3])\n",
        "array2 = np.array([4, 5, 6])\n",
        "\n",
        "# Vertical stacking\n",
        "result = np.vstack((array1, array2))\n",
        "print(\"vstack result:\\n\", result)\n"
      ],
      "metadata": {
        "colab": {
          "base_uri": "https://localhost:8080/"
        },
        "id": "AOim4zNLK93c",
        "outputId": "e3dc9dc4-b339-41fe-8ded-10a0305cda41"
      },
      "execution_count": 12,
      "outputs": [
        {
          "output_type": "stream",
          "name": "stdout",
          "text": [
            "vstack result:\n",
            " [[1 2 3]\n",
            " [4 5 6]]\n"
          ]
        }
      ]
    },
    {
      "cell_type": "markdown",
      "source": [
        "2. hstack():\n",
        "Stacks arrays horizontally (column-wise).\n",
        "It combines arrays along the horizontal (second) axis.\n",
        "Input arrays must have the same number of rows (shape along axis 0)."
      ],
      "metadata": {
        "id": "1OzdNgOPLF6y"
      }
    },
    {
      "cell_type": "code",
      "source": [
        "import numpy as np\n",
        "\n",
        "# Create two 1D arrays\n",
        "array1 = np.array([1, 2, 3])\n",
        "array2 = np.array([4, 5, 6])\n",
        "\n",
        "# Horizontal stacking\n",
        "result = np.hstack((array1, array2))\n",
        "print(\"hstack result:\\n\", result)\n"
      ],
      "metadata": {
        "colab": {
          "base_uri": "https://localhost:8080/"
        },
        "id": "Q4CnGCx-LHod",
        "outputId": "9af0f3fd-391f-44be-e5c1-e60066449ce3"
      },
      "execution_count": 13,
      "outputs": [
        {
          "output_type": "stream",
          "name": "stdout",
          "text": [
            "hstack result:\n",
            " [1 2 3 4 5 6]\n"
          ]
        }
      ]
    },
    {
      "cell_type": "markdown",
      "source": [
        "**8. Explain the differences between fliplr() and flipud() methods in NumPy, including their effects on various array dimensions.**"
      ],
      "metadata": {
        "id": "ZHzQEwC5LUQN"
      }
    },
    {
      "cell_type": "markdown",
      "source": [
        "Both fliplr() and flipud() are array manipulation functions in NumPy that flip arrays along different axes. Below are the differences and details of their behavior:\n",
        "\n",
        "1. fliplr()\n",
        "\n",
        "Definition: Stands for \"flip left to right\". It flips the array horizontally, reversing the order of columns while keeping the rows unchanged.\n",
        "Applicable Arrays: Only works on arrays with 2 or more dimensions. For 1D arrays, it raises a ValueError.\n",
        "\n",
        "Effect:\n",
        "\n",
        "For 2D arrays: The columns are reversed.\n",
        "\n",
        "For higher-dimensional arrays: The operation is applied to the last axis (axis 1).\n",
        "\n",
        "Example with a 2D Array:"
      ],
      "metadata": {
        "id": "1OAVw9_ILtfX"
      }
    },
    {
      "cell_type": "code",
      "source": [
        "import numpy as np\n",
        "\n",
        "# Create a 2D array\n",
        "array = np.array([[1, 2, 3],\n",
        "                  [4, 5, 6]])\n",
        "\n",
        "# Flip horizontally (reverse columns)\n",
        "result = np.fliplr(array)\n",
        "print(\"Original array:\\n\", array)\n",
        "print(\"fliplr result:\\n\", result)\n"
      ],
      "metadata": {
        "colab": {
          "base_uri": "https://localhost:8080/"
        },
        "id": "MKGSrQbCL-Ox",
        "outputId": "3f34ca27-4880-4aab-966d-5a26be3a3ffc"
      },
      "execution_count": 14,
      "outputs": [
        {
          "output_type": "stream",
          "name": "stdout",
          "text": [
            "Original array:\n",
            " [[1 2 3]\n",
            " [4 5 6]]\n",
            "fliplr result:\n",
            " [[3 2 1]\n",
            " [6 5 4]]\n"
          ]
        }
      ]
    },
    {
      "cell_type": "markdown",
      "source": [
        "2. flipud()\n",
        "\n",
        "Definition: Stands for \"flip up to down\". It flips the array vertically, reversing the order of rows while keeping the columns unchanged.\n",
        "Applicable Arrays: Works on arrays with 1 or more dimensions.\n",
        "\n",
        "Effect:\n",
        "\n",
        "For 1D arrays: The elements are reversed (acts like np.flip()).\n",
        "\n",
        "For 2D arrays: The rows are reversed.\n",
        "\n",
        "For higher-dimensional arrays: The operation is applied to the first axis (axis 0).\n",
        "\n",
        "Example with a 2D Array:"
      ],
      "metadata": {
        "id": "q6rJunsVME52"
      }
    },
    {
      "cell_type": "code",
      "source": [
        "# Create a 2D array\n",
        "array = np.array([[1, 2, 3],\n",
        "                  [4, 5, 6]])\n",
        "\n",
        "# Flip vertically (reverse rows)\n",
        "result = np.flipud(array)\n",
        "print(\"Original array:\\n\", array)\n",
        "print(\"flipud result:\\n\", result)\n"
      ],
      "metadata": {
        "colab": {
          "base_uri": "https://localhost:8080/"
        },
        "id": "4edyVLjEMJll",
        "outputId": "ff9fafab-d886-498e-8b84-e9c172536cee"
      },
      "execution_count": 15,
      "outputs": [
        {
          "output_type": "stream",
          "name": "stdout",
          "text": [
            "Original array:\n",
            " [[1 2 3]\n",
            " [4 5 6]]\n",
            "flipud result:\n",
            " [[4 5 6]\n",
            " [1 2 3]]\n"
          ]
        }
      ]
    },
    {
      "cell_type": "markdown",
      "source": [
        "**9. Discuss the functionality of the array_split() method in NumPy. How does it handle uneven splits?**"
      ],
      "metadata": {
        "id": "rqquXrVKMbOG"
      }
    },
    {
      "cell_type": "markdown",
      "source": [
        "The numpy.array_split() method is used to split an array into multiple sub-arrays. It is similar to numpy.split() but with the key advantage that it can handle uneven splits gracefully, making it more flexible.\n",
        "\n",
        "Key Features of array_split():\n",
        "\n",
        "1. Splits Along an Axis:\n",
        "\n",
        "You can specify the axis along which to split the array (default is axis 0).\n",
        "\n",
        "2. Handles Uneven Splits:\n",
        "\n",
        "Unlike numpy.split(), which raises an error if the array cannot be split evenly, array_split() distributes the extra elements among the first few sub-arrays.\n",
        "\n",
        "3. Returns Sub-Arrays:\n",
        "\n",
        "The method returns a list of ndarray objects representing the sub-arrays.\n",
        "\n",
        "Syntax: numpy.array_split(array, indices_or_sections, axis=0)\n",
        "\n",
        "a. array: The input array to split.\n",
        "\n",
        "b. indices_or_sections: Specifies how to split the array:\n",
        "\n",
        "If an integer n is provided, the array is divided into n sub-arrays (evenly or unevenly).\n",
        "\n",
        "If a sequence (list or array) of indices is provided, the array is split at the specified positions.\n",
        "\n",
        "c. axis: The axis along which the array is split (default is 0).\n",
        "\n",
        "Handling Uneven Splits:\n",
        "\n",
        "When the array cannot be evenly divided into the specified number of sub-arrays, array_split() allocates the extra elements to the earlier sub-arrays, ensuring all sub-arrays are as balanced as possible.\n",
        "\n",
        "Examples:\n",
        "1. Splitting a 1D Array Evenly:"
      ],
      "metadata": {
        "id": "ZVYQyJbIMjBA"
      }
    },
    {
      "cell_type": "code",
      "source": [
        "import numpy as np\n",
        "\n",
        "array = np.array([1, 2, 3, 4, 5, 6])\n",
        "\n",
        "# Split into 3 equal parts\n",
        "result = np.array_split(array, 3)\n",
        "print(\"Result:\", result)\n"
      ],
      "metadata": {
        "colab": {
          "base_uri": "https://localhost:8080/"
        },
        "id": "hO_eNKKSN5rL",
        "outputId": "e9df4930-cd1f-4bc4-a120-fcbeb25c2073"
      },
      "execution_count": 16,
      "outputs": [
        {
          "output_type": "stream",
          "name": "stdout",
          "text": [
            "Result: [array([1, 2]), array([3, 4]), array([5, 6])]\n"
          ]
        }
      ]
    },
    {
      "cell_type": "markdown",
      "source": [
        "**10. Explain the concepts of vectorization and broadcasting in NumPy. How do they contribute to efficient array operations?**"
      ],
      "metadata": {
        "id": "3ZfN1vpvOE9e"
      }
    },
    {
      "cell_type": "markdown",
      "source": [
        "Both vectorization and broadcasting are powerful concepts in NumPy that contribute significantly to its efficiency and performance in array operations. They help eliminate the need for explicit loops, enabling faster computations and more readable code.\n",
        "\n",
        "1. Vectorization\n",
        "\n",
        "Definition:\n",
        "\n",
        "Vectorization is the process of applying operations directly on entire arrays (or \"vectors\") instead of using explicit loops to iterate over individual elements. It leverages NumPy's internal optimizations, which are implemented in C, to perform operations efficiently.\n",
        "\n",
        "Key Features:\n",
        "a. Eliminates the need for Python for loops.\n",
        "b. Improves code readability and reduces boilerplate code.\n",
        "c. Operations are performed at compiled speeds (in C), making them much faster than standard Python loops.\n",
        "\n",
        "Example:\n",
        "\n",
        "Without Vectorization (Using Loops):\n"
      ],
      "metadata": {
        "id": "xIbkDTT8O_i8"
      }
    },
    {
      "cell_type": "code",
      "source": [
        "import numpy as np\n",
        "\n",
        "# Create two arrays\n",
        "a = np.array([1, 2, 3, 4])\n",
        "b = np.array([5, 6, 7, 8])\n",
        "\n",
        "# Element-wise addition using a loop\n",
        "result = []\n",
        "for i in range(len(a)):\n",
        "    result.append(a[i] + b[i])\n",
        "\n",
        "print(\"Result without vectorization:\", result)\n"
      ],
      "metadata": {
        "colab": {
          "base_uri": "https://localhost:8080/"
        },
        "id": "GtPv5zAlPQYB",
        "outputId": "ad47beff-b1ff-477c-eb88-16573c4e5708"
      },
      "execution_count": 17,
      "outputs": [
        {
          "output_type": "stream",
          "name": "stdout",
          "text": [
            "Result without vectorization: [6, 8, 10, 12]\n"
          ]
        }
      ]
    },
    {
      "cell_type": "markdown",
      "source": [
        "2. Broadcasting\n",
        "\n",
        "Definition:\n",
        "\n",
        "Broadcasting is a technique that allows NumPy to perform operations on arrays of different shapes and sizes by \"stretching\" smaller arrays to match the dimensions of the larger array without copying data.\n",
        "\n",
        "Rules of Broadcasting:\n",
        "\n",
        "a. If the arrays differ in the number of dimensions, the smaller array is padded with extra dimensions (of size 1) on the left until the shapes match.\n",
        "\n",
        "b. If the shape of one array is 1 along a dimension, it is \"stretched\" to match the size of the other array along that dimension.\n",
        "\n",
        "c. If the sizes along a dimension do not match and neither is 1, broadcasting raises an error.\n",
        "\n",
        "Key Features:\n",
        "1. Enables operations between arrays of different shapes.\n",
        "2. Avoids unnecessary memory usage by not replicating smaller arrays.\n",
        "3. Simplifies array computations by automatically handling shape mismatches.\n",
        "\n",
        "Examples of Broadcasting:\n",
        "\n",
        "Example 1: Scalar and Array:"
      ],
      "metadata": {
        "id": "M8OV9H56Pb4z"
      }
    },
    {
      "cell_type": "code",
      "source": [
        "import numpy as np\n",
        "\n",
        "# Add a scalar to an array\n",
        "a = np.array([1, 2, 3])\n",
        "result = a + 5\n",
        "print(\"Broadcasting scalar to array:\", result)\n"
      ],
      "metadata": {
        "colab": {
          "base_uri": "https://localhost:8080/"
        },
        "id": "ELM5QdxBPu-5",
        "outputId": "868e993f-0790-4d04-ed21-cc84e46ed3bc"
      },
      "execution_count": 18,
      "outputs": [
        {
          "output_type": "stream",
          "name": "stdout",
          "text": [
            "Broadcasting scalar to array: [6 7 8]\n"
          ]
        }
      ]
    },
    {
      "cell_type": "code",
      "source": [
        "#Example 2: Arrays with Different Shapes:\n",
        "\n",
        "# Create two arrays\n",
        "a = np.array([[1, 2, 3], [4, 5, 6]])\n",
        "b = np.array([10, 20, 30])\n",
        "\n",
        "# Add two arrays\n",
        "result = a + b\n",
        "print(\"Broadcasting arrays of different shapes:\\n\", result)\n",
        "\n"
      ],
      "metadata": {
        "colab": {
          "base_uri": "https://localhost:8080/"
        },
        "id": "ANvdYOHDP19l",
        "outputId": "8e01bd2f-9aa4-453d-cdbe-21b4f87d0e86"
      },
      "execution_count": 19,
      "outputs": [
        {
          "output_type": "stream",
          "name": "stdout",
          "text": [
            "Broadcasting arrays of different shapes:\n",
            " [[11 22 33]\n",
            " [14 25 36]]\n"
          ]
        }
      ]
    },
    {
      "cell_type": "code",
      "source": [
        "#Example 3: Higher-Dimensional Arrays:\n",
        "\n",
        "# Create two arrays\n",
        "a = np.array([[[1], [2], [3]]])  # Shape (1, 3, 1)\n",
        "b = np.array([[10, 20]])         # Shape (1, 2)\n",
        "\n",
        "# Add arrays\n",
        "result = a + b\n",
        "print(\"Broadcasting higher-dimensional arrays:\\n\", result)\n"
      ],
      "metadata": {
        "colab": {
          "base_uri": "https://localhost:8080/"
        },
        "id": "uNn-h_uwQA_r",
        "outputId": "e73dcfbb-af92-4167-fa7b-28fe27b88231"
      },
      "execution_count": 20,
      "outputs": [
        {
          "output_type": "stream",
          "name": "stdout",
          "text": [
            "Broadcasting higher-dimensional arrays:\n",
            " [[[11 21]\n",
            "  [12 22]\n",
            "  [13 23]]]\n"
          ]
        }
      ]
    },
    {
      "cell_type": "markdown",
      "source": [
        "**Practical Questions:**"
      ],
      "metadata": {
        "id": "rpB24aoiQPA0"
      }
    },
    {
      "cell_type": "markdown",
      "source": [
        "**1. Create a 3x3 NumPy array with random integers between 1 and 100. Then, interchange its rows and columns.**\n"
      ],
      "metadata": {
        "id": "hz03x3twQTDd"
      }
    },
    {
      "cell_type": "code",
      "source": [
        "import numpy as np\n",
        "\n",
        "# Create a 3x3 NumPy array with random integers between 1 and 100\n",
        "array = np.random.randint(1, 101, size=(3, 3))\n",
        "\n",
        "# Interchange rows and columns (transpose the array)\n",
        "transposed_array = array.T\n",
        "\n",
        "print(\"Original Array:\")\n",
        "print(array)\n",
        "\n",
        "print(\"\\nTransposed Array:\")\n",
        "print(transposed_array)\n",
        "\n"
      ],
      "metadata": {
        "colab": {
          "base_uri": "https://localhost:8080/"
        },
        "id": "AUoEzB5KQzfB",
        "outputId": "cf0fe08d-4c53-492c-e06e-64cc68f77052"
      },
      "execution_count": 22,
      "outputs": [
        {
          "output_type": "stream",
          "name": "stdout",
          "text": [
            "Original Array:\n",
            "[[34 87 12]\n",
            " [79 21 94]\n",
            " [10 86 94]]\n",
            "\n",
            "Transposed Array:\n",
            "[[34 79 10]\n",
            " [87 21 86]\n",
            " [12 94 94]]\n"
          ]
        }
      ]
    },
    {
      "cell_type": "markdown",
      "source": [
        "**2. Generate a 1D NumPy array with 10 elements. Reshape it into a 2x5 array, then into a 5x2 array.**\n"
      ],
      "metadata": {
        "id": "wYKDkJ2oRR-g"
      }
    },
    {
      "cell_type": "code",
      "source": [
        "import numpy as np\n",
        "\n",
        "# Generate a 1D NumPy array with 10 elements\n",
        "array_1d = np.arange(1, 11)\n",
        "\n",
        "# Reshape the array into a 2x5 array\n",
        "array_2x5 = array_1d.reshape(2, 5)\n",
        "\n",
        "# Reshape the array into a 5x2 array\n",
        "array_5x2 = array_1d.reshape(5, 2)\n",
        "\n",
        "print(\"Original 1D Array:\")\n",
        "print(array_1d)\n",
        "\n",
        "print(\"\\nReshaped to 2x5 Array:\")\n",
        "print(array_2x5)\n",
        "\n",
        "print(\"\\nReshaped to 5x2 Array:\")\n",
        "print(array_5x2)\n"
      ],
      "metadata": {
        "colab": {
          "base_uri": "https://localhost:8080/"
        },
        "id": "VEjLpGjzRYCP",
        "outputId": "b9ced773-61af-461c-c6a6-cd8c687651f9"
      },
      "execution_count": 25,
      "outputs": [
        {
          "output_type": "stream",
          "name": "stdout",
          "text": [
            "Original 1D Array:\n",
            "[ 1  2  3  4  5  6  7  8  9 10]\n",
            "\n",
            "Reshaped to 2x5 Array:\n",
            "[[ 1  2  3  4  5]\n",
            " [ 6  7  8  9 10]]\n",
            "\n",
            "Reshaped to 5x2 Array:\n",
            "[[ 1  2]\n",
            " [ 3  4]\n",
            " [ 5  6]\n",
            " [ 7  8]\n",
            " [ 9 10]]\n"
          ]
        }
      ]
    },
    {
      "cell_type": "markdown",
      "source": [
        "**3. Create a 4x4 NumPy array with random float values. Add a border of zeros around it, resulting in a 6x6 array.**\n"
      ],
      "metadata": {
        "id": "nvgyOmBDRu43"
      }
    },
    {
      "cell_type": "code",
      "source": [
        "import numpy as np\n",
        "\n",
        "# Create a 4x4 NumPy array with random float values\n",
        "array_4x4 = np.random.rand(4, 4)\n",
        "\n",
        "# Add a border of zeros around the 4x4 array to make it 6x6\n",
        "array_6x6 = np.pad(array_4x4, pad_width=1, mode='constant', constant_values=0)\n",
        "\n",
        "print(\"Original 4x4 Array:\")\n",
        "print(array_4x4)\n",
        "\n",
        "print(\"\\n6x6 Array with Border of Zeros:\")\n",
        "print(array_6x6)\n"
      ],
      "metadata": {
        "colab": {
          "base_uri": "https://localhost:8080/"
        },
        "id": "gMX-YH5JRyEY",
        "outputId": "93959601-e0da-458c-a79a-f26e59d60a7f"
      },
      "execution_count": 26,
      "outputs": [
        {
          "output_type": "stream",
          "name": "stdout",
          "text": [
            "Original 4x4 Array:\n",
            "[[0.89948454 0.55802868 0.70711554 0.10375457]\n",
            " [0.70504609 0.35577204 0.39371272 0.40986445]\n",
            " [0.80337574 0.30053233 0.12220258 0.88390093]\n",
            " [0.32885106 0.83222178 0.04034263 0.35701531]]\n",
            "\n",
            "6x6 Array with Border of Zeros:\n",
            "[[0.         0.         0.         0.         0.         0.        ]\n",
            " [0.         0.89948454 0.55802868 0.70711554 0.10375457 0.        ]\n",
            " [0.         0.70504609 0.35577204 0.39371272 0.40986445 0.        ]\n",
            " [0.         0.80337574 0.30053233 0.12220258 0.88390093 0.        ]\n",
            " [0.         0.32885106 0.83222178 0.04034263 0.35701531 0.        ]\n",
            " [0.         0.         0.         0.         0.         0.        ]]\n"
          ]
        }
      ]
    },
    {
      "cell_type": "markdown",
      "source": [
        "**4. Using NumPy, create an array of integers from 10 to 60 with a step of 5.**\n"
      ],
      "metadata": {
        "id": "6oz8EO34R78d"
      }
    },
    {
      "cell_type": "code",
      "source": [
        "import numpy as np\n",
        "\n",
        "# Create an array of integers from 10 to 60 with a step of 5\n",
        "array = np.arange(10, 61, 5)\n",
        "\n",
        "print(\"Array of integers from 10 to 60 with a step of 5:\")\n",
        "print(array)\n"
      ],
      "metadata": {
        "colab": {
          "base_uri": "https://localhost:8080/"
        },
        "id": "EPYDGUoqSBX-",
        "outputId": "35f88b54-18e2-43d5-c9d7-63703edb055e"
      },
      "execution_count": 27,
      "outputs": [
        {
          "output_type": "stream",
          "name": "stdout",
          "text": [
            "Array of integers from 10 to 60 with a step of 5:\n",
            "[10 15 20 25 30 35 40 45 50 55 60]\n"
          ]
        }
      ]
    },
    {
      "cell_type": "markdown",
      "source": [
        "**5. Create a NumPy array of strings ['python', 'numpy', 'pandas']. Apply different case transformations(uppercase, lowercase, title case, etc.) to each element**"
      ],
      "metadata": {
        "id": "82QRvrE-SIIS"
      }
    },
    {
      "cell_type": "code",
      "source": [
        "import numpy as np\n",
        "\n",
        "# Create a NumPy array of strings\n",
        "array = np.array(['python', 'numpy', 'pandas'])\n",
        "\n",
        "# Apply different case transformations\n",
        "uppercase_array = np.char.upper(array)\n",
        "lowercase_array = np.char.lower(array)\n",
        "titlecase_array = np.char.title(array)\n",
        "capitalize_array = np.char.capitalize(array)\n",
        "\n",
        "print(\"Original Array:\")\n",
        "print(array)\n",
        "\n",
        "print(\"\\nUppercase Transformation:\")\n",
        "print(uppercase_array)\n",
        "\n",
        "print(\"\\nLowercase Transformation:\")\n",
        "print(lowercase_array)\n",
        "\n",
        "print(\"\\nTitle Case Transformation:\")\n",
        "print(titlecase_array)\n",
        "\n",
        "print(\"\\nCapitalize Transformation:\")\n",
        "print(capitalize_array)\n"
      ],
      "metadata": {
        "colab": {
          "base_uri": "https://localhost:8080/"
        },
        "id": "0FAJky_2SQCc",
        "outputId": "1fbb19cf-9c2b-48f4-c79f-ea04d1131bed"
      },
      "execution_count": 28,
      "outputs": [
        {
          "output_type": "stream",
          "name": "stdout",
          "text": [
            "Original Array:\n",
            "['python' 'numpy' 'pandas']\n",
            "\n",
            "Uppercase Transformation:\n",
            "['PYTHON' 'NUMPY' 'PANDAS']\n",
            "\n",
            "Lowercase Transformation:\n",
            "['python' 'numpy' 'pandas']\n",
            "\n",
            "Title Case Transformation:\n",
            "['Python' 'Numpy' 'Pandas']\n",
            "\n",
            "Capitalize Transformation:\n",
            "['Python' 'Numpy' 'Pandas']\n"
          ]
        }
      ]
    },
    {
      "cell_type": "markdown",
      "source": [
        "**6. Generate a NumPy array of words. Insert a space between each character of every word in the array.**\n"
      ],
      "metadata": {
        "id": "xgAdBl1ySY4b"
      }
    },
    {
      "cell_type": "code",
      "source": [
        "import numpy as np\n",
        "\n",
        "# Generate a NumPy array of words\n",
        "array = np.array(['python', 'numpy', 'pandas'])\n",
        "\n",
        "# Insert a space between each character of every word in the array\n",
        "array_with_spaces = np.array([' '.join(word) for word in array])\n",
        "\n",
        "print(\"Original Array:\")\n",
        "print(array)\n",
        "\n",
        "print(\"\\nArray with Space Between Characters:\")\n",
        "print(array_with_spaces)\n"
      ],
      "metadata": {
        "colab": {
          "base_uri": "https://localhost:8080/"
        },
        "id": "s-2i3QFqSdOE",
        "outputId": "3dfc2e6a-325f-435d-9d0a-756650f360dd"
      },
      "execution_count": 29,
      "outputs": [
        {
          "output_type": "stream",
          "name": "stdout",
          "text": [
            "Original Array:\n",
            "['python' 'numpy' 'pandas']\n",
            "\n",
            "Array with Space Between Characters:\n",
            "['p y t h o n' 'n u m p y' 'p a n d a s']\n"
          ]
        }
      ]
    },
    {
      "cell_type": "markdown",
      "source": [
        "**7. Create two 2D NumPy arrays and perform element-wise addition, subtraction, multiplication, and division.**\n"
      ],
      "metadata": {
        "id": "yin0mv0fSnb6"
      }
    },
    {
      "cell_type": "code",
      "source": [
        "import numpy as np\n",
        "\n",
        "# Create two 2D NumPy arrays\n",
        "array1 = np.array([[1, 2, 3], [4, 5, 6], [7, 8, 9]])\n",
        "array2 = np.array([[9, 8, 7], [6, 5, 4], [3, 2, 1]])\n",
        "\n",
        "# Element-wise addition\n",
        "addition_result = array1 + array2\n",
        "\n",
        "# Element-wise subtraction\n",
        "subtraction_result = array1 - array2\n",
        "\n",
        "# Element-wise multiplication\n",
        "multiplication_result = array1 * array2\n",
        "\n",
        "# Element-wise division\n",
        "division_result = array1 / array2\n",
        "\n",
        "print(\"Array 1:\")\n",
        "print(array1)\n",
        "\n",
        "print(\"\\nArray 2:\")\n",
        "print(array2)\n",
        "\n",
        "print(\"\\nElement-wise Addition:\")\n",
        "print(addition_result)\n",
        "\n",
        "print(\"\\nElement-wise Subtraction:\")\n",
        "print(subtraction_result)\n",
        "\n",
        "print(\"\\nElement-wise Multiplication:\")\n",
        "print(multiplication_result)\n",
        "\n",
        "print(\"\\nElement-wise Division:\")\n",
        "print(division_result)\n"
      ],
      "metadata": {
        "colab": {
          "base_uri": "https://localhost:8080/"
        },
        "id": "IR9sdQrzStZP",
        "outputId": "cd084dd8-637a-488f-ad93-9a2007bf8702"
      },
      "execution_count": 30,
      "outputs": [
        {
          "output_type": "stream",
          "name": "stdout",
          "text": [
            "Array 1:\n",
            "[[1 2 3]\n",
            " [4 5 6]\n",
            " [7 8 9]]\n",
            "\n",
            "Array 2:\n",
            "[[9 8 7]\n",
            " [6 5 4]\n",
            " [3 2 1]]\n",
            "\n",
            "Element-wise Addition:\n",
            "[[10 10 10]\n",
            " [10 10 10]\n",
            " [10 10 10]]\n",
            "\n",
            "Element-wise Subtraction:\n",
            "[[-8 -6 -4]\n",
            " [-2  0  2]\n",
            " [ 4  6  8]]\n",
            "\n",
            "Element-wise Multiplication:\n",
            "[[ 9 16 21]\n",
            " [24 25 24]\n",
            " [21 16  9]]\n",
            "\n",
            "Element-wise Division:\n",
            "[[0.11111111 0.25       0.42857143]\n",
            " [0.66666667 1.         1.5       ]\n",
            " [2.33333333 4.         9.        ]]\n"
          ]
        }
      ]
    },
    {
      "cell_type": "markdown",
      "source": [
        "**8. Use NumPy to create a 5x5 identity matrix, then extract its diagonal elements.**\n"
      ],
      "metadata": {
        "id": "jzGKNPTVSziG"
      }
    },
    {
      "cell_type": "code",
      "source": [
        "import numpy as np\n",
        "\n",
        "# Create a 5x5 identity matrix\n",
        "identity_matrix = np.eye(5)\n",
        "\n",
        "# Extract the diagonal elements\n",
        "diagonal_elements = np.diagonal(identity_matrix)\n",
        "\n",
        "print(\"5x5 Identity Matrix:\")\n",
        "print(identity_matrix)\n",
        "\n",
        "print(\"\\nDiagonal Elements:\")\n",
        "print(diagonal_elements)\n"
      ],
      "metadata": {
        "colab": {
          "base_uri": "https://localhost:8080/"
        },
        "id": "3cxmQaKoS4du",
        "outputId": "a7b57b04-e2fa-4469-f5d2-2dca73e2a599"
      },
      "execution_count": 31,
      "outputs": [
        {
          "output_type": "stream",
          "name": "stdout",
          "text": [
            "5x5 Identity Matrix:\n",
            "[[1. 0. 0. 0. 0.]\n",
            " [0. 1. 0. 0. 0.]\n",
            " [0. 0. 1. 0. 0.]\n",
            " [0. 0. 0. 1. 0.]\n",
            " [0. 0. 0. 0. 1.]]\n",
            "\n",
            "Diagonal Elements:\n",
            "[1. 1. 1. 1. 1.]\n"
          ]
        }
      ]
    },
    {
      "cell_type": "markdown",
      "source": [
        "**9. Generate a NumPy array of 100 random integers between 0 and 1000. Find and display all prime numbers in this array.**"
      ],
      "metadata": {
        "id": "AmTXU9hRTEZ-"
      }
    },
    {
      "cell_type": "code",
      "source": [
        "import numpy as np\n",
        "\n",
        "# Function to check if a number is prime\n",
        "def is_prime(n):\n",
        "    if n <= 1:\n",
        "        return False\n",
        "    for i in range(2, int(n**0.5) + 1):\n",
        "        if n % i == 0:\n",
        "            return False\n",
        "    return True\n",
        "\n",
        "# Generate a NumPy array of 100 random integers between 0 and 1000\n",
        "random_array = np.random.randint(0, 1001, size=100)\n",
        "\n",
        "# Find all prime numbers in the array\n",
        "prime_numbers = [num for num in random_array if is_prime(num)]\n",
        "\n",
        "print(\"Array of 100 random integers:\")\n",
        "print(random_array)\n",
        "\n",
        "print(\"\\nPrime numbers in the array:\")\n",
        "print(prime_numbers)\n"
      ],
      "metadata": {
        "colab": {
          "base_uri": "https://localhost:8080/"
        },
        "id": "YZkGXs5uTMji",
        "outputId": "8e1f6f73-a6bb-4175-9a8b-c4479a0b18a8"
      },
      "execution_count": 32,
      "outputs": [
        {
          "output_type": "stream",
          "name": "stdout",
          "text": [
            "Array of 100 random integers:\n",
            "[ 248   79  558  879  530  875  109  868  538  355  489  390  633   82\n",
            "  946  452  795  145  223  119  410   81  967  446   93 1000  444  975\n",
            "  472  133  970  904  576  256  737  625  483  160  867  833  547  601\n",
            "  533  993  728  240  957  220  670  975  830  410  908  771  949  569\n",
            "  634  431  287  701  564  353  436   37  820   37  969  840  153  948\n",
            "  904  184  988  115  613  550   96  756  815  775  470  548  570  321\n",
            "  168    9  205   56  441   88  628  948  484  936  645  478  448  572\n",
            "  580  649]\n",
            "\n",
            "Prime numbers in the array:\n",
            "[79, 109, 223, 967, 547, 601, 569, 431, 701, 353, 37, 37, 613]\n"
          ]
        }
      ]
    },
    {
      "cell_type": "markdown",
      "source": [
        "**10. Create a NumPy array representing daily temperatures for a month. Calculate and display the weekly averages**"
      ],
      "metadata": {
        "id": "05WW7-KzTdtK"
      }
    },
    {
      "cell_type": "code",
      "source": [
        "import numpy as np\n",
        "\n",
        "# Create a NumPy array representing daily temperatures for a month (30 days)\n",
        "daily_temperatures = np.random.randint(15, 35, size=30)  # Random temperatures between 15 and 35 degrees Celsius\n",
        "\n",
        "\n",
        "weekly_temperatures = daily_temperatures.reshape(30, 1)\n",
        "\n",
        "\n",
        "weekly_averages = weekly_temperatures.mean(axis=1)\n",
        "\n",
        "print(\"Daily Temperatures for the Month:\")\n",
        "print(daily_temperatures)\n",
        "\n",
        "print(\"\\nWeekly Temperatures ( months x days):\")\n",
        "print(weekly_temperatures)\n",
        "\n",
        "print(\"\\nWeekly Averages:\")\n",
        "print(weekly_averages)\n"
      ],
      "metadata": {
        "colab": {
          "base_uri": "https://localhost:8080/"
        },
        "id": "uR1GjenkVNz_",
        "outputId": "55f57483-7769-4d2e-f7cd-fc7d79f06cac"
      },
      "execution_count": 37,
      "outputs": [
        {
          "output_type": "stream",
          "name": "stdout",
          "text": [
            "Daily Temperatures for the Month:\n",
            "[16 24 18 32 22 21 31 21 31 24 17 32 15 34 19 30 30 16 23 34 30 18 33 22\n",
            " 20 33 20 21 25 20]\n",
            "\n",
            "Weekly Temperatures ( months x days):\n",
            "[[16]\n",
            " [24]\n",
            " [18]\n",
            " [32]\n",
            " [22]\n",
            " [21]\n",
            " [31]\n",
            " [21]\n",
            " [31]\n",
            " [24]\n",
            " [17]\n",
            " [32]\n",
            " [15]\n",
            " [34]\n",
            " [19]\n",
            " [30]\n",
            " [30]\n",
            " [16]\n",
            " [23]\n",
            " [34]\n",
            " [30]\n",
            " [18]\n",
            " [33]\n",
            " [22]\n",
            " [20]\n",
            " [33]\n",
            " [20]\n",
            " [21]\n",
            " [25]\n",
            " [20]]\n",
            "\n",
            "Weekly Averages:\n",
            "[16. 24. 18. 32. 22. 21. 31. 21. 31. 24. 17. 32. 15. 34. 19. 30. 30. 16.\n",
            " 23. 34. 30. 18. 33. 22. 20. 33. 20. 21. 25. 20.]\n"
          ]
        }
      ]
    }
  ]
}